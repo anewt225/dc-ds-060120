{
 "cells": [
  {
   "cell_type": "markdown",
   "metadata": {},
   "source": [
    "# Sampling Distributions\n",
    "\n",
    "__Agenda__\n",
    "\n",
    "- Difference between population and sample\n",
    "- How can we get a good sample?\n",
    "- Point estimators from sample\n",
    "- Sampling distribution, especially sampling distribution of the mean\n",
    "- Central Limit Theorem - statement and use of it.\n",
    "- Recap"
   ]
  },
  {
   "cell_type": "markdown",
   "metadata": {},
   "source": [
    "## Population vs Sample\n",
    "\n",
    "__population__ A population is the set of all elements of interest in a study. (Finite population and infinite population)\n",
    "\n",
    "__sample__ A sample is a subset of the population.\n",
    "\n",
    "In order for us to make any determinations about a population, we must first get information about it.\n",
    "\n",
    "Because it's impractical to ever usually get data about *everyone* in a population, we must take a sample.\n",
    "\n",
    "__Objective of Sampling__\n",
    "\n",
    "When we gather a sample, we are trying to minimize the bias of our sample while also minimizing our cost.\n",
    "\n",
    "Our sample should be:\n",
    "\n",
    "* Randomly selected- every item should have an *equal* chance of being selected\n",
    "* Representative of our population\n",
    "\n",
    "\n",
    "<img src = \"./img/sample_pop.png\" width = 500/>\n",
    "\n",
    "**Random sampling is not easy to do, let's look at an example:**\n",
    "\n",
    "- [1936 Elections](https://www.math.upenn.edu/~deturck/m170/wk4/lecture/case1.html)\n",
    "\n",
    "- [US Census](https://www.math.upenn.edu/~deturck/m170/wk4/lecture/case3.html)\n",
    "\n",
    "- [Covid-19](https://www.nbcnewyork.com/news/local/new-york-virus-deaths-top-15k-cuomo-expected-to-detail-plan-to-fight-nursing-home-outbreaks/2386556/)\n",
    "\n",
    "\n",
    "\n"
   ]
  },
  {
   "cell_type": "markdown",
   "metadata": {},
   "source": [
    "__Note:__\n",
    "\n",
    "We can consider random sampling as an 'random experiment' and then when we calculate mean, variance, standard deviation, median etc. these are functions on the outcomes of this experiment. We have a name for such functions can you remember it?\n",
    "\n",
    "## Point Estimates\n",
    "\n",
    "In statistics, point estimation involves the use of sample data to calculate a single value (known as a point estimate since it identifies a point in some parameter space) which is to serve as a \"best guess\" or \"best estimate\" of an unknown population parameter (for example, the population mean). More formally, it is the application of a point estimator to the data to obtain a point estimate. \n",
    "\n",
    "\n",
    "<img src = './img/sample_stats.png' width = 450/>\n",
    "\n",
    "### It's your turn :)\n",
    "\n",
    "[Barcelona Accidents](https://github.com/DataScienceUB/introduction-datascience-python-book)"
   ]
  },
  {
   "cell_type": "markdown",
   "metadata": {},
   "source": [
    "This notebook is inspired from chapter 4 of : [Introduction to Datascience](https://github.com/DataScienceUB/introduction-datascience-python-book)"
   ]
  },
  {
   "cell_type": "markdown",
   "metadata": {},
   "source": [
    "***mu = population mean\n",
    "\n",
    "***x_bar = sample mean***\n",
    "\n",
    "***sigma = standard deviation of population***\n",
    "\n",
    "***s = standard deviation of sample***"
   ]
  },
  {
   "cell_type": "code",
   "execution_count": 1,
   "metadata": {},
   "outputs": [],
   "source": [
    "import pandas as pd \n",
    "import numpy as np\n",
    "import matplotlib.pyplot as plt\n",
    "%matplotlib inline\n"
   ]
  },
  {
   "cell_type": "markdown",
   "metadata": {},
   "source": [
    "Let us suppose that we are interested in describing the daily number of traffic acci- dents in the streets of Barcelona in 2013. If we have access to the population, the computation of this parameter is a simple operation: the total number of accidents divided by 365."
   ]
  },
  {
   "cell_type": "code",
   "execution_count": 2,
   "metadata": {},
   "outputs": [
    {
     "name": "stdout",
     "output_type": "stream",
     "text": [
      "{'encoding': 'ISO-8859-1', 'confidence': 0.73, 'language': ''}\n"
     ]
    }
   ],
   "source": [
    "import chardet\n",
    "# look at the first ten thousand bytes to guess the character encoding\n",
    "with open(\"data/ACCIDENTS_GU_BCN_2013.csv\", 'rb') as rawdata:\n",
    "    result = chardet.detect(rawdata.read(100000))\n",
    "\n",
    "# check what the character encoding might be\n",
    "print(result)"
   ]
  },
  {
   "cell_type": "code",
   "execution_count": 3,
   "metadata": {},
   "outputs": [
    {
     "name": "stdout",
     "output_type": "stream",
     "text": [
      "25.90958904109589\n"
     ]
    }
   ],
   "source": [
    "data = pd.read_csv(\"data/ACCIDENTS_GU_BCN_2013.csv\", encoding= \"ISO-8859-1\")\n",
    "data['Date'] =  data[u'Mes de any'].apply(lambda x: str(x))  + \"-\" + data[u'Dia de mes'].apply(lambda x: str(x)) + \"-\" + \"2013\"\n",
    "\n",
    "\n",
    "data['Date'] = pd.to_datetime(data['Date'])\n",
    "accidents = data.groupby(['Date']).size()\n",
    "print(accidents.mean())"
   ]
  },
  {
   "cell_type": "code",
   "execution_count": 5,
   "metadata": {},
   "outputs": [
    {
     "data": {
      "text/plain": [
       "Date\n",
       "2013-01-01    16\n",
       "2013-01-02    18\n",
       "2013-01-03    17\n",
       "2013-01-04    29\n",
       "2013-01-05    17\n",
       "              ..\n",
       "2013-12-27    21\n",
       "2013-12-28    12\n",
       "2013-12-29    13\n",
       "2013-12-30    26\n",
       "2013-12-31    19\n",
       "Length: 365, dtype: int64"
      ]
     },
     "execution_count": 5,
     "metadata": {},
     "output_type": "execute_result"
    }
   ],
   "source": [
    "accidents ## This is population data - since we have every single accident recorded in this data.\n",
    "## this is mu, since it is population"
   ]
  },
  {
   "cell_type": "code",
   "execution_count": 6,
   "metadata": {},
   "outputs": [],
   "source": [
    "mu = accidents.mean()"
   ]
  },
  {
   "cell_type": "code",
   "execution_count": 7,
   "metadata": {},
   "outputs": [
    {
     "name": "stdout",
     "output_type": "stream",
     "text": [
      "25.90958904109589\n"
     ]
    }
   ],
   "source": [
    "print(mu)"
   ]
  },
  {
   "cell_type": "code",
   "execution_count": 11,
   "metadata": {},
   "outputs": [],
   "source": [
    "df = accidents.to_frame() ##create a dataframe to view data\n",
    "sample = df.sample(n=20) ##now we have 1 sample, with 20 observations"
   ]
  },
  {
   "cell_type": "code",
   "execution_count": 14,
   "metadata": {},
   "outputs": [
    {
     "data": {
      "text/plain": [
       "28.25"
      ]
     },
     "execution_count": 14,
     "metadata": {},
     "output_type": "execute_result"
    }
   ],
   "source": [
    "sample.values.mean() ##Each sample mean is a point estimator for the population mean"
   ]
  },
  {
   "cell_type": "markdown",
   "metadata": {},
   "source": [
    "***Rather than giving point estimates, we will give confidence interval, because of the uncertainty surrounding having just one number***\n",
    "\n",
    "- ***having only one number, due to randomness, could be completely inaccurate***\n",
    "- ***getting a range of repeated samples allows us to give a better estimate***"
   ]
  },
  {
   "cell_type": "markdown",
   "metadata": {},
   "source": [
    "But now, for illustrative purposes, let us suppose that we only have access to a limited part of the data (the sample): the number of accidents during some days of 2013. Can we still give an approximation of the population mean?"
   ]
  },
  {
   "cell_type": "markdown",
   "metadata": {},
   "source": [
    "In our example, because we have access to the population, we can empirically build `the sampling distribution` of the `sample mean` for a given number of observations."
   ]
  },
  {
   "cell_type": "code",
   "execution_count": 15,
   "metadata": {},
   "outputs": [],
   "source": [
    "df = accidents.to_frame() \n",
    "\n",
    "## Number of samples drawn from population\n",
    "## How many times we conducted the experiment\n",
    "N_test = 100\n",
    "\n",
    "## Number of observations for each experiment\n",
    "\n",
    "sample_size = 20\n",
    "\n",
    "means = [0] * N_test\n",
    "# sample generation\n",
    "for i in range(N_test):\n",
    "    sampled_df = df.sample(n = sample_size)\n",
    "    means[i] = sampled_df.values.mean()"
   ]
  },
  {
   "cell_type": "code",
   "execution_count": 16,
   "metadata": {},
   "outputs": [],
   "source": [
    "import seaborn as sns"
   ]
  },
  {
   "cell_type": "code",
   "execution_count": 17,
   "metadata": {},
   "outputs": [
    {
     "data": {
      "image/png": "[encoded data removed]",
      "text/plain": [
       "<Figure size 432x288 with 1 Axes>"
      ]
     },
     "metadata": {
      "needs_background": "light"
     },
     "output_type": "display_data"
    }
   ],
   "source": [
    "sns.distplot(means, kde = False, )\n",
    "\n",
    "plt.vlines(x = np.mean(means), ymin = 0, ymax = 25, label = 'Mean Value of the Sampling Distribution: %.2f'%np.mean(means))\n",
    "\n",
    "plt.vlines(x = accidents.mean(), ymin = 0, ymax = 25,color = 'r', label = 'True Mean Value: %.2f'%accidents.mean())\n",
    "\n",
    "plt.title('Sampling Distribution of the mean')\n",
    "plt.legend(loc = 8)\n",
    "plt.show()"
   ]
  },
  {
   "cell_type": "markdown",
   "metadata": {},
   "source": [
    "***In this next box we show standard deviations to specify why we have to label \"sampling distribution of the MEAN\" and not just sampling distribution...in this case we label \"sampling distribution of the standard deviations***\n"
   ]
  },
  {
   "cell_type": "code",
   "execution_count": 23,
   "metadata": {},
   "outputs": [],
   "source": [
    "df = accidents.to_frame() \n",
    "\n",
    "## Number of samples drawn from population\n",
    "## How many times we conducted the experiment\n",
    "N_test = 100\n",
    "\n",
    "## Number of observations for each experiment\n",
    "\n",
    "sample_size = 20\n",
    "\n",
    "std = [0] * N_test\n",
    "# sample generation\n",
    "for i in range(N_test):\n",
    "    sampled_df = df.sample(n = sample_size)\n",
    "    std[i] = sampled_df.values.std()"
   ]
  },
  {
   "cell_type": "code",
   "execution_count": 21,
   "metadata": {},
   "outputs": [
    {
     "data": {
      "image/png": "[encoded data removed]",
      "text/plain": [
       "<Figure size 432x288 with 1 Axes>"
      ]
     },
     "metadata": {
      "needs_background": "light"
     },
     "output_type": "display_data"
    }
   ],
   "source": [
    "sns.distplot(std, kde = False, )\n",
    "\n",
    "plt.vlines(x = np.std(std), ymin = 0, ymax = 25, label = 'Standard Deviations Value of the Sampling Distribution: %.2f'%np.mean(means))\n",
    "\n",
    "plt.vlines(x = accidents.std(), ymin = 0, ymax = 25,color = 'r', label = 'True STD Value: %.2f'%accidents.std())\n",
    "\n",
    "plt.title('Sampling Distribution of the standard deviations')\n",
    "plt.legend(loc = 8)\n",
    "plt.show()"
   ]
  },
  {
   "cell_type": "markdown",
   "metadata": {},
   "source": [
    "***In this next box, we increase the number of observations. We increase to 100. The maximum would be 365 since there are only 365 days in the year. The increase in number of observations will bring the average of the means for the samples closer to the mean for the population. This is the Central Limit Theorem.***"
   ]
  },
  {
   "cell_type": "code",
   "execution_count": 26,
   "metadata": {},
   "outputs": [],
   "source": [
    "df = accidents.to_frame() \n",
    "\n",
    "## Number of samples drawn from population\n",
    "## How many times we conducted the experiment\n",
    "N_test = 100\n",
    "\n",
    "## Number of observations for each experiment\n",
    "\n",
    "sample_size = 100\n",
    "\n",
    "means = [0] * N_test\n",
    "# sample generation\n",
    "for i in range(N_test):\n",
    "    sampled_df = df.sample(n = sample_size)\n",
    "    means[i] = sampled_df.values.mean()"
   ]
  },
  {
   "cell_type": "code",
   "execution_count": 27,
   "metadata": {},
   "outputs": [
    {
     "data": {
      "image/png": "[encoded data removed]",
      "text/plain": [
       "<Figure size 432x288 with 1 Axes>"
      ]
     },
     "metadata": {
      "needs_background": "light"
     },
     "output_type": "display_data"
    }
   ],
   "source": [
    "sns.distplot(means, kde = False, )\n",
    "\n",
    "plt.vlines(x = np.mean(means), ymin = 0, ymax = 25, label = 'Mean Value of the Sampling Distribution: %.2f'%np.mean(means))\n",
    "\n",
    "plt.vlines(x = accidents.mean(), ymin = 0, ymax = 25,color = 'r', label = 'True Mean Value: %.2f'%accidents.mean())\n",
    "\n",
    "plt.title('Sampling Distribution of the mean')\n",
    "plt.legend(loc = 8)\n",
    "plt.show()"
   ]
  },
  {
   "cell_type": "markdown",
   "metadata": {},
   "source": [
    "# Central Limit Theorem\n",
    "\n",
    "The Central Limit Theorem states: \n",
    ">when the number of observations in a sample big enough , irrespective of the original distribution of the population, **the sampling mean distribution tends towards a normal distribution**.\n"
   ]
  },
  {
   "cell_type": "markdown",
   "metadata": {},
   "source": [
    "__Note__ in CLT the shape of initial distribution is not important! With enough sample size we can always achieve a distribution very close to normal one.\n",
    "\n",
    "<img src=\"img/clt_with_different.png\" width=\"650\">"
   ]
  }
 ],
 "metadata": {
  "kernelspec": {
   "display_name": "Python 3",
   "language": "python",
   "name": "python3"
  },
  "language_info": {
   "codemirror_mode": {
    "name": "ipython",
    "version": 3
   },
   "file_extension": ".py",
   "mimetype": "text/x-python",
   "name": "python",
   "nbconvert_exporter": "python",
   "pygments_lexer": "ipython3",
   "version": "3.7.6"
  },
  "toc": {
   "base_numbering": 1,
   "nav_menu": {},
   "number_sections": true,
   "sideBar": true,
   "skip_h1_title": false,
   "title_cell": "Table of Contents",
   "title_sidebar": "Contents",
   "toc_cell": false,
   "toc_position": {},
   "toc_section_display": true,
   "toc_window_display": false
  },
  "varInspector": {
   "cols": {
    "lenName": 16,
    "lenType": 16,
    "lenVar": 40
   },
   "kernels_config": {
    "python": {
     "delete_cmd_postfix": "",
     "delete_cmd_prefix": "del ",
     "library": "var_list.py",
     "varRefreshCmd": "print(var_dic_list())"
    },
    "r": {
     "delete_cmd_postfix": ") ",
     "delete_cmd_prefix": "rm(",
     "library": "var_list.r",
     "varRefreshCmd": "cat(var_dic_list()) "
    }
   },
   "types_to_exclude": [
    "module",
    "function",
    "builtin_function_or_method",
    "instance",
    "_Feature"
   ],
   "window_display": false
  }
 },
 "nbformat": 4,
 "nbformat_minor": 2
}
