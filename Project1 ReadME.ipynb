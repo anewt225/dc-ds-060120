{
 "cells": [
  {
   "cell_type": "markdown",
   "metadata": {},
   "source": [
    "# Microsoft Movies\n",
    "\n",
    "#### A Market Entry Proposal\n",
    "\n",
    "## Overview\n",
    "Tasked with the project of finding and analyzing data to guide Microsoft's potential entry into the Movie Industry, this project seeks to provide one way in which Microsoft might analyze limited data to commence this entrance. Analyzing the runtime and production budget of highly rated movies provided recommendations for Microsoft in terms of how long an ideal movie would be, and how much to set aside for the prodcution budget.\n",
    "\n",
    "## Repository Navigation\n",
    "\n",
    "## ReadMe Navigation\n",
    "\n",
    "1. Data\n",
    "2. Analysis\n",
    "3. Visualizations\n",
    "4. Conclusion\n",
    "5. Recommendations for the Future\n",
    "6. Project Info"
   ]
  }
 ],
 "metadata": {
  "kernelspec": {
   "display_name": "Python 3",
   "language": "python",
   "name": "python3"
  },
  "language_info": {
   "codemirror_mode": {
    "name": "ipython",
    "version": 3
   },
   "file_extension": ".py",
   "mimetype": "text/x-python",
   "name": "python",
   "nbconvert_exporter": "python",
   "pygments_lexer": "ipython3",
   "version": "3.7.6"
  }
 },
 "nbformat": 4,
 "nbformat_minor": 4
}
