{
 "cells": [
  {
   "cell_type": "markdown",
   "metadata": {},
   "source": [
    "Recommendation systems composed of:\n",
    "- Prediction\n",
    "- Recommendation\n",
    "\n",
    "Two-sides of recommendation:\n",
    "- Item-based cokllaborative filtering\n",
    "- User-based colaborative filtering"
   ]
  },
  {
   "cell_type": "code",
   "execution_count": 1,
   "metadata": {},
   "outputs": [
    {
     "ename": "ModuleNotFoundError",
     "evalue": "No module named 'pyspark'",
     "output_type": "error",
     "traceback": [
      "\u001b[1;31m---------------------------------------------------------------------------\u001b[0m",
      "\u001b[1;31mModuleNotFoundError\u001b[0m                       Traceback (most recent call last)",
      "\u001b[1;32m<ipython-input-1-221970bf8c0b>\u001b[0m in \u001b[0;36m<module>\u001b[1;34m\u001b[0m\n\u001b[1;32m----> 1\u001b[1;33m \u001b[1;32mfrom\u001b[0m \u001b[0mpyspark\u001b[0m\u001b[1;33m.\u001b[0m\u001b[0mml\u001b[0m\u001b[1;33m.\u001b[0m\u001b[0mrecommendation\u001b[0m \u001b[1;32mimport\u001b[0m \u001b[0mALS\u001b[0m\u001b[1;33m\u001b[0m\u001b[1;33m\u001b[0m\u001b[0m\n\u001b[0m",
      "\u001b[1;31mModuleNotFoundError\u001b[0m: No module named 'pyspark'"
     ]
    }
   ],
   "source": [
    "from pyspark.ml.recommendation import ALS"
   ]
  },
  {
   "cell_type": "markdown",
   "metadata": {},
   "source": [
    "Pyspark docs\n",
    "- rank: \n",
    "- maxIter - nmber of times to iterate\n",
    "- regParam: similar to ridge and lasso, help to prevent overfitting"
   ]
  },
  {
   "cell_type": "markdown",
   "metadata": {},
   "source": [
    "Assumptions:\n",
    "\n",
    "Matrix decomposition built on theory that every individual (user, movie) score is actually the dot product of two separate vectors:\n",
    "1. user characteristics\n",
    "2. movie characteristics\n",
    "\n",
    "Model will create a \"latent factors matrix\" based on simlarities fed into the model.\n",
    "- Hidden factors\n",
    "- Rank is number of embeddings (hidden matrices, features, dimensions)\n",
    "- model searches for these features based on only the 3 feature inputs we provide it\n",
    "- we have no idea what these factors *actually* represent"
   ]
  },
  {
   "cell_type": "markdown",
   "metadata": {},
   "source": [
    "Alternative Least Squares (ALS): Loss Function\n",
    "\n",
    "$$ L = \\sum_{u,i ∈ \\kappa}(r_{u,i}− q_i^T p_u)^2 + λ( ||q_i||^2 + |p_u||^2)$$\n",
    "\n",
    "Where $\\kappa$ is the set of (u,i) pairs for which $r_{u,i}$ is known.\n",
    "\n",
    "- Distance between *actual* rating and *predicted* rating\n",
    "- Regularization parameter lambda to reduce overfitting\n",
    "\n",
    "Alternating:\n",
    "- alternate between holding p (factors about users) and q (Factors about items) constant.\n",
    "- process repeats until convergence\n",
    "\n"
   ]
  },
  {
   "cell_type": "markdown",
   "metadata": {},
   "source": [
    "**What levers do we have available to adjust?**\n",
    "\n",
    "1. **Ranking** - number of columns in the hidden matrices\n",
    "    - Increasing ranking (to a point - elbow) will improve model\n",
    "    - Too many - model overfits\n",
    "    - Too few - model underfits\n",
    "    \n",
    "\n",
    "2. **Lambda** - regularization parameter\n",
    "    -  penalization / weighting for latent factors created by model\n",
    "\n",
    "\n",
    "3. Number of **Iterations**\n",
    "    - Higher number of iterations improves accuracy?\n",
    "    - How many times to switch back and forth btwn p and q constants\n",
    "    - More iterations = higher computational expense\n",
    "    - But don't want so few that we never find least squares (local minimum)\n",
    "    - convergence on  predicted values and actual values\n",
    "\n",
    "**What are the pros and cons of lambda?**"
   ]
  },
  {
   "cell_type": "code",
   "execution_count": null,
   "metadata": {},
   "outputs": [],
   "source": []
  }
 ],
 "metadata": {
  "kernelspec": {
   "display_name": "Python 3",
   "language": "python",
   "name": "python3"
  },
  "language_info": {
   "codemirror_mode": {
    "name": "ipython",
    "version": 3
   },
   "file_extension": ".py",
   "mimetype": "text/x-python",
   "name": "python",
   "nbconvert_exporter": "python",
   "pygments_lexer": "ipython3",
   "version": "3.8.1"
  },
  "toc": {
   "base_numbering": 1,
   "nav_menu": {},
   "number_sections": true,
   "sideBar": true,
   "skip_h1_title": false,
   "title_cell": "Table of Contents",
   "title_sidebar": "Contents",
   "toc_cell": false,
   "toc_position": {},
   "toc_section_display": true,
   "toc_window_display": false
  },
  "varInspector": {
   "cols": {
    "lenName": 16,
    "lenType": 16,
    "lenVar": 40
   },
   "kernels_config": {
    "python": {
     "delete_cmd_postfix": "",
     "delete_cmd_prefix": "del ",
     "library": "var_list.py",
     "varRefreshCmd": "print(var_dic_list())"
    },
    "r": {
     "delete_cmd_postfix": ") ",
     "delete_cmd_prefix": "rm(",
     "library": "var_list.r",
     "varRefreshCmd": "cat(var_dic_list()) "
    }
   },
   "types_to_exclude": [
    "module",
    "function",
    "builtin_function_or_method",
    "instance",
    "_Feature"
   ],
   "window_display": false
  }
 },
 "nbformat": 4,
 "nbformat_minor": 4
}
