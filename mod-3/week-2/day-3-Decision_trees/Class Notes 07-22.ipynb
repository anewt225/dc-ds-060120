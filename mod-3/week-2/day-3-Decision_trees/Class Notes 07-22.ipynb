{
 "cells": [
  {
   "cell_type": "code",
   "execution_count": 1,
   "metadata": {},
   "outputs": [],
   "source": [
    "import pandas as pd"
   ]
  },
  {
   "cell_type": "code",
   "execution_count": 2,
   "metadata": {},
   "outputs": [],
   "source": [
    "from sklearn.tree import DecisionTreeClassifier\n",
    "from sklearn import tree"
   ]
  },
  {
   "cell_type": "code",
   "execution_count": 3,
   "metadata": {},
   "outputs": [],
   "source": [
    "custs = pd.DataFrame([[45000, 1000, True, 2, False], [70000, 100, True, 10, True],\n",
    "             [30000, 2000, False, 0, False], [90000, 500, True, 2, True],\n",
    "             [70000, 200, True, 5, False]],\n",
    "            columns=['salary', 'total_bill', 'club_member', 'years_post-sec_ed',\n",
    "                    'paid'])"
   ]
  },
  {
   "cell_type": "code",
   "execution_count": 4,
   "metadata": {},
   "outputs": [
    {
     "data": {
      "text/html": [
       "<div>\n",
       "<style scoped>\n",
       "    .dataframe tbody tr th:only-of-type {\n",
       "        vertical-align: middle;\n",
       "    }\n",
       "\n",
       "    .dataframe tbody tr th {\n",
       "        vertical-align: top;\n",
       "    }\n",
       "\n",
       "    .dataframe thead th {\n",
       "        text-align: right;\n",
       "    }\n",
       "</style>\n",
       "<table border=\"1\" class=\"dataframe\">\n",
       "  <thead>\n",
       "    <tr style=\"text-align: right;\">\n",
       "      <th></th>\n",
       "      <th>salary</th>\n",
       "      <th>total_bill</th>\n",
       "      <th>club_member</th>\n",
       "      <th>years_post-sec_ed</th>\n",
       "      <th>paid</th>\n",
       "    </tr>\n",
       "  </thead>\n",
       "  <tbody>\n",
       "    <tr>\n",
       "      <th>2</th>\n",
       "      <td>30000</td>\n",
       "      <td>2000</td>\n",
       "      <td>False</td>\n",
       "      <td>0</td>\n",
       "      <td>False</td>\n",
       "    </tr>\n",
       "    <tr>\n",
       "      <th>0</th>\n",
       "      <td>45000</td>\n",
       "      <td>1000</td>\n",
       "      <td>True</td>\n",
       "      <td>2</td>\n",
       "      <td>False</td>\n",
       "    </tr>\n",
       "    <tr>\n",
       "      <th>1</th>\n",
       "      <td>70000</td>\n",
       "      <td>100</td>\n",
       "      <td>True</td>\n",
       "      <td>10</td>\n",
       "      <td>True</td>\n",
       "    </tr>\n",
       "    <tr>\n",
       "      <th>4</th>\n",
       "      <td>70000</td>\n",
       "      <td>200</td>\n",
       "      <td>True</td>\n",
       "      <td>5</td>\n",
       "      <td>False</td>\n",
       "    </tr>\n",
       "    <tr>\n",
       "      <th>3</th>\n",
       "      <td>90000</td>\n",
       "      <td>500</td>\n",
       "      <td>True</td>\n",
       "      <td>2</td>\n",
       "      <td>True</td>\n",
       "    </tr>\n",
       "  </tbody>\n",
       "</table>\n",
       "</div>"
      ],
      "text/plain": [
       "   salary  total_bill  club_member  years_post-sec_ed   paid\n",
       "2   30000        2000        False                  0  False\n",
       "0   45000        1000         True                  2  False\n",
       "1   70000         100         True                 10   True\n",
       "4   70000         200         True                  5  False\n",
       "3   90000         500         True                  2   True"
      ]
     },
     "execution_count": 4,
     "metadata": {},
     "output_type": "execute_result"
    }
   ],
   "source": [
    "test = custs.sort_values(['salary'])\n",
    "test"
   ]
  },
  {
   "cell_type": "code",
   "execution_count": 5,
   "metadata": {},
   "outputs": [
    {
     "data": {
      "text/html": [
       "<style  type=\"text/css\" >\n",
       "    #T_3a59340b_cc54_11ea_b859_a86daa913317row0_col0 {\n",
       "            background-color:  aqua;\n",
       "        }    #T_3a59340b_cc54_11ea_b859_a86daa913317row0_col1 {\n",
       "            background-color:  aqua;\n",
       "        }    #T_3a59340b_cc54_11ea_b859_a86daa913317row0_col2 {\n",
       "            background-color:  aqua;\n",
       "        }    #T_3a59340b_cc54_11ea_b859_a86daa913317row0_col3 {\n",
       "            background-color:  aqua;\n",
       "        }    #T_3a59340b_cc54_11ea_b859_a86daa913317row0_col4 {\n",
       "            background-color:  aqua;\n",
       "        }    #T_3a59340b_cc54_11ea_b859_a86daa913317row1_col0 {\n",
       "            background-color:  yellow;\n",
       "        }    #T_3a59340b_cc54_11ea_b859_a86daa913317row1_col1 {\n",
       "            background-color:  yellow;\n",
       "        }    #T_3a59340b_cc54_11ea_b859_a86daa913317row1_col2 {\n",
       "            background-color:  yellow;\n",
       "        }    #T_3a59340b_cc54_11ea_b859_a86daa913317row1_col3 {\n",
       "            background-color:  yellow;\n",
       "        }    #T_3a59340b_cc54_11ea_b859_a86daa913317row1_col4 {\n",
       "            background-color:  yellow;\n",
       "        }    #T_3a59340b_cc54_11ea_b859_a86daa913317row2_col0 {\n",
       "            background-color:  yellow;\n",
       "        }    #T_3a59340b_cc54_11ea_b859_a86daa913317row2_col1 {\n",
       "            background-color:  yellow;\n",
       "        }    #T_3a59340b_cc54_11ea_b859_a86daa913317row2_col2 {\n",
       "            background-color:  yellow;\n",
       "        }    #T_3a59340b_cc54_11ea_b859_a86daa913317row2_col3 {\n",
       "            background-color:  yellow;\n",
       "        }    #T_3a59340b_cc54_11ea_b859_a86daa913317row2_col4 {\n",
       "            background-color:  yellow;\n",
       "        }    #T_3a59340b_cc54_11ea_b859_a86daa913317row3_col0 {\n",
       "            background-color:  yellow;\n",
       "        }    #T_3a59340b_cc54_11ea_b859_a86daa913317row3_col1 {\n",
       "            background-color:  yellow;\n",
       "        }    #T_3a59340b_cc54_11ea_b859_a86daa913317row3_col2 {\n",
       "            background-color:  yellow;\n",
       "        }    #T_3a59340b_cc54_11ea_b859_a86daa913317row3_col3 {\n",
       "            background-color:  yellow;\n",
       "        }    #T_3a59340b_cc54_11ea_b859_a86daa913317row3_col4 {\n",
       "            background-color:  yellow;\n",
       "        }    #T_3a59340b_cc54_11ea_b859_a86daa913317row4_col0 {\n",
       "            background-color:  yellow;\n",
       "        }    #T_3a59340b_cc54_11ea_b859_a86daa913317row4_col1 {\n",
       "            background-color:  yellow;\n",
       "        }    #T_3a59340b_cc54_11ea_b859_a86daa913317row4_col2 {\n",
       "            background-color:  yellow;\n",
       "        }    #T_3a59340b_cc54_11ea_b859_a86daa913317row4_col3 {\n",
       "            background-color:  yellow;\n",
       "        }    #T_3a59340b_cc54_11ea_b859_a86daa913317row4_col4 {\n",
       "            background-color:  yellow;\n",
       "        }</style><table id=\"T_3a59340b_cc54_11ea_b859_a86daa913317\" ><thead>    <tr>        <th class=\"blank level0\" ></th>        <th class=\"col_heading level0 col0\" >salary</th>        <th class=\"col_heading level0 col1\" >total_bill</th>        <th class=\"col_heading level0 col2\" >club_member</th>        <th class=\"col_heading level0 col3\" >years_post-sec_ed</th>        <th class=\"col_heading level0 col4\" >paid</th>    </tr></thead><tbody>\n",
       "                <tr>\n",
       "                        <th id=\"T_3a59340b_cc54_11ea_b859_a86daa913317level0_row0\" class=\"row_heading level0 row0\" >2</th>\n",
       "                        <td id=\"T_3a59340b_cc54_11ea_b859_a86daa913317row0_col0\" class=\"data row0 col0\" >30000</td>\n",
       "                        <td id=\"T_3a59340b_cc54_11ea_b859_a86daa913317row0_col1\" class=\"data row0 col1\" >2000</td>\n",
       "                        <td id=\"T_3a59340b_cc54_11ea_b859_a86daa913317row0_col2\" class=\"data row0 col2\" >False</td>\n",
       "                        <td id=\"T_3a59340b_cc54_11ea_b859_a86daa913317row0_col3\" class=\"data row0 col3\" >0</td>\n",
       "                        <td id=\"T_3a59340b_cc54_11ea_b859_a86daa913317row0_col4\" class=\"data row0 col4\" >False</td>\n",
       "            </tr>\n",
       "            <tr>\n",
       "                        <th id=\"T_3a59340b_cc54_11ea_b859_a86daa913317level0_row1\" class=\"row_heading level0 row1\" >0</th>\n",
       "                        <td id=\"T_3a59340b_cc54_11ea_b859_a86daa913317row1_col0\" class=\"data row1 col0\" >45000</td>\n",
       "                        <td id=\"T_3a59340b_cc54_11ea_b859_a86daa913317row1_col1\" class=\"data row1 col1\" >1000</td>\n",
       "                        <td id=\"T_3a59340b_cc54_11ea_b859_a86daa913317row1_col2\" class=\"data row1 col2\" >True</td>\n",
       "                        <td id=\"T_3a59340b_cc54_11ea_b859_a86daa913317row1_col3\" class=\"data row1 col3\" >2</td>\n",
       "                        <td id=\"T_3a59340b_cc54_11ea_b859_a86daa913317row1_col4\" class=\"data row1 col4\" >False</td>\n",
       "            </tr>\n",
       "            <tr>\n",
       "                        <th id=\"T_3a59340b_cc54_11ea_b859_a86daa913317level0_row2\" class=\"row_heading level0 row2\" >1</th>\n",
       "                        <td id=\"T_3a59340b_cc54_11ea_b859_a86daa913317row2_col0\" class=\"data row2 col0\" >70000</td>\n",
       "                        <td id=\"T_3a59340b_cc54_11ea_b859_a86daa913317row2_col1\" class=\"data row2 col1\" >100</td>\n",
       "                        <td id=\"T_3a59340b_cc54_11ea_b859_a86daa913317row2_col2\" class=\"data row2 col2\" >True</td>\n",
       "                        <td id=\"T_3a59340b_cc54_11ea_b859_a86daa913317row2_col3\" class=\"data row2 col3\" >10</td>\n",
       "                        <td id=\"T_3a59340b_cc54_11ea_b859_a86daa913317row2_col4\" class=\"data row2 col4\" >True</td>\n",
       "            </tr>\n",
       "            <tr>\n",
       "                        <th id=\"T_3a59340b_cc54_11ea_b859_a86daa913317level0_row3\" class=\"row_heading level0 row3\" >4</th>\n",
       "                        <td id=\"T_3a59340b_cc54_11ea_b859_a86daa913317row3_col0\" class=\"data row3 col0\" >70000</td>\n",
       "                        <td id=\"T_3a59340b_cc54_11ea_b859_a86daa913317row3_col1\" class=\"data row3 col1\" >200</td>\n",
       "                        <td id=\"T_3a59340b_cc54_11ea_b859_a86daa913317row3_col2\" class=\"data row3 col2\" >True</td>\n",
       "                        <td id=\"T_3a59340b_cc54_11ea_b859_a86daa913317row3_col3\" class=\"data row3 col3\" >5</td>\n",
       "                        <td id=\"T_3a59340b_cc54_11ea_b859_a86daa913317row3_col4\" class=\"data row3 col4\" >False</td>\n",
       "            </tr>\n",
       "            <tr>\n",
       "                        <th id=\"T_3a59340b_cc54_11ea_b859_a86daa913317level0_row4\" class=\"row_heading level0 row4\" >3</th>\n",
       "                        <td id=\"T_3a59340b_cc54_11ea_b859_a86daa913317row4_col0\" class=\"data row4 col0\" >90000</td>\n",
       "                        <td id=\"T_3a59340b_cc54_11ea_b859_a86daa913317row4_col1\" class=\"data row4 col1\" >500</td>\n",
       "                        <td id=\"T_3a59340b_cc54_11ea_b859_a86daa913317row4_col2\" class=\"data row4 col2\" >True</td>\n",
       "                        <td id=\"T_3a59340b_cc54_11ea_b859_a86daa913317row4_col3\" class=\"data row4 col3\" >2</td>\n",
       "                        <td id=\"T_3a59340b_cc54_11ea_b859_a86daa913317row4_col4\" class=\"data row4 col4\" >True</td>\n",
       "            </tr>\n",
       "    </tbody></table>"
      ],
      "text/plain": [
       "<pandas.io.formats.style.Styler at 0x23b3a057970>"
      ]
     },
     "execution_count": 5,
     "metadata": {},
     "output_type": "execute_result"
    }
   ],
   "source": [
    "def highlight_split(x):\n",
    "    if x.club_member == True:\n",
    "        return ['background-color: yellow']*5\n",
    "    else:\n",
    "        return ['background-color: aqua']*5 \n",
    "test.style.apply(highlight_split, axis=1)"
   ]
  },
  {
   "cell_type": "code",
   "execution_count": 6,
   "metadata": {},
   "outputs": [
    {
     "data": {
      "text/html": [
       "<style  type=\"text/css\" >\n",
       "    #T_3a5db21b_cc54_11ea_93e4_a86daa913317row0_col0 {\n",
       "            background-color:  yellow;\n",
       "        }    #T_3a5db21b_cc54_11ea_93e4_a86daa913317row0_col1 {\n",
       "            background-color:  yellow;\n",
       "        }    #T_3a5db21b_cc54_11ea_93e4_a86daa913317row0_col2 {\n",
       "            background-color:  yellow;\n",
       "        }    #T_3a5db21b_cc54_11ea_93e4_a86daa913317row0_col3 {\n",
       "            background-color:  yellow;\n",
       "        }    #T_3a5db21b_cc54_11ea_93e4_a86daa913317row0_col4 {\n",
       "            background-color:  yellow;\n",
       "        }    #T_3a5db21b_cc54_11ea_93e4_a86daa913317row1_col0 {\n",
       "            background-color:  yellow;\n",
       "        }    #T_3a5db21b_cc54_11ea_93e4_a86daa913317row1_col1 {\n",
       "            background-color:  yellow;\n",
       "        }    #T_3a5db21b_cc54_11ea_93e4_a86daa913317row1_col2 {\n",
       "            background-color:  yellow;\n",
       "        }    #T_3a5db21b_cc54_11ea_93e4_a86daa913317row1_col3 {\n",
       "            background-color:  yellow;\n",
       "        }    #T_3a5db21b_cc54_11ea_93e4_a86daa913317row1_col4 {\n",
       "            background-color:  yellow;\n",
       "        }    #T_3a5db21b_cc54_11ea_93e4_a86daa913317row2_col0 {\n",
       "            background-color:  aqua;\n",
       "        }    #T_3a5db21b_cc54_11ea_93e4_a86daa913317row2_col1 {\n",
       "            background-color:  aqua;\n",
       "        }    #T_3a5db21b_cc54_11ea_93e4_a86daa913317row2_col2 {\n",
       "            background-color:  aqua;\n",
       "        }    #T_3a5db21b_cc54_11ea_93e4_a86daa913317row2_col3 {\n",
       "            background-color:  aqua;\n",
       "        }    #T_3a5db21b_cc54_11ea_93e4_a86daa913317row2_col4 {\n",
       "            background-color:  aqua;\n",
       "        }    #T_3a5db21b_cc54_11ea_93e4_a86daa913317row3_col0 {\n",
       "            background-color:  aqua;\n",
       "        }    #T_3a5db21b_cc54_11ea_93e4_a86daa913317row3_col1 {\n",
       "            background-color:  aqua;\n",
       "        }    #T_3a5db21b_cc54_11ea_93e4_a86daa913317row3_col2 {\n",
       "            background-color:  aqua;\n",
       "        }    #T_3a5db21b_cc54_11ea_93e4_a86daa913317row3_col3 {\n",
       "            background-color:  aqua;\n",
       "        }    #T_3a5db21b_cc54_11ea_93e4_a86daa913317row3_col4 {\n",
       "            background-color:  aqua;\n",
       "        }    #T_3a5db21b_cc54_11ea_93e4_a86daa913317row4_col0 {\n",
       "            background-color:  aqua;\n",
       "        }    #T_3a5db21b_cc54_11ea_93e4_a86daa913317row4_col1 {\n",
       "            background-color:  aqua;\n",
       "        }    #T_3a5db21b_cc54_11ea_93e4_a86daa913317row4_col2 {\n",
       "            background-color:  aqua;\n",
       "        }    #T_3a5db21b_cc54_11ea_93e4_a86daa913317row4_col3 {\n",
       "            background-color:  aqua;\n",
       "        }    #T_3a5db21b_cc54_11ea_93e4_a86daa913317row4_col4 {\n",
       "            background-color:  aqua;\n",
       "        }</style><table id=\"T_3a5db21b_cc54_11ea_93e4_a86daa913317\" ><thead>    <tr>        <th class=\"blank level0\" ></th>        <th class=\"col_heading level0 col0\" >salary</th>        <th class=\"col_heading level0 col1\" >total_bill</th>        <th class=\"col_heading level0 col2\" >club_member</th>        <th class=\"col_heading level0 col3\" >years_post-sec_ed</th>        <th class=\"col_heading level0 col4\" >paid</th>    </tr></thead><tbody>\n",
       "                <tr>\n",
       "                        <th id=\"T_3a5db21b_cc54_11ea_93e4_a86daa913317level0_row0\" class=\"row_heading level0 row0\" >2</th>\n",
       "                        <td id=\"T_3a5db21b_cc54_11ea_93e4_a86daa913317row0_col0\" class=\"data row0 col0\" >30000</td>\n",
       "                        <td id=\"T_3a5db21b_cc54_11ea_93e4_a86daa913317row0_col1\" class=\"data row0 col1\" >2000</td>\n",
       "                        <td id=\"T_3a5db21b_cc54_11ea_93e4_a86daa913317row0_col2\" class=\"data row0 col2\" >False</td>\n",
       "                        <td id=\"T_3a5db21b_cc54_11ea_93e4_a86daa913317row0_col3\" class=\"data row0 col3\" >0</td>\n",
       "                        <td id=\"T_3a5db21b_cc54_11ea_93e4_a86daa913317row0_col4\" class=\"data row0 col4\" >False</td>\n",
       "            </tr>\n",
       "            <tr>\n",
       "                        <th id=\"T_3a5db21b_cc54_11ea_93e4_a86daa913317level0_row1\" class=\"row_heading level0 row1\" >0</th>\n",
       "                        <td id=\"T_3a5db21b_cc54_11ea_93e4_a86daa913317row1_col0\" class=\"data row1 col0\" >45000</td>\n",
       "                        <td id=\"T_3a5db21b_cc54_11ea_93e4_a86daa913317row1_col1\" class=\"data row1 col1\" >1000</td>\n",
       "                        <td id=\"T_3a5db21b_cc54_11ea_93e4_a86daa913317row1_col2\" class=\"data row1 col2\" >True</td>\n",
       "                        <td id=\"T_3a5db21b_cc54_11ea_93e4_a86daa913317row1_col3\" class=\"data row1 col3\" >2</td>\n",
       "                        <td id=\"T_3a5db21b_cc54_11ea_93e4_a86daa913317row1_col4\" class=\"data row1 col4\" >False</td>\n",
       "            </tr>\n",
       "            <tr>\n",
       "                        <th id=\"T_3a5db21b_cc54_11ea_93e4_a86daa913317level0_row2\" class=\"row_heading level0 row2\" >1</th>\n",
       "                        <td id=\"T_3a5db21b_cc54_11ea_93e4_a86daa913317row2_col0\" class=\"data row2 col0\" >70000</td>\n",
       "                        <td id=\"T_3a5db21b_cc54_11ea_93e4_a86daa913317row2_col1\" class=\"data row2 col1\" >100</td>\n",
       "                        <td id=\"T_3a5db21b_cc54_11ea_93e4_a86daa913317row2_col2\" class=\"data row2 col2\" >True</td>\n",
       "                        <td id=\"T_3a5db21b_cc54_11ea_93e4_a86daa913317row2_col3\" class=\"data row2 col3\" >10</td>\n",
       "                        <td id=\"T_3a5db21b_cc54_11ea_93e4_a86daa913317row2_col4\" class=\"data row2 col4\" >True</td>\n",
       "            </tr>\n",
       "            <tr>\n",
       "                        <th id=\"T_3a5db21b_cc54_11ea_93e4_a86daa913317level0_row3\" class=\"row_heading level0 row3\" >4</th>\n",
       "                        <td id=\"T_3a5db21b_cc54_11ea_93e4_a86daa913317row3_col0\" class=\"data row3 col0\" >70000</td>\n",
       "                        <td id=\"T_3a5db21b_cc54_11ea_93e4_a86daa913317row3_col1\" class=\"data row3 col1\" >200</td>\n",
       "                        <td id=\"T_3a5db21b_cc54_11ea_93e4_a86daa913317row3_col2\" class=\"data row3 col2\" >True</td>\n",
       "                        <td id=\"T_3a5db21b_cc54_11ea_93e4_a86daa913317row3_col3\" class=\"data row3 col3\" >5</td>\n",
       "                        <td id=\"T_3a5db21b_cc54_11ea_93e4_a86daa913317row3_col4\" class=\"data row3 col4\" >False</td>\n",
       "            </tr>\n",
       "            <tr>\n",
       "                        <th id=\"T_3a5db21b_cc54_11ea_93e4_a86daa913317level0_row4\" class=\"row_heading level0 row4\" >3</th>\n",
       "                        <td id=\"T_3a5db21b_cc54_11ea_93e4_a86daa913317row4_col0\" class=\"data row4 col0\" >90000</td>\n",
       "                        <td id=\"T_3a5db21b_cc54_11ea_93e4_a86daa913317row4_col1\" class=\"data row4 col1\" >500</td>\n",
       "                        <td id=\"T_3a5db21b_cc54_11ea_93e4_a86daa913317row4_col2\" class=\"data row4 col2\" >True</td>\n",
       "                        <td id=\"T_3a5db21b_cc54_11ea_93e4_a86daa913317row4_col3\" class=\"data row4 col3\" >2</td>\n",
       "                        <td id=\"T_3a5db21b_cc54_11ea_93e4_a86daa913317row4_col4\" class=\"data row4 col4\" >True</td>\n",
       "            </tr>\n",
       "    </tbody></table>"
      ],
      "text/plain": [
       "<pandas.io.formats.style.Styler at 0x23b3a057e50>"
      ]
     },
     "execution_count": 6,
     "metadata": {},
     "output_type": "execute_result"
    }
   ],
   "source": [
    "def highlight_split(x):\n",
    "    if x.salary < 60000:\n",
    "        return ['background-color: yellow']*5\n",
    "    else:\n",
    "        return ['background-color: aqua']*5 \n",
    "test.style.apply(highlight_split, axis=1)"
   ]
  },
  {
   "cell_type": "code",
   "execution_count": 7,
   "metadata": {},
   "outputs": [
    {
     "data": {
      "text/plain": [
       "1.0"
      ]
     },
     "execution_count": 7,
     "metadata": {},
     "output_type": "execute_result"
    }
   ],
   "source": [
    "ct = DecisionTreeClassifier() # Check out all the\n",
    "                              # hyperparameter options here!\n",
    "\n",
    "dt_mod = ct.fit(custs.drop('paid', axis=1), custs['paid'])\n",
    "dt_mod.score(custs.drop('paid', axis=1), custs['paid'])"
   ]
  },
  {
   "cell_type": "code",
   "execution_count": 13,
   "metadata": {},
   "outputs": [],
   "source": [
    "X =  custs.drop('paid',axis=1)\n",
    "y = custs['paid']\n",
    "y_pred = dt_mod.predict(X)"
   ]
  },
  {
   "cell_type": "code",
   "execution_count": 14,
   "metadata": {},
   "outputs": [],
   "source": [
    "from sklearn.metrics import confusion_matrix"
   ]
  },
  {
   "cell_type": "code",
   "execution_count": 15,
   "metadata": {},
   "outputs": [],
   "source": [
    "from yellowbrick.classifier import ConfusionMatrix"
   ]
  },
  {
   "cell_type": "code",
   "execution_count": 21,
   "metadata": {},
   "outputs": [],
   "source": [
    "import numpy as np"
   ]
  },
  {
   "cell_type": "code",
   "execution_count": 23,
   "metadata": {},
   "outputs": [],
   "source": [
    "import matplotlib.pyplot as plt"
   ]
  },
  {
   "cell_type": "code",
   "execution_count": 27,
   "metadata": {
    "scrolled": true
   },
   "outputs": [
    {
     "name": "stderr",
     "output_type": "stream",
     "text": [
      "C:\\Anaconda3\\lib\\site-packages\\sklearn\\base.py:193: FutureWarning: From version 0.24, get_params will raise an AttributeError if a parameter cannot be retrieved as an instance attribute. Previously it would return None.\n",
      "  warnings.warn('From version 0.24, get_params will raise an '\n"
     ]
    },
    {
     "data": {
      "text/plain": [
       "1.0"
      ]
     },
     "execution_count": 27,
     "metadata": {},
     "output_type": "execute_result"
    },
    {
     "data": {
      "image/png": "[encoded data removed]",
      "text/plain": [
       "<Figure size 576x396 with 1 Axes>"
      ]
     },
     "metadata": {},
     "output_type": "display_data"
    }
   ],
   "source": [
    "##Confusion matrix in yellow brick\n",
    "cm = ConfusionMatrix(dt_mod)\n",
    "cm.fit(X, y)\n",
    "cm.score(X, y)\n"
   ]
  },
  {
   "cell_type": "code",
   "execution_count": 36,
   "metadata": {},
   "outputs": [
    {
     "name": "stderr",
     "output_type": "stream",
     "text": [
      "C:\\Anaconda3\\lib\\site-packages\\sklearn\\base.py:193: FutureWarning: From version 0.24, get_params will raise an AttributeError if a parameter cannot be retrieved as an instance attribute. Previously it would return None.\n",
      "  warnings.warn('From version 0.24, get_params will raise an '\n"
     ]
    },
    {
     "data": {
      "image/png": "[encoded data removed]",
      "text/plain": [
       "<Figure size 576x396 with 2 Axes>"
      ]
     },
     "metadata": {},
     "output_type": "display_data"
    },
    {
     "data": {
      "text/plain": [
       "<matplotlib.axes._subplots.AxesSubplot at 0x23b3c96edf0>"
      ]
     },
     "execution_count": 36,
     "metadata": {},
     "output_type": "execute_result"
    }
   ],
   "source": [
    "##Classification Report\n",
    "classes = ['paid','unpaid']\n",
    "from yellowbrick.classifier import ClassificationReport\n",
    "cr = ClassificationReport(dt_mod, support=True)\n",
    "cr.fit(X,y)\n",
    "cr.score(X,y)\n",
    "cr.show()"
   ]
  },
  {
   "cell_type": "code",
   "execution_count": 61,
   "metadata": {},
   "outputs": [
    {
     "name": "stderr",
     "output_type": "stream",
     "text": [
      "C:\\Anaconda3\\lib\\site-packages\\sklearn\\base.py:193: FutureWarning: From version 0.24, get_params will raise an AttributeError if a parameter cannot be retrieved as an instance attribute. Previously it would return None.\n",
      "  warnings.warn('From version 0.24, get_params will raise an '\n"
     ]
    },
    {
     "data": {
      "text/plain": [
       "<matplotlib.legend.Legend at 0x23b3df88070>"
      ]
     },
     "execution_count": 61,
     "metadata": {},
     "output_type": "execute_result"
    },
    {
     "data": {
      "image/png": "[encoded data removed]",
      "text/plain": [
       "<Figure size 576x396 with 1 Axes>"
      ]
     },
     "metadata": {},
     "output_type": "display_data"
    }
   ],
   "source": [
    "##ROCAUC Curve\n",
    "from yellowbrick.classifier.rocauc import ROCAUC\n",
    "rocauc = ROCAUC(dt_mod)\n",
    "rocauc.fit(X,y)\n",
    "rocauc.score(X,y)\n",
    "plt.legend()\n"
   ]
  },
  {
   "cell_type": "code",
   "execution_count": 62,
   "metadata": {},
   "outputs": [
    {
     "name": "stdout",
     "output_type": "stream",
     "text": [
      "ROCAUC(ax=<matplotlib.axes._subplots.AxesSubplot object at 0x0000023B3E009130>,\n",
      "       classes=None, encoder=None, force_model=False, is_fitted='auto',\n",
      "       macro=True, micro=True, model=None, per_class=True)\n"
     ]
    },
    {
     "name": "stderr",
     "output_type": "stream",
     "text": [
      "C:\\Anaconda3\\lib\\site-packages\\sklearn\\base.py:193: FutureWarning: From version 0.24, get_params will raise an AttributeError if a parameter cannot be retrieved as an instance attribute. Previously it would return None.\n",
      "  warnings.warn('From version 0.24, get_params will raise an '\n"
     ]
    }
   ],
   "source": [
    "print(rocauc)"
   ]
  },
  {
   "cell_type": "code",
   "execution_count": null,
   "metadata": {},
   "outputs": [],
   "source": []
  },
  {
   "cell_type": "markdown",
   "metadata": {},
   "source": [
    "#### Pros of Decision Trees\n",
    "- Easy and intuitive to understand\n",
    "- Useful in EDA / Data Exploration for splitting variables, binning data etc.\n",
    "- Can capture non-linear data\n",
    "- doesn't require as many (any) pre-processing steps\n",
    "- datatype is not a constraint (features will not constrain)\n",
    "- non parametric - no assumptions"
   ]
  },
  {
   "cell_type": "markdown",
   "metadata": {},
   "source": [
    "#### Cons of Decision Trees\n",
    "\n",
    "- Sensitive to noisy data\n",
    "- Prone to overfitting\n",
    "- struggles with splits for continuous variables\n",
    "- can be biased with imbalanced data"
   ]
  },
  {
   "cell_type": "code",
   "execution_count": null,
   "metadata": {},
   "outputs": [],
   "source": []
  }
 ],
 "metadata": {
  "kernelspec": {
   "display_name": "Python 3",
   "language": "python",
   "name": "python3"
  },
  "language_info": {
   "codemirror_mode": {
    "name": "ipython",
    "version": 3
   },
   "file_extension": ".py",
   "mimetype": "text/x-python",
   "name": "python",
   "nbconvert_exporter": "python",
   "pygments_lexer": "ipython3",
   "version": "3.8.1"
  },
  "toc": {
   "base_numbering": 1,
   "nav_menu": {},
   "number_sections": true,
   "sideBar": true,
   "skip_h1_title": false,
   "title_cell": "Table of Contents",
   "title_sidebar": "Contents",
   "toc_cell": false,
   "toc_position": {},
   "toc_section_display": true,
   "toc_window_display": false
  },
  "varInspector": {
   "cols": {
    "lenName": 16,
    "lenType": 16,
    "lenVar": 40
   },
   "kernels_config": {
    "python": {
     "delete_cmd_postfix": "",
     "delete_cmd_prefix": "del ",
     "library": "var_list.py",
     "varRefreshCmd": "print(var_dic_list())"
    },
    "r": {
     "delete_cmd_postfix": ") ",
     "delete_cmd_prefix": "rm(",
     "library": "var_list.r",
     "varRefreshCmd": "cat(var_dic_list()) "
    }
   },
   "position": {
    "height": "363.206px",
    "left": "181.581px",
    "right": "20px",
    "top": "20.9468px",
    "width": "315.984px"
   },
   "types_to_exclude": [
    "module",
    "function",
    "builtin_function_or_method",
    "instance",
    "_Feature"
   ],
   "window_display": false
  }
 },
 "nbformat": 4,
 "nbformat_minor": 4
}
