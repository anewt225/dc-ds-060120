{
 "cells": [
  {
   "cell_type": "markdown",
   "metadata": {},
   "source": [
    "### KNN Class Notes\n",
    " \n",
    "\n",
    "- KNN is a non-parametric model (calculated independently from parameter size, distribution, magnitude\n",
    "\n"
   ]
  },
  {
   "cell_type": "markdown",
   "metadata": {},
   "source": [
    " ### KNN Model Steps:\n",
    "\n",
    "1. Select K-Value (number of neighbors to calculate)\n",
    "2. Calculate distance to datapoints\n",
    "3. Find K nearest neighbors\n",
    "4. Vote for labels based on information found from neighbors\n",
    "    a. Breaking ties: use odd K-value, or weight distances from other values"
   ]
  },
  {
   "cell_type": "markdown",
   "metadata": {},
   "source": [
    "Decision boundary - shows where the algorithm divides between the two classes"
   ]
  },
  {
   "cell_type": "markdown",
   "metadata": {},
   "source": [
    "### Euclidean Distance\n",
    "\n",
    "***Euclidean Distance*** is closest distance between two points, in whatever dimension they are in\n",
    "\n",
    "2D = sqrt( (x1 - x2)^2 + (y1 - y2)^2 ) \\\n",
    "3D = sqrt( (x1 - x2)^2 + (y1 - y2)^2 + (z1 - z2)^2 )"
   ]
  },
  {
   "cell_type": "markdown",
   "metadata": {},
   "source": [
    "### Importance of Scaling\n",
    "\n",
    "- Scaling is required before performing test train split in order to ensure that distance between data points is on an accurate scale\n",
    "\n",
    "Two options:\n",
    "1. Min-Max Scaler\n",
    "2. Standard Scaler"
   ]
  },
  {
   "cell_type": "markdown",
   "metadata": {},
   "source": [
    "### sklearn workflow\n",
    "1. Import Class\n",
    "2. Instantiate Estimator\n",
    "3. Fit the model with data\n",
    "4. Predict response for new observation"
   ]
  },
  {
   "cell_type": "markdown",
   "metadata": {},
   "source": [
    "### Evaluating performance of model\n",
    "\n",
    "1. Accuracy score\n",
    "2. F1 Score\n",
    "3. Confusion Matrix using yellowbrick (from yellowbrick.classifier import ConfusionMatrix)\n",
    "4. Increase performance based on increasing Ks\n",
    "\n",
    "Search for an optimal value of K for KNN"
   ]
  },
  {
   "cell_type": "markdown",
   "metadata": {},
   "source": [
    "### KNN Considerations\n",
    "\n",
    "**Strengths**\n",
    "1. Easy to understand\n",
    "2. Reasonable performance without a lot of tuning\n",
    "3. Building the model is fast (.fit just storing values)\n",
    "\n",
    "**Weaknesses**\n",
    "1. Slow on large training datasets or a lot of features\n",
    "2. Does not do well with large data\n",
    "3. Doesn't perform well on sparse datasets\n",
    "\n",
    "**Important Parameters**\n",
    "1. K, number of nearest neighbors\n",
    "2. distance metric (Manhattan, Euclidean)\n",
    "\n",
    "***Hyperparameters*** [see scikit-learn documentation]('https://scikit-learn.org/stable/modules/generated/sklearn.neighbors.KNeighborsClassifier.html') "
   ]
  },
  {
   "cell_type": "markdown",
   "metadata": {},
   "source": [
    "### Resources\n",
    "\n",
    "- [Nearest Neighbors](http://scikit-learn.org/stable/modules/neighbors.html) (user guide), [KNeighborsClassifier](http://scikit-learn.org/stable/modules/generated/sklearn.neighbors.KNeighborsClassifier.html) (class documentation)\n",
    "\n",
    "- [KNN StatsQuest](https://youtu.be/HVXime0nQeI)\n",
    "\n",
    "- [Videos from An Introduction to Statistical Learning](http://www.dataschool.io/15-hours-of-expert-machine-learning-videos/)\n",
    "    - Classification Problems and K-Nearest Neighbors (Chapter 2)\n",
    "    - Introduction to Classification (Chapter 4)\n",
    "    - Logistic Regression and Maximum Likelihood (Chapter 4)"
   ]
  }
 ],
 "metadata": {
  "kernelspec": {
   "display_name": "Python 3",
   "language": "python",
   "name": "python3"
  },
  "language_info": {
   "codemirror_mode": {
    "name": "ipython",
    "version": 3
   },
   "file_extension": ".py",
   "mimetype": "text/x-python",
   "name": "python",
   "nbconvert_exporter": "python",
   "pygments_lexer": "ipython3",
   "version": "3.8.1"
  },
  "toc": {
   "base_numbering": 1,
   "nav_menu": {},
   "number_sections": true,
   "sideBar": true,
   "skip_h1_title": false,
   "title_cell": "Table of Contents",
   "title_sidebar": "Contents",
   "toc_cell": false,
   "toc_position": {},
   "toc_section_display": true,
   "toc_window_display": false
  },
  "varInspector": {
   "cols": {
    "lenName": 16,
    "lenType": 16,
    "lenVar": 40
   },
   "kernels_config": {
    "python": {
     "delete_cmd_postfix": "",
     "delete_cmd_prefix": "del ",
     "library": "var_list.py",
     "varRefreshCmd": "print(var_dic_list())"
    },
    "r": {
     "delete_cmd_postfix": ") ",
     "delete_cmd_prefix": "rm(",
     "library": "var_list.r",
     "varRefreshCmd": "cat(var_dic_list()) "
    }
   },
   "types_to_exclude": [
    "module",
    "function",
    "builtin_function_or_method",
    "instance",
    "_Feature"
   ],
   "window_display": false
  }
 },
 "nbformat": 4,
 "nbformat_minor": 4
}
