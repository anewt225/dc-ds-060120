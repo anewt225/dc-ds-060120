{
 "cells": [
  {
   "cell_type": "code",
   "execution_count": 1,
   "metadata": {},
   "outputs": [
    {
     "name": "stderr",
     "output_type": "stream",
     "text": [
      "C:\\Anaconda3\\lib\\site-packages\\sklearn\\utils\\deprecation.py:144: FutureWarning: The sklearn.metrics.classification module is  deprecated in version 0.22 and will be removed in version 0.24. The corresponding classes / functions should instead be imported from sklearn.metrics. Anything that cannot be imported from sklearn.metrics is now part of the private API.\n",
      "  warnings.warn(message, FutureWarning)\n"
     ]
    }
   ],
   "source": [
    "import pandas as pd\n",
    "import matplotlib as plt\n",
    "import seaborn as sns\n",
    "from sklearn.model_selection import train_test_split\n",
    "from sklearn.model_selection import GridSearchCV\n",
    "from sklearn.model_selection import RandomizedSearchCV\n",
    "from sklearn.dummy import DummyClassifier\n",
    "from sklearn.pipeline import make_pipeline\n",
    "from sklearn.preprocessing import StandardScaler\n",
    "\n",
    "\n",
    "from sklearn.ensemble import RandomForestClassifier\n",
    "from sklearn.tree import DecisionTreeClassifier\n",
    "from sklearn.metrics import accuracy_score\n",
    "from sklearn.metrics import classification_report\n",
    "\n",
    "\n",
    "from sklearn.preprocessing import LabelEncoder\n",
    "\n",
    "from yellowbrick.classifier import ROCAUC\n",
    "from yellowbrick.classifier import ConfusionMatrix\n",
    "from yellowbrick.classifier import ClassificationReport"
   ]
  },
  {
   "cell_type": "code",
   "execution_count": 2,
   "metadata": {},
   "outputs": [
    {
     "data": {
      "text/html": [
       "<div>\n",
       "<style scoped>\n",
       "    .dataframe tbody tr th:only-of-type {\n",
       "        vertical-align: middle;\n",
       "    }\n",
       "\n",
       "    .dataframe tbody tr th {\n",
       "        vertical-align: top;\n",
       "    }\n",
       "\n",
       "    .dataframe thead th {\n",
       "        text-align: right;\n",
       "    }\n",
       "</style>\n",
       "<table border=\"1\" class=\"dataframe\">\n",
       "  <thead>\n",
       "    <tr style=\"text-align: right;\">\n",
       "      <th></th>\n",
       "      <th>trip_duration_sec</th>\n",
       "      <th>start_station_id</th>\n",
       "      <th>end_station_id</th>\n",
       "      <th>bike_id</th>\n",
       "      <th>member_birth_year</th>\n",
       "      <th>trip_duration_min</th>\n",
       "      <th>bg</th>\n",
       "      <th>month_April</th>\n",
       "      <th>month_Februrary</th>\n",
       "      <th>month_January</th>\n",
       "      <th>month_March</th>\n",
       "      <th>month_May</th>\n",
       "      <th>user_type_Customer</th>\n",
       "      <th>user_type_Subscriber</th>\n",
       "    </tr>\n",
       "  </thead>\n",
       "  <tbody>\n",
       "    <tr>\n",
       "      <th>4</th>\n",
       "      <td>1128</td>\n",
       "      <td>124.0</td>\n",
       "      <td>5.0</td>\n",
       "      <td>877</td>\n",
       "      <td>1973.0</td>\n",
       "      <td>18.80</td>\n",
       "      <td>Brogrammer</td>\n",
       "      <td>1</td>\n",
       "      <td>0</td>\n",
       "      <td>0</td>\n",
       "      <td>0</td>\n",
       "      <td>0</td>\n",
       "      <td>0</td>\n",
       "      <td>1</td>\n",
       "    </tr>\n",
       "    <tr>\n",
       "      <th>5</th>\n",
       "      <td>1388</td>\n",
       "      <td>243.0</td>\n",
       "      <td>247.0</td>\n",
       "      <td>3234</td>\n",
       "      <td>1997.0</td>\n",
       "      <td>23.13</td>\n",
       "      <td>Brogrammer</td>\n",
       "      <td>1</td>\n",
       "      <td>0</td>\n",
       "      <td>0</td>\n",
       "      <td>0</td>\n",
       "      <td>0</td>\n",
       "      <td>1</td>\n",
       "      <td>0</td>\n",
       "    </tr>\n",
       "    <tr>\n",
       "      <th>6</th>\n",
       "      <td>920</td>\n",
       "      <td>202.0</td>\n",
       "      <td>220.0</td>\n",
       "      <td>3262</td>\n",
       "      <td>1976.0</td>\n",
       "      <td>15.33</td>\n",
       "      <td>Brogrammer</td>\n",
       "      <td>1</td>\n",
       "      <td>0</td>\n",
       "      <td>0</td>\n",
       "      <td>0</td>\n",
       "      <td>0</td>\n",
       "      <td>0</td>\n",
       "      <td>1</td>\n",
       "    </tr>\n",
       "    <tr>\n",
       "      <th>7</th>\n",
       "      <td>725</td>\n",
       "      <td>44.0</td>\n",
       "      <td>121.0</td>\n",
       "      <td>2706</td>\n",
       "      <td>1973.0</td>\n",
       "      <td>12.08</td>\n",
       "      <td>Brogrammer</td>\n",
       "      <td>1</td>\n",
       "      <td>0</td>\n",
       "      <td>0</td>\n",
       "      <td>0</td>\n",
       "      <td>0</td>\n",
       "      <td>1</td>\n",
       "      <td>0</td>\n",
       "    </tr>\n",
       "    <tr>\n",
       "      <th>8</th>\n",
       "      <td>488</td>\n",
       "      <td>21.0</td>\n",
       "      <td>64.0</td>\n",
       "      <td>860</td>\n",
       "      <td>1986.0</td>\n",
       "      <td>8.13</td>\n",
       "      <td>Brogrammer</td>\n",
       "      <td>1</td>\n",
       "      <td>0</td>\n",
       "      <td>0</td>\n",
       "      <td>0</td>\n",
       "      <td>0</td>\n",
       "      <td>0</td>\n",
       "      <td>1</td>\n",
       "    </tr>\n",
       "  </tbody>\n",
       "</table>\n",
       "</div>"
      ],
      "text/plain": [
       "   trip_duration_sec  start_station_id  end_station_id  bike_id  \\\n",
       "4               1128             124.0             5.0      877   \n",
       "5               1388             243.0           247.0     3234   \n",
       "6                920             202.0           220.0     3262   \n",
       "7                725              44.0           121.0     2706   \n",
       "8                488              21.0            64.0      860   \n",
       "\n",
       "   member_birth_year  trip_duration_min          bg  month_April  \\\n",
       "4             1973.0              18.80  Brogrammer            1   \n",
       "5             1997.0              23.13  Brogrammer            1   \n",
       "6             1976.0              15.33  Brogrammer            1   \n",
       "7             1973.0              12.08  Brogrammer            1   \n",
       "8             1986.0               8.13  Brogrammer            1   \n",
       "\n",
       "   month_Februrary  month_January  month_March  month_May  user_type_Customer  \\\n",
       "4                0              0            0          0                   0   \n",
       "5                0              0            0          0                   1   \n",
       "6                0              0            0          0                   0   \n",
       "7                0              0            0          0                   1   \n",
       "8                0              0            0          0                   0   \n",
       "\n",
       "   user_type_Subscriber  \n",
       "4                     1  \n",
       "5                     0  \n",
       "6                     1  \n",
       "7                     0  \n",
       "8                     1  "
      ]
     },
     "execution_count": 2,
     "metadata": {},
     "output_type": "execute_result"
    }
   ],
   "source": [
    "bike = pd.read_pickle('./data/bike.pkl')\n",
    "bike.head()"
   ]
  },
  {
   "cell_type": "code",
   "execution_count": 3,
   "metadata": {},
   "outputs": [
    {
     "data": {
      "text/plain": [
       "Brogrammer     706660\n",
       "Nice_person    240182\n",
       "Name: bg, dtype: int64"
      ]
     },
     "execution_count": 3,
     "metadata": {},
     "output_type": "execute_result"
    }
   ],
   "source": [
    "bike.bg.value_counts()"
   ]
  },
  {
   "cell_type": "code",
   "execution_count": 4,
   "metadata": {},
   "outputs": [
    {
     "data": {
      "text/html": [
       "<div>\n",
       "<style scoped>\n",
       "    .dataframe tbody tr th:only-of-type {\n",
       "        vertical-align: middle;\n",
       "    }\n",
       "\n",
       "    .dataframe tbody tr th {\n",
       "        vertical-align: top;\n",
       "    }\n",
       "\n",
       "    .dataframe thead th {\n",
       "        text-align: right;\n",
       "    }\n",
       "</style>\n",
       "<table border=\"1\" class=\"dataframe\">\n",
       "  <thead>\n",
       "    <tr style=\"text-align: right;\">\n",
       "      <th></th>\n",
       "      <th>trip_duration_sec</th>\n",
       "      <th>start_station_id</th>\n",
       "      <th>end_station_id</th>\n",
       "      <th>bike_id</th>\n",
       "      <th>member_birth_year</th>\n",
       "      <th>trip_duration_min</th>\n",
       "      <th>month_April</th>\n",
       "      <th>month_Februrary</th>\n",
       "      <th>month_January</th>\n",
       "      <th>month_March</th>\n",
       "      <th>month_May</th>\n",
       "      <th>user_type_Customer</th>\n",
       "      <th>user_type_Subscriber</th>\n",
       "    </tr>\n",
       "  </thead>\n",
       "  <tbody>\n",
       "    <tr>\n",
       "      <th>count</th>\n",
       "      <td>946842.000000</td>\n",
       "      <td>946842.000000</td>\n",
       "      <td>946842.000000</td>\n",
       "      <td>946842.000000</td>\n",
       "      <td>946842.000000</td>\n",
       "      <td>946842.000000</td>\n",
       "      <td>946842.000000</td>\n",
       "      <td>946842.000000</td>\n",
       "      <td>946842.000000</td>\n",
       "      <td>946842.000000</td>\n",
       "      <td>946842.000000</td>\n",
       "      <td>946842.000000</td>\n",
       "      <td>946842.000000</td>\n",
       "    </tr>\n",
       "    <tr>\n",
       "      <th>mean</th>\n",
       "      <td>578.960272</td>\n",
       "      <td>138.468291</td>\n",
       "      <td>135.722913</td>\n",
       "      <td>3891.877124</td>\n",
       "      <td>1984.673319</td>\n",
       "      <td>9.649340</td>\n",
       "      <td>0.226212</td>\n",
       "      <td>0.176227</td>\n",
       "      <td>0.182460</td>\n",
       "      <td>0.241813</td>\n",
       "      <td>0.173288</td>\n",
       "      <td>0.098418</td>\n",
       "      <td>0.901582</td>\n",
       "    </tr>\n",
       "    <tr>\n",
       "      <th>std</th>\n",
       "      <td>324.429294</td>\n",
       "      <td>112.670023</td>\n",
       "      <td>111.868923</td>\n",
       "      <td>1972.289709</td>\n",
       "      <td>10.045458</td>\n",
       "      <td>5.407152</td>\n",
       "      <td>0.418378</td>\n",
       "      <td>0.381013</td>\n",
       "      <td>0.386224</td>\n",
       "      <td>0.428182</td>\n",
       "      <td>0.378496</td>\n",
       "      <td>0.297879</td>\n",
       "      <td>0.297879</td>\n",
       "    </tr>\n",
       "    <tr>\n",
       "      <th>min</th>\n",
       "      <td>61.000000</td>\n",
       "      <td>3.000000</td>\n",
       "      <td>3.000000</td>\n",
       "      <td>11.000000</td>\n",
       "      <td>1878.000000</td>\n",
       "      <td>1.020000</td>\n",
       "      <td>0.000000</td>\n",
       "      <td>0.000000</td>\n",
       "      <td>0.000000</td>\n",
       "      <td>0.000000</td>\n",
       "      <td>0.000000</td>\n",
       "      <td>0.000000</td>\n",
       "      <td>0.000000</td>\n",
       "    </tr>\n",
       "    <tr>\n",
       "      <th>25%</th>\n",
       "      <td>327.000000</td>\n",
       "      <td>47.000000</td>\n",
       "      <td>44.000000</td>\n",
       "      <td>2175.000000</td>\n",
       "      <td>1980.000000</td>\n",
       "      <td>5.450000</td>\n",
       "      <td>0.000000</td>\n",
       "      <td>0.000000</td>\n",
       "      <td>0.000000</td>\n",
       "      <td>0.000000</td>\n",
       "      <td>0.000000</td>\n",
       "      <td>0.000000</td>\n",
       "      <td>1.000000</td>\n",
       "    </tr>\n",
       "    <tr>\n",
       "      <th>50%</th>\n",
       "      <td>512.000000</td>\n",
       "      <td>101.000000</td>\n",
       "      <td>98.000000</td>\n",
       "      <td>4560.000000</td>\n",
       "      <td>1987.000000</td>\n",
       "      <td>8.530000</td>\n",
       "      <td>0.000000</td>\n",
       "      <td>0.000000</td>\n",
       "      <td>0.000000</td>\n",
       "      <td>0.000000</td>\n",
       "      <td>0.000000</td>\n",
       "      <td>0.000000</td>\n",
       "      <td>1.000000</td>\n",
       "    </tr>\n",
       "    <tr>\n",
       "      <th>75%</th>\n",
       "      <td>769.000000</td>\n",
       "      <td>238.000000</td>\n",
       "      <td>223.000000</td>\n",
       "      <td>5433.000000</td>\n",
       "      <td>1992.000000</td>\n",
       "      <td>12.820000</td>\n",
       "      <td>0.000000</td>\n",
       "      <td>0.000000</td>\n",
       "      <td>0.000000</td>\n",
       "      <td>0.000000</td>\n",
       "      <td>0.000000</td>\n",
       "      <td>0.000000</td>\n",
       "      <td>1.000000</td>\n",
       "    </tr>\n",
       "    <tr>\n",
       "      <th>max</th>\n",
       "      <td>1583.000000</td>\n",
       "      <td>427.000000</td>\n",
       "      <td>427.000000</td>\n",
       "      <td>7196.000000</td>\n",
       "      <td>2001.000000</td>\n",
       "      <td>26.380000</td>\n",
       "      <td>1.000000</td>\n",
       "      <td>1.000000</td>\n",
       "      <td>1.000000</td>\n",
       "      <td>1.000000</td>\n",
       "      <td>1.000000</td>\n",
       "      <td>1.000000</td>\n",
       "      <td>1.000000</td>\n",
       "    </tr>\n",
       "  </tbody>\n",
       "</table>\n",
       "</div>"
      ],
      "text/plain": [
       "       trip_duration_sec  start_station_id  end_station_id        bike_id  \\\n",
       "count      946842.000000     946842.000000   946842.000000  946842.000000   \n",
       "mean          578.960272        138.468291      135.722913    3891.877124   \n",
       "std           324.429294        112.670023      111.868923    1972.289709   \n",
       "min            61.000000          3.000000        3.000000      11.000000   \n",
       "25%           327.000000         47.000000       44.000000    2175.000000   \n",
       "50%           512.000000        101.000000       98.000000    4560.000000   \n",
       "75%           769.000000        238.000000      223.000000    5433.000000   \n",
       "max          1583.000000        427.000000      427.000000    7196.000000   \n",
       "\n",
       "       member_birth_year  trip_duration_min    month_April  month_Februrary  \\\n",
       "count      946842.000000      946842.000000  946842.000000    946842.000000   \n",
       "mean         1984.673319           9.649340       0.226212         0.176227   \n",
       "std            10.045458           5.407152       0.418378         0.381013   \n",
       "min          1878.000000           1.020000       0.000000         0.000000   \n",
       "25%          1980.000000           5.450000       0.000000         0.000000   \n",
       "50%          1987.000000           8.530000       0.000000         0.000000   \n",
       "75%          1992.000000          12.820000       0.000000         0.000000   \n",
       "max          2001.000000          26.380000       1.000000         1.000000   \n",
       "\n",
       "       month_January    month_March      month_May  user_type_Customer  \\\n",
       "count  946842.000000  946842.000000  946842.000000       946842.000000   \n",
       "mean        0.182460       0.241813       0.173288            0.098418   \n",
       "std         0.386224       0.428182       0.378496            0.297879   \n",
       "min         0.000000       0.000000       0.000000            0.000000   \n",
       "25%         0.000000       0.000000       0.000000            0.000000   \n",
       "50%         0.000000       0.000000       0.000000            0.000000   \n",
       "75%         0.000000       0.000000       0.000000            0.000000   \n",
       "max         1.000000       1.000000       1.000000            1.000000   \n",
       "\n",
       "       user_type_Subscriber  \n",
       "count         946842.000000  \n",
       "mean               0.901582  \n",
       "std                0.297879  \n",
       "min                0.000000  \n",
       "25%                1.000000  \n",
       "50%                1.000000  \n",
       "75%                1.000000  \n",
       "max                1.000000  "
      ]
     },
     "execution_count": 4,
     "metadata": {},
     "output_type": "execute_result"
    }
   ],
   "source": [
    "bike.describe()"
   ]
  },
  {
   "cell_type": "code",
   "execution_count": 6,
   "metadata": {},
   "outputs": [
    {
     "data": {
      "text/plain": [
       "Brogrammer     706660\n",
       "Nice_person    240182\n",
       "Name: bg, dtype: int64"
      ]
     },
     "execution_count": 6,
     "metadata": {},
     "output_type": "execute_result"
    }
   ],
   "source": [
    "bike.bg.value_counts()"
   ]
  },
  {
   "cell_type": "code",
   "execution_count": 7,
   "metadata": {},
   "outputs": [
    {
     "data": {
      "text/html": [
       "<div>\n",
       "<style scoped>\n",
       "    .dataframe tbody tr th:only-of-type {\n",
       "        vertical-align: middle;\n",
       "    }\n",
       "\n",
       "    .dataframe tbody tr th {\n",
       "        vertical-align: top;\n",
       "    }\n",
       "\n",
       "    .dataframe thead th {\n",
       "        text-align: right;\n",
       "    }\n",
       "</style>\n",
       "<table border=\"1\" class=\"dataframe\">\n",
       "  <thead>\n",
       "    <tr style=\"text-align: right;\">\n",
       "      <th></th>\n",
       "      <th>trip_duration_sec</th>\n",
       "      <th>start_station_id</th>\n",
       "      <th>end_station_id</th>\n",
       "      <th>bike_id</th>\n",
       "      <th>member_birth_year</th>\n",
       "      <th>trip_duration_min</th>\n",
       "      <th>month_April</th>\n",
       "      <th>month_Februrary</th>\n",
       "      <th>month_January</th>\n",
       "      <th>month_March</th>\n",
       "      <th>month_May</th>\n",
       "      <th>user_type_Customer</th>\n",
       "      <th>user_type_Subscriber</th>\n",
       "    </tr>\n",
       "  </thead>\n",
       "  <tbody>\n",
       "    <tr>\n",
       "      <th>count</th>\n",
       "      <td>946842.000000</td>\n",
       "      <td>946842.000000</td>\n",
       "      <td>946842.000000</td>\n",
       "      <td>946842.000000</td>\n",
       "      <td>946842.000000</td>\n",
       "      <td>946842.000000</td>\n",
       "      <td>946842.000000</td>\n",
       "      <td>946842.000000</td>\n",
       "      <td>946842.000000</td>\n",
       "      <td>946842.000000</td>\n",
       "      <td>946842.000000</td>\n",
       "      <td>946842.000000</td>\n",
       "      <td>946842.000000</td>\n",
       "    </tr>\n",
       "    <tr>\n",
       "      <th>mean</th>\n",
       "      <td>578.960272</td>\n",
       "      <td>138.468291</td>\n",
       "      <td>135.722913</td>\n",
       "      <td>3891.877124</td>\n",
       "      <td>1984.673319</td>\n",
       "      <td>9.649340</td>\n",
       "      <td>0.226212</td>\n",
       "      <td>0.176227</td>\n",
       "      <td>0.182460</td>\n",
       "      <td>0.241813</td>\n",
       "      <td>0.173288</td>\n",
       "      <td>0.098418</td>\n",
       "      <td>0.901582</td>\n",
       "    </tr>\n",
       "    <tr>\n",
       "      <th>std</th>\n",
       "      <td>324.429294</td>\n",
       "      <td>112.670023</td>\n",
       "      <td>111.868923</td>\n",
       "      <td>1972.289709</td>\n",
       "      <td>10.045458</td>\n",
       "      <td>5.407152</td>\n",
       "      <td>0.418378</td>\n",
       "      <td>0.381013</td>\n",
       "      <td>0.386224</td>\n",
       "      <td>0.428182</td>\n",
       "      <td>0.378496</td>\n",
       "      <td>0.297879</td>\n",
       "      <td>0.297879</td>\n",
       "    </tr>\n",
       "    <tr>\n",
       "      <th>min</th>\n",
       "      <td>61.000000</td>\n",
       "      <td>3.000000</td>\n",
       "      <td>3.000000</td>\n",
       "      <td>11.000000</td>\n",
       "      <td>1878.000000</td>\n",
       "      <td>1.020000</td>\n",
       "      <td>0.000000</td>\n",
       "      <td>0.000000</td>\n",
       "      <td>0.000000</td>\n",
       "      <td>0.000000</td>\n",
       "      <td>0.000000</td>\n",
       "      <td>0.000000</td>\n",
       "      <td>0.000000</td>\n",
       "    </tr>\n",
       "    <tr>\n",
       "      <th>25%</th>\n",
       "      <td>327.000000</td>\n",
       "      <td>47.000000</td>\n",
       "      <td>44.000000</td>\n",
       "      <td>2175.000000</td>\n",
       "      <td>1980.000000</td>\n",
       "      <td>5.450000</td>\n",
       "      <td>0.000000</td>\n",
       "      <td>0.000000</td>\n",
       "      <td>0.000000</td>\n",
       "      <td>0.000000</td>\n",
       "      <td>0.000000</td>\n",
       "      <td>0.000000</td>\n",
       "      <td>1.000000</td>\n",
       "    </tr>\n",
       "    <tr>\n",
       "      <th>50%</th>\n",
       "      <td>512.000000</td>\n",
       "      <td>101.000000</td>\n",
       "      <td>98.000000</td>\n",
       "      <td>4560.000000</td>\n",
       "      <td>1987.000000</td>\n",
       "      <td>8.530000</td>\n",
       "      <td>0.000000</td>\n",
       "      <td>0.000000</td>\n",
       "      <td>0.000000</td>\n",
       "      <td>0.000000</td>\n",
       "      <td>0.000000</td>\n",
       "      <td>0.000000</td>\n",
       "      <td>1.000000</td>\n",
       "    </tr>\n",
       "    <tr>\n",
       "      <th>75%</th>\n",
       "      <td>769.000000</td>\n",
       "      <td>238.000000</td>\n",
       "      <td>223.000000</td>\n",
       "      <td>5433.000000</td>\n",
       "      <td>1992.000000</td>\n",
       "      <td>12.820000</td>\n",
       "      <td>0.000000</td>\n",
       "      <td>0.000000</td>\n",
       "      <td>0.000000</td>\n",
       "      <td>0.000000</td>\n",
       "      <td>0.000000</td>\n",
       "      <td>0.000000</td>\n",
       "      <td>1.000000</td>\n",
       "    </tr>\n",
       "    <tr>\n",
       "      <th>max</th>\n",
       "      <td>1583.000000</td>\n",
       "      <td>427.000000</td>\n",
       "      <td>427.000000</td>\n",
       "      <td>7196.000000</td>\n",
       "      <td>2001.000000</td>\n",
       "      <td>26.380000</td>\n",
       "      <td>1.000000</td>\n",
       "      <td>1.000000</td>\n",
       "      <td>1.000000</td>\n",
       "      <td>1.000000</td>\n",
       "      <td>1.000000</td>\n",
       "      <td>1.000000</td>\n",
       "      <td>1.000000</td>\n",
       "    </tr>\n",
       "  </tbody>\n",
       "</table>\n",
       "</div>"
      ],
      "text/plain": [
       "       trip_duration_sec  start_station_id  end_station_id        bike_id  \\\n",
       "count      946842.000000     946842.000000   946842.000000  946842.000000   \n",
       "mean          578.960272        138.468291      135.722913    3891.877124   \n",
       "std           324.429294        112.670023      111.868923    1972.289709   \n",
       "min            61.000000          3.000000        3.000000      11.000000   \n",
       "25%           327.000000         47.000000       44.000000    2175.000000   \n",
       "50%           512.000000        101.000000       98.000000    4560.000000   \n",
       "75%           769.000000        238.000000      223.000000    5433.000000   \n",
       "max          1583.000000        427.000000      427.000000    7196.000000   \n",
       "\n",
       "       member_birth_year  trip_duration_min    month_April  month_Februrary  \\\n",
       "count      946842.000000      946842.000000  946842.000000    946842.000000   \n",
       "mean         1984.673319           9.649340       0.226212         0.176227   \n",
       "std            10.045458           5.407152       0.418378         0.381013   \n",
       "min          1878.000000           1.020000       0.000000         0.000000   \n",
       "25%          1980.000000           5.450000       0.000000         0.000000   \n",
       "50%          1987.000000           8.530000       0.000000         0.000000   \n",
       "75%          1992.000000          12.820000       0.000000         0.000000   \n",
       "max          2001.000000          26.380000       1.000000         1.000000   \n",
       "\n",
       "       month_January    month_March      month_May  user_type_Customer  \\\n",
       "count  946842.000000  946842.000000  946842.000000       946842.000000   \n",
       "mean        0.182460       0.241813       0.173288            0.098418   \n",
       "std         0.386224       0.428182       0.378496            0.297879   \n",
       "min         0.000000       0.000000       0.000000            0.000000   \n",
       "25%         0.000000       0.000000       0.000000            0.000000   \n",
       "50%         0.000000       0.000000       0.000000            0.000000   \n",
       "75%         0.000000       0.000000       0.000000            0.000000   \n",
       "max         1.000000       1.000000       1.000000            1.000000   \n",
       "\n",
       "       user_type_Subscriber  \n",
       "count         946842.000000  \n",
       "mean               0.901582  \n",
       "std                0.297879  \n",
       "min                0.000000  \n",
       "25%                1.000000  \n",
       "50%                1.000000  \n",
       "75%                1.000000  \n",
       "max                1.000000  "
      ]
     },
     "execution_count": 7,
     "metadata": {},
     "output_type": "execute_result"
    }
   ],
   "source": [
    "bike.describe()"
   ]
  },
  {
   "cell_type": "code",
   "execution_count": 8,
   "metadata": {},
   "outputs": [
    {
     "data": {
      "text/plain": [
       "<matplotlib.axes._subplots.AxesSubplot at 0x1b27484a7f0>"
      ]
     },
     "execution_count": 8,
     "metadata": {},
     "output_type": "execute_result"
    },
    {
     "data": {
      "image/png": "[encoded data removed]",
      "text/plain": [
       "<Figure size 576x396 with 1 Axes>"
      ]
     },
     "metadata": {},
     "output_type": "display_data"
    }
   ],
   "source": [
    "bike.bg.value_counts().plot(kind='bar')"
   ]
  },
  {
   "cell_type": "code",
   "execution_count": 9,
   "metadata": {},
   "outputs": [
    {
     "data": {
      "text/plain": [
       "<matplotlib.axes._subplots.AxesSubplot at 0x1b274f56b80>"
      ]
     },
     "execution_count": 9,
     "metadata": {},
     "output_type": "execute_result"
    },
    {
     "data": {
      "image/png": "[encoded data removed]",
      "text/plain": [
       "<Figure size 576x396 with 1 Axes>"
      ]
     },
     "metadata": {},
     "output_type": "display_data"
    }
   ],
   "source": [
    "bike.user_type_Customer.value_counts().plot(kind='bar')"
   ]
  },
  {
   "cell_type": "code",
   "execution_count": 11,
   "metadata": {},
   "outputs": [
    {
     "data": {
      "text/plain": [
       "<matplotlib.axes._subplots.AxesSubplot at 0x1b274fe4ca0>"
      ]
     },
     "execution_count": 11,
     "metadata": {},
     "output_type": "execute_result"
    },
    {
     "data": {
      "image/png": "[encoded data removed]",
      "text/plain": [
       "<Figure size 576x396 with 1 Axes>"
      ]
     },
     "metadata": {},
     "output_type": "display_data"
    }
   ],
   "source": [
    "bike.user_type_Subscriber.value_counts().plot(kind='bar')"
   ]
  },
  {
   "cell_type": "code",
   "execution_count": 13,
   "metadata": {},
   "outputs": [
    {
     "data": {
      "text/plain": [
       "<matplotlib.axes._subplots.AxesSubplot at 0x1b275069340>"
      ]
     },
     "execution_count": 13,
     "metadata": {},
     "output_type": "execute_result"
    },
    {
     "data": {
      "image/png": "[encoded data removed]",
      "text/plain": [
       "<Figure size 576x396 with 1 Axes>"
      ]
     },
     "metadata": {},
     "output_type": "display_data"
    }
   ],
   "source": [
    "bike.trip_duration_min.plot(kind='hist')"
   ]
  },
  {
   "cell_type": "code",
   "execution_count": 14,
   "metadata": {},
   "outputs": [
    {
     "data": {
      "text/plain": [
       "<matplotlib.axes._subplots.AxesSubplot at 0x1b2750a56d0>"
      ]
     },
     "execution_count": 14,
     "metadata": {},
     "output_type": "execute_result"
    },
    {
     "data": {
      "image/png": "[encoded data removed]",
      "text/plain": [
       "<Figure size 576x396 with 1 Axes>"
      ]
     },
     "metadata": {},
     "output_type": "display_data"
    }
   ],
   "source": [
    "bike.member_birth_year.plot(kind='hist')"
   ]
  },
  {
   "cell_type": "code",
   "execution_count": 16,
   "metadata": {},
   "outputs": [],
   "source": [
    "import numpy as np\n",
    "seed = np.random.seed(107)\n",
    "\n",
    "y= bike['bg']\n",
    "X = bike.drop(['bg','trip_duration_sec'], axis=1)"
   ]
  },
  {
   "cell_type": "code",
   "execution_count": 18,
   "metadata": {},
   "outputs": [],
   "source": [
    "X_train, X_test, y_train, y_test = train_test_split(X, y, stratify=y,\n",
    "                                                    test_size=.3, random_state=seed)"
   ]
  },
  {
   "cell_type": "code",
   "execution_count": 19,
   "metadata": {},
   "outputs": [
    {
     "name": "stdout",
     "output_type": "stream",
     "text": [
      "(662789, 12)\n",
      "(662789,)\n",
      "(284053, 12)\n",
      "(284053,)\n"
     ]
    }
   ],
   "source": [
    "print(X_train.shape)\n",
    "print(y_train.shape)\n",
    "print(X_test.shape)\n",
    "print(y_test.shape)"
   ]
  },
  {
   "cell_type": "code",
   "execution_count": 21,
   "metadata": {},
   "outputs": [
    {
     "data": {
      "text/plain": [
       "DecisionTreeClassifier(ccp_alpha=0.0, class_weight=None, criterion='gini',\n",
       "                       max_depth=None, max_features=None, max_leaf_nodes=None,\n",
       "                       min_impurity_decrease=0.0, min_impurity_split=None,\n",
       "                       min_samples_leaf=1, min_samples_split=2,\n",
       "                       min_weight_fraction_leaf=0.0, presort='deprecated',\n",
       "                       random_state=None, splitter='best')"
      ]
     },
     "execution_count": 21,
     "metadata": {},
     "output_type": "execute_result"
    }
   ],
   "source": [
    "from sklearn.tree import DecisionTreeClassifier\n",
    "dt=DecisionTreeClassifier()\n",
    "dt.fit(X_train, y_train)"
   ]
  },
  {
   "cell_type": "code",
   "execution_count": null,
   "metadata": {},
   "outputs": [],
   "source": []
  },
  {
   "cell_type": "code",
   "execution_count": null,
   "metadata": {},
   "outputs": [],
   "source": []
  },
  {
   "cell_type": "code",
   "execution_count": null,
   "metadata": {},
   "outputs": [],
   "source": []
  },
  {
   "cell_type": "code",
   "execution_count": null,
   "metadata": {},
   "outputs": [],
   "source": []
  },
  {
   "cell_type": "code",
   "execution_count": null,
   "metadata": {},
   "outputs": [],
   "source": []
  },
  {
   "cell_type": "code",
   "execution_count": null,
   "metadata": {},
   "outputs": [],
   "source": []
  },
  {
   "cell_type": "code",
   "execution_count": null,
   "metadata": {},
   "outputs": [],
   "source": []
  },
  {
   "cell_type": "code",
   "execution_count": 22,
   "metadata": {},
   "outputs": [],
   "source": [
    "from sklearn.linear_model import LogisticRegression"
   ]
  },
  {
   "cell_type": "code",
   "execution_count": null,
   "metadata": {},
   "outputs": [],
   "source": [
    "new_pipe = make_pipeline(StandardScaler(), LogisticRegression(penalty='elasticnet', class_weight='balanced'))\n",
    "new_p_grid = {'logisticregression__'}\n"
   ]
  }
 ],
 "metadata": {
  "kernelspec": {
   "display_name": "Python 3",
   "language": "python",
   "name": "python3"
  },
  "language_info": {
   "codemirror_mode": {
    "name": "ipython",
    "version": 3
   },
   "file_extension": ".py",
   "mimetype": "text/x-python",
   "name": "python",
   "nbconvert_exporter": "python",
   "pygments_lexer": "ipython3",
   "version": "3.8.1"
  },
  "toc": {
   "base_numbering": 1,
   "nav_menu": {},
   "number_sections": true,
   "sideBar": true,
   "skip_h1_title": false,
   "title_cell": "Table of Contents",
   "title_sidebar": "Contents",
   "toc_cell": false,
   "toc_position": {},
   "toc_section_display": true,
   "toc_window_display": false
  },
  "varInspector": {
   "cols": {
    "lenName": 16,
    "lenType": 16,
    "lenVar": 40
   },
   "kernels_config": {
    "python": {
     "delete_cmd_postfix": "",
     "delete_cmd_prefix": "del ",
     "library": "var_list.py",
     "varRefreshCmd": "print(var_dic_list())"
    },
    "r": {
     "delete_cmd_postfix": ") ",
     "delete_cmd_prefix": "rm(",
     "library": "var_list.r",
     "varRefreshCmd": "cat(var_dic_list()) "
    }
   },
   "position": {
    "height": "410.185px",
    "left": "474.387px",
    "right": "20px",
    "top": "120px",
    "width": "215.995px"
   },
   "types_to_exclude": [
    "module",
    "function",
    "builtin_function_or_method",
    "instance",
    "_Feature"
   ],
   "window_display": true
  }
 },
 "nbformat": 4,
 "nbformat_minor": 4
}
