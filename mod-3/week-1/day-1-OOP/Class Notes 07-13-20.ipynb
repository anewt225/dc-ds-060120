{
 "cells": [
  {
   "cell_type": "code",
   "execution_count": 25,
   "metadata": {},
   "outputs": [
    {
     "data": {
      "text/plain": [
       "'Clair Marie'"
      ]
     },
     "execution_count": 25,
     "metadata": {},
     "output_type": "execute_result"
    }
   ],
   "source": [
    "import numpy as np\n",
    "\n",
    "## Create new class in which to define object student\n",
    "class Student():\n",
    "    ## Create init method (2 underscores on each side\n",
    "    ## Object construction in efficient way, using desired variables\n",
    "    def __init__(self, name, last_name, week): \n",
    "        ##Using __init__ allows us to create new attributes for this object\n",
    "        ##self creates new Student() object. Each subsequent line defines attributes:\n",
    "        self.name = name\n",
    "        self.last_name = last_name\n",
    "        self.week = week\n",
    "    def take_test(self):\n",
    "        self.score = np.random.normal(loc = 90, scale = 3)\n",
    "    def email(self):\n",
    "        self.email_ = self.name.lower() + \"1\" + self.last_name.lower() + \"@flatironschool.com\"\n",
    "        \n",
    "\n",
    "student1 = Student(\"Clair Marie\", \"Wholean\", 7)\n",
    "student2 = Student(\"Dan\", \"Hales\", 7)\n",
    "student1.name"
   ]
  },
  {
   "cell_type": "code",
   "execution_count": 26,
   "metadata": {},
   "outputs": [
    {
     "ename": "TypeError",
     "evalue": "__init__() missing 2 required positional arguments: 'last_name' and 'week'",
     "output_type": "error",
     "traceback": [
      "\u001b[1;31m---------------------------------------------------------------------------\u001b[0m",
      "\u001b[1;31mTypeError\u001b[0m                                 Traceback (most recent call last)",
      "\u001b[1;32m<ipython-input-26-f2932bea4437>\u001b[0m in \u001b[0;36m<module>\u001b[1;34m\u001b[0m\n\u001b[1;32m----> 1\u001b[1;33m \u001b[0mstudent3\u001b[0m \u001b[1;33m=\u001b[0m \u001b[0mStudent\u001b[0m\u001b[1;33m(\u001b[0m\u001b[1;34m\"Murat\"\u001b[0m\u001b[1;33m)\u001b[0m \u001b[1;31m## Try creating a new student\u001b[0m\u001b[1;33m\u001b[0m\u001b[1;33m\u001b[0m\u001b[0m\n\u001b[0m",
      "\u001b[1;31mTypeError\u001b[0m: __init__() missing 2 required positional arguments: 'last_name' and 'week'"
     ]
    }
   ],
   "source": [
    "student3 = Student(\"Murat\") ## Try creating a new student"
   ]
  },
  {
   "cell_type": "code",
   "execution_count": null,
   "metadata": {},
   "outputs": [],
   "source": [
    "##Since we specified 3 arguments for the Student class, but only input one argument, we will get a \"missing 2 required positional arguments\" error"
   ]
  },
  {
   "cell_type": "code",
   "execution_count": 27,
   "metadata": {},
   "outputs": [
    {
     "name": "stdout",
     "output_type": "stream",
     "text": [
      "85.90175226370361 87.26263114074183\n"
     ]
    }
   ],
   "source": [
    "   \n",
    "student1.take_test()\n",
    "student2.take_test()\n",
    "print(student1.score, student2.score)"
   ]
  },
  {
   "cell_type": "code",
   "execution_count": 32,
   "metadata": {},
   "outputs": [
    {
     "data": {
      "text/plain": [
       "<bound method Student.email of <__main__.Student object at 0x0000011D5A9557F0>>"
      ]
     },
     "execution_count": 32,
     "metadata": {},
     "output_type": "execute_result"
    }
   ],
   "source": [
    "student1.email()\n",
    "student1.email"
   ]
  },
  {
   "cell_type": "markdown",
   "metadata": {},
   "source": [
    "##### Follow-up:\n",
    "\n",
    "Structure of OOP: https://www.google.com/search?q=python+object+oriented+programming+structure&tbm=isch&ved=2ahUKEwiU_-CuicvqAhWIMN8KHa0GDzMQ2-cCegQIABAA&oq=python+object+oriented+programming+structure&gs_lcp=CgNpbWcQAzoECCMQJ1CEeljkkwFgkpUBaARwAHgAgAFBiAHFCJIBAjIymAEAoAEBqgELZ3dzLXdpei1pbWc&sclient=img&ei=y8QMX9TtFojh_AatjbyYAw&rlz=1C1CHBF_enUS851US853#imgrc=ngdYrXnyc7bN7M\n",
    "\n",
    "Rise (convert Jupyter notebook into presentation): \n",
    "https://rise.readthedocs.io/en/stable/\n",
    "\n",
    "Summary: https://medium.com/@DakshHub/object-oriented-python-class-es-and-object-s-f9f016674e40\n",
    "\n"
   ]
  }
 ],
 "metadata": {
  "kernelspec": {
   "display_name": "Python 3",
   "language": "python",
   "name": "python3"
  },
  "language_info": {
   "codemirror_mode": {
    "name": "ipython",
    "version": 3
   },
   "file_extension": ".py",
   "mimetype": "text/x-python",
   "name": "python",
   "nbconvert_exporter": "python",
   "pygments_lexer": "ipython3",
   "version": "3.8.1"
  },
  "toc": {
   "base_numbering": 1,
   "nav_menu": {},
   "number_sections": true,
   "sideBar": true,
   "skip_h1_title": false,
   "title_cell": "Table of Contents",
   "title_sidebar": "Contents",
   "toc_cell": false,
   "toc_position": {},
   "toc_section_display": true,
   "toc_window_display": false
  },
  "varInspector": {
   "cols": {
    "lenName": 16,
    "lenType": 16,
    "lenVar": 40
   },
   "kernels_config": {
    "python": {
     "delete_cmd_postfix": "",
     "delete_cmd_prefix": "del ",
     "library": "var_list.py",
     "varRefreshCmd": "print(var_dic_list())"
    },
    "r": {
     "delete_cmd_postfix": ") ",
     "delete_cmd_prefix": "rm(",
     "library": "var_list.r",
     "varRefreshCmd": "cat(var_dic_list()) "
    }
   },
   "types_to_exclude": [
    "module",
    "function",
    "builtin_function_or_method",
    "instance",
    "_Feature"
   ],
   "window_display": false
  }
 },
 "nbformat": 4,
 "nbformat_minor": 4
}
