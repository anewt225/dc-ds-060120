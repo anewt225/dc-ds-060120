{
 "cells": [
  {
   "cell_type": "markdown",
   "metadata": {},
   "source": [
    "## Review\n",
    "\n",
    "### Overfitting / Underfitting\n",
    "Underfitting - model is too general, reflects bias, and does not reflect any patterns in data\n",
    "Overfitting - \n",
    "\n",
    "### Bias - Variance Trade-Off\n",
    "\n",
    "Each curve is an error curve - we want an **optimal balance**  between\n",
    "\n",
    "underfitting (high bias, too simple)\n",
    "overfitting (high variance, too many degrees of freedom)\n",
    "number of errors (error rate)\n",
    "\n",
    "### Regularization\n",
    "Regularization reduces the wiggle/flexibility in the model by:\n",
    "- decreases variance\n",
    "- increases bias\n",
    "- ideally, higher decrease in variance than increase in bias"
   ]
  },
  {
   "cell_type": "markdown",
   "metadata": {},
   "source": [
    "## Preliminaries - L1 and L2 Norms\n",
    "\n",
    "Norms - \"fancy length\". Reduces to lengths of a vector (list of horizontally or vertically stacked numbers)\n",
    "\n",
    "What is a vector?"
   ]
  },
  {
   "cell_type": "code",
   "execution_count": 2,
   "metadata": {},
   "outputs": [
    {
     "data": {
      "text/plain": [
       "31.12876483254676"
      ]
     },
     "execution_count": 2,
     "metadata": {},
     "output_type": "execute_result"
    }
   ],
   "source": [
    "##L2-norm of x-squared vector\n",
    "import numpy as np\n",
    "X = np.array([12, -25, 10, -10])\n",
    "np.sqrt(sum(X**2))"
   ]
  },
  {
   "cell_type": "markdown",
   "metadata": {},
   "source": [
    "Cost function o= RSS: Residual sum of squares (Ordinary least squares cost function"
   ]
  },
  {
   "cell_type": "code",
   "execution_count": null,
   "metadata": {},
   "outputs": [],
   "source": []
  }
 ],
 "metadata": {
  "kernelspec": {
   "display_name": "Python 3",
   "language": "python",
   "name": "python3"
  },
  "language_info": {
   "codemirror_mode": {
    "name": "ipython",
    "version": 3
   },
   "file_extension": ".py",
   "mimetype": "text/x-python",
   "name": "python",
   "nbconvert_exporter": "python",
   "pygments_lexer": "ipython3",
   "version": "3.8.1"
  },
  "toc": {
   "base_numbering": 1,
   "nav_menu": {},
   "number_sections": true,
   "sideBar": true,
   "skip_h1_title": false,
   "title_cell": "Table of Contents",
   "title_sidebar": "Contents",
   "toc_cell": false,
   "toc_position": {},
   "toc_section_display": true,
   "toc_window_display": false
  },
  "varInspector": {
   "cols": {
    "lenName": 16,
    "lenType": 16,
    "lenVar": 40
   },
   "kernels_config": {
    "python": {
     "delete_cmd_postfix": "",
     "delete_cmd_prefix": "del ",
     "library": "var_list.py",
     "varRefreshCmd": "print(var_dic_list())"
    },
    "r": {
     "delete_cmd_postfix": ") ",
     "delete_cmd_prefix": "rm(",
     "library": "var_list.r",
     "varRefreshCmd": "cat(var_dic_list()) "
    }
   },
   "types_to_exclude": [
    "module",
    "function",
    "builtin_function_or_method",
    "instance",
    "_Feature"
   ],
   "window_display": false
  }
 },
 "nbformat": 4,
 "nbformat_minor": 4
}
