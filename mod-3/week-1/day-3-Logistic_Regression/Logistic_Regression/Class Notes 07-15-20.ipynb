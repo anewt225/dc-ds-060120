{
 "cells": [
  {
   "cell_type": "markdown",
   "metadata": {},
   "source": [
    "# Logistic Regression Notes"
   ]
  },
  {
   "cell_type": "markdown",
   "metadata": {},
   "source": [
    "Use plt.imshow() to show image data as images\n",
    "\n",
    "- Read documentation!\n",
    "- e.g., (interpolation, cmap, etc)"
   ]
  },
  {
   "cell_type": "markdown",
   "metadata": {},
   "source": [
    "## Splitting Data into Training and Test Sets\n",
    "\n",
    "1. digits.data - specifies the data\n",
    "2. digits.target - specifies target variable\n",
    "3. test_size\n",
    "4. stratify - ensure that the distribution of the test data and training data is the same"
   ]
  },
  {
   "cell_type": "markdown",
   "metadata": {},
   "source": [
    "## Scikit-learn 4-step modeling pattern (digits dataset)\n",
    "\n",
    "1. Step 1 - Import the model you want to use\n",
    "\n",
    "Scikit-learn models are implemented as Python classes\n",
    "\n",
    "from sklearn.linear_model import LogisticRegression \n",
    "\n",
    "2. Make an instance of the model\n",
    "\n",
    "logisticRegr = LogisticRegression(\\[Specify parameters, some below\\]) =\n",
    "\n",
    "    1. max_iter - [=1000] number of iterations in gradient descent \n",
    "    2. penalty - [=Ltype of penalty (L1 - , or L2 - LASSO, \"none\" - must be string!)\n",
    "    3. solver - variations of ways to solve (faster, better, tradeoffs between accuracy)\n",
    "    4. tol - limitation on tolerance level\n",
    "    5. class_weight - give different samples different weights (e.g., imbalanced data)\n",
    "    6. n_jobs - \n",
    "    7. verbose - \"show your work\" (usually slows down process, but shows transactions etc in kernel)"
   ]
  },
  {
   "cell_type": "markdown",
   "metadata": {},
   "source": [
    "Increased C value = more regularization, decreased C value = more vanilla results.\n",
    "\n",
    "C value is like inverse alpha."
   ]
  },
  {
   "cell_type": "code",
   "execution_count": null,
   "metadata": {},
   "outputs": [],
   "source": []
  }
 ],
 "metadata": {
  "kernelspec": {
   "display_name": "Python 3",
   "language": "python",
   "name": "python3"
  },
  "language_info": {
   "codemirror_mode": {
    "name": "ipython",
    "version": 3
   },
   "file_extension": ".py",
   "mimetype": "text/x-python",
   "name": "python",
   "nbconvert_exporter": "python",
   "pygments_lexer": "ipython3",
   "version": "3.8.1"
  },
  "toc": {
   "base_numbering": 1,
   "nav_menu": {},
   "number_sections": true,
   "sideBar": true,
   "skip_h1_title": false,
   "title_cell": "Table of Contents",
   "title_sidebar": "Contents",
   "toc_cell": false,
   "toc_position": {},
   "toc_section_display": true,
   "toc_window_display": false
  },
  "varInspector": {
   "cols": {
    "lenName": 16,
    "lenType": 16,
    "lenVar": 40
   },
   "kernels_config": {
    "python": {
     "delete_cmd_postfix": "",
     "delete_cmd_prefix": "del ",
     "library": "var_list.py",
     "varRefreshCmd": "print(var_dic_list())"
    },
    "r": {
     "delete_cmd_postfix": ") ",
     "delete_cmd_prefix": "rm(",
     "library": "var_list.r",
     "varRefreshCmd": "cat(var_dic_list()) "
    }
   },
   "types_to_exclude": [
    "module",
    "function",
    "builtin_function_or_method",
    "instance",
    "_Feature"
   ],
   "window_display": false
  }
 },
 "nbformat": 4,
 "nbformat_minor": 4
}
