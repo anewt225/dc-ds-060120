{
 "cells": [
  {
   "cell_type": "markdown",
   "metadata": {},
   "source": [
    "# \"Microsoft Movies\" - A Market Entry Proposal\n",
    "\n",
    "## Getting Started\n",
    "\n",
    "Based on the Microsoft's interest in seeing new players create original content and making moves into the movie industry, I've drafted several general questions that they might consider even before approaching the data. Generally, an organization like Microsoft should perform SWOT (Strengths, Weaknesses, Opportunities, and Threats) analysis before diving head first into a new product (like movies). \n",
    "\n",
    "Without broadening the scope too much, brief items in these categories might include the following:\n",
    "\n",
    "1. **Strengths** - technology company, Office suite dominance, widespread brand recognition (e.g., Xbox)\n",
    "2. **Weaknesses** - Little artistic experience, no Hollywood experience\n",
    "3. **Opportunities** - A lot of stay-at-home TV watching, previous competitors' success rates/surface-level data\n",
    "4. **Threats** - Competition from big-name, thoroughly experienced companies like Netflix, Amazon, HBO, Disney, etc.; external blocks (theaters, distributors, platforms, pandemics)"
   ]
  },
  {
   "cell_type": "markdown",
   "metadata": {
    "slideshow": {
     "slide_type": "slide"
    }
   },
   "source": [
    "## Business Understanding\n",
    "\n",
    "### Analysis Question Brainstorming\n",
    "\n",
    "1. Scope - does box office data capture the full extent of the potential opportunity available in the movie industry? Are we looking at domestic or global success? What specific factors are contributing to Microsoft's desire to make moves into the industry, and what other relevant data should be made available?\n",
    "\n",
    "2. Accuracy - is the data we have accurate? Specifically, how recently was it updated? Importantly, given the new covid-19 reality, are there enough localized intervals of data to be able to understand how both the closing and opening of governments has impacted / will impact the industry before making such a large investment?\n",
    "\n",
    "3. Delivery - What is the breakdown of delivery methods for new movies? Specifically, do most come out to streaming subscriptions, pay-to-download, straight-to-DVD, big-name theaters (AMC, Regal...), local theaters? Is there a higher ROI on any of these?\n",
    "\n",
    "4. Consumer - Who is the target audience? What age group spends the most money? What age ratings of movies have the most views? What is the correlation breakdown for movie ratings vs. views vs. medium presented? In terms of original content production, what is the most effective way to reach them? I.e., where do they/would they watch movies (phone, tablet, TV, theater, etc.) and what is the optimal content length for each of those media\n",
    "\n",
    "5. Content - Who are the most successful actors in the industry, and do certain of them perform better together? What is the best \"product mix\" of genres to start out with? What optimal movie length has the highest rating (is there a correlation)? Within those genres, who are the most successful directors in terms of volume of output, highest ratings? What is their value in terms of increased rating per dollar spent on them? I.e., which directors would provide the biggest ROI?\n",
    "\n",
    "6. Cost - What is the optimal amount to spend? What is the general range of funds spent on generating successful movies? Is there a correlation between dollars spent increase in rating?"
   ]
  },
  {
   "cell_type": "markdown",
   "metadata": {},
   "source": [
    "### Focusing Business Understanding\n",
    "\n",
    "The questions above seek a wide scope of analysis that Microsoft should perform before investing in movies and the entertainment industry. The scope of this project, then, is just a small piece of the required questions before investment. Given Microsoft's giant size and revenue as one of the most successful tech companies, it should be fair to assume that Microsoft wants to put out a very successful movie, in the eyes of the viewer. For this reason, success will be defined as a movie with a high rating (specific numbers dependent upon what the data look like). Additionally, while budget should not be a constraint, Microsoft should know as early as possible how much this project will cost, in order to begin effectively allocating resources and saving up. Similarly, while movie length is just one small piece of the larger picture, Microsoft should know which lengths of movie to produce in order to begin pitching the project to a creative team. So, given the data provided, we will focus on two small parts of the cost and content subsets of the data. By analyzing this data, we will seek to answer the following questions:\n",
    "\n",
    "**1. What budget range should Microsoft expect to set to achieve a successful (read: top-rated) movie?**\n",
    "\n",
    "**2. What length movie should Microsoft expect to create to achieve successful (read: top-rated) movie?**"
   ]
  },
  {
   "cell_type": "markdown",
   "metadata": {},
   "source": [
    "## Data Understanding\n",
    "\n",
    "In order to answer the two business understanding questions, the data required are:\n",
    "\n",
    "1. Title - in order to identify the movie across datasets\n",
    "2. Budget\n",
    "3. Length\n",
    "4. Rating\n",
    "\n",
    "Several of the datasets have the information we seek in their title, specifically \"IMDB Title Basics\", \"IMDB Title Ratings\", \"RT Movie Info\",. \"RT Reviews\", and \"TN Movie Budgets\". So we'll import the headers of just a few to see which specific ones have the relevant data. For this specific analysis, we've chosen to work with IMDB data (Title Basics, Title Ratings) and The Numbers data (Movie Budgets). In focusing on these datasets, we must acknowledge off the bat that this is but a small piece and several other data sources should be consulted in addition to these two to make an accurate assessment of the two business questions we've proposed."
   ]
  },
  {
   "cell_type": "markdown",
   "metadata": {},
   "source": [
    "## Data Preparation"
   ]
  },
  {
   "cell_type": "markdown",
   "metadata": {},
   "source": [
    "First, we'll start by importing all the tools that we will need for analysis later in the notebook:"
   ]
  },
  {
   "cell_type": "code",
   "execution_count": 1,
   "metadata": {},
   "outputs": [],
   "source": [
    "import pandas as pd\n",
    "import numpy as np\n",
    "import matplotlib.pyplot as plt\n",
    "import seaborn as sns"
   ]
  },
  {
   "cell_type": "markdown",
   "metadata": {},
   "source": [
    "### Import Data\n",
    "\n",
    "Within the IMDB Data, in order to narrow this information down even further, we'll have to peek inside the data to determine if we've found some data we were looking for."
   ]
  },
  {
   "cell_type": "markdown",
   "metadata": {},
   "source": [
    "#### First Dataset: IMDB Title Basics\n",
    "\n",
    "Observing the column names of the IMDB Title Basics dataframe below provides two of the four relevant pieces of information we established as necessary based on the business needs: Primary Title and Runtime in Minutes. Great. We'll move on to the next set."
   ]
  },
  {
   "cell_type": "code",
   "execution_count": 2,
   "metadata": {},
   "outputs": [],
   "source": [
    "IMDBTitleBasicsdf = pd.read_csv(\"zippedData/imdb.title.basics.csv.gz\")\n",
    "###Import IMDB 'Basics' and 'Ratings' to 1) identify how the titles are indexed, and 2) link the titles to the ratings"
   ]
  },
  {
   "cell_type": "code",
   "execution_count": 3,
   "metadata": {},
   "outputs": [
    {
     "data": {
      "text/html": [
       "<div>\n",
       "<style scoped>\n",
       "    .dataframe tbody tr th:only-of-type {\n",
       "        vertical-align: middle;\n",
       "    }\n",
       "\n",
       "    .dataframe tbody tr th {\n",
       "        vertical-align: top;\n",
       "    }\n",
       "\n",
       "    .dataframe thead th {\n",
       "        text-align: right;\n",
       "    }\n",
       "</style>\n",
       "<table border=\"1\" class=\"dataframe\">\n",
       "  <thead>\n",
       "    <tr style=\"text-align: right;\">\n",
       "      <th></th>\n",
       "      <th>tconst</th>\n",
       "      <th>primary_title</th>\n",
       "      <th>original_title</th>\n",
       "      <th>start_year</th>\n",
       "      <th>runtime_minutes</th>\n",
       "      <th>genres</th>\n",
       "    </tr>\n",
       "  </thead>\n",
       "  <tbody>\n",
       "    <tr>\n",
       "      <th>0</th>\n",
       "      <td>tt0063540</td>\n",
       "      <td>Sunghursh</td>\n",
       "      <td>Sunghursh</td>\n",
       "      <td>2013</td>\n",
       "      <td>175.0</td>\n",
       "      <td>Action,Crime,Drama</td>\n",
       "    </tr>\n",
       "    <tr>\n",
       "      <th>1</th>\n",
       "      <td>tt0066787</td>\n",
       "      <td>One Day Before the Rainy Season</td>\n",
       "      <td>Ashad Ka Ek Din</td>\n",
       "      <td>2019</td>\n",
       "      <td>114.0</td>\n",
       "      <td>Biography,Drama</td>\n",
       "    </tr>\n",
       "  </tbody>\n",
       "</table>\n",
       "</div>"
      ],
      "text/plain": [
       "      tconst                    primary_title   original_title  start_year  \\\n",
       "0  tt0063540                        Sunghursh        Sunghursh        2013   \n",
       "1  tt0066787  One Day Before the Rainy Season  Ashad Ka Ek Din        2019   \n",
       "\n",
       "   runtime_minutes              genres  \n",
       "0            175.0  Action,Crime,Drama  \n",
       "1            114.0     Biography,Drama  "
      ]
     },
     "execution_count": 3,
     "metadata": {},
     "output_type": "execute_result"
    }
   ],
   "source": [
    "IMDBTitleBasicsdf.head(2)\n",
    "##Use head function to get tabular structural overview"
   ]
  },
  {
   "cell_type": "code",
   "execution_count": 4,
   "metadata": {},
   "outputs": [
    {
     "name": "stdout",
     "output_type": "stream",
     "text": [
      "<class 'pandas.core.frame.DataFrame'>\n",
      "RangeIndex: 146144 entries, 0 to 146143\n",
      "Data columns (total 6 columns):\n",
      " #   Column           Non-Null Count   Dtype  \n",
      "---  ------           --------------   -----  \n",
      " 0   tconst           146144 non-null  object \n",
      " 1   primary_title    146144 non-null  object \n",
      " 2   original_title   146123 non-null  object \n",
      " 3   start_year       146144 non-null  int64  \n",
      " 4   runtime_minutes  114405 non-null  float64\n",
      " 5   genres           140736 non-null  object \n",
      "dtypes: float64(1), int64(1), object(4)\n",
      "memory usage: 6.7+ MB\n"
     ]
    }
   ],
   "source": [
    "IMDBTitleBasicsdf.info()\n",
    "###Get basic information about the IMDB column names to determine how the data is stored"
   ]
  },
  {
   "cell_type": "markdown",
   "metadata": {},
   "source": [
    "#### Second Dataset: IMDB Title Ratings\n",
    "\n",
    "I suspect IMDB Title Ratings has information about the ratings for each Title, so we'll import that:"
   ]
  },
  {
   "cell_type": "code",
   "execution_count": 5,
   "metadata": {},
   "outputs": [],
   "source": [
    "IMDBTitleRatingsdf = pd.read_csv(\"zippedData/imdb.title.ratings.csv.gz\")\n",
    "###Use pandas to import Title Ratings dataset.\n",
    "###Save dataframe variable for easy reference later."
   ]
  },
  {
   "cell_type": "code",
   "execution_count": 6,
   "metadata": {},
   "outputs": [
    {
     "data": {
      "text/html": [
       "<div>\n",
       "<style scoped>\n",
       "    .dataframe tbody tr th:only-of-type {\n",
       "        vertical-align: middle;\n",
       "    }\n",
       "\n",
       "    .dataframe tbody tr th {\n",
       "        vertical-align: top;\n",
       "    }\n",
       "\n",
       "    .dataframe thead th {\n",
       "        text-align: right;\n",
       "    }\n",
       "</style>\n",
       "<table border=\"1\" class=\"dataframe\">\n",
       "  <thead>\n",
       "    <tr style=\"text-align: right;\">\n",
       "      <th></th>\n",
       "      <th>tconst</th>\n",
       "      <th>averagerating</th>\n",
       "      <th>numvotes</th>\n",
       "    </tr>\n",
       "  </thead>\n",
       "  <tbody>\n",
       "    <tr>\n",
       "      <th>0</th>\n",
       "      <td>tt10356526</td>\n",
       "      <td>8.3</td>\n",
       "      <td>31</td>\n",
       "    </tr>\n",
       "    <tr>\n",
       "      <th>1</th>\n",
       "      <td>tt10384606</td>\n",
       "      <td>8.9</td>\n",
       "      <td>559</td>\n",
       "    </tr>\n",
       "  </tbody>\n",
       "</table>\n",
       "</div>"
      ],
      "text/plain": [
       "       tconst  averagerating  numvotes\n",
       "0  tt10356526            8.3        31\n",
       "1  tt10384606            8.9       559"
      ]
     },
     "execution_count": 6,
     "metadata": {},
     "output_type": "execute_result"
    }
   ],
   "source": [
    "IMDBTitleRatingsdf.head(2)\n",
    "##Use head function to get tabular structural overview"
   ]
  },
  {
   "cell_type": "code",
   "execution_count": 7,
   "metadata": {},
   "outputs": [
    {
     "name": "stdout",
     "output_type": "stream",
     "text": [
      "<class 'pandas.core.frame.DataFrame'>\n",
      "RangeIndex: 73856 entries, 0 to 73855\n",
      "Data columns (total 3 columns):\n",
      " #   Column         Non-Null Count  Dtype  \n",
      "---  ------         --------------  -----  \n",
      " 0   tconst         73856 non-null  object \n",
      " 1   averagerating  73856 non-null  float64\n",
      " 2   numvotes       73856 non-null  int64  \n",
      "dtypes: float64(1), int64(1), object(1)\n",
      "memory usage: 1.7+ MB\n"
     ]
    }
   ],
   "source": [
    "IMDBTitleRatingsdf.info()\n",
    "###Use the pandas info function to get general information about this dataset"
   ]
  },
  {
   "cell_type": "markdown",
   "metadata": {},
   "source": [
    "This dataframe has the Average Rating as well as a number of votes (gives us specific information about the rating, which we might be able to use later). However, off the bat I've noticed two issues: There is no \"Title\" column, and the \"non-null\" count of items here is about half of that in the previous Title Basics dataframe. We'll address these issues later.\n",
    "\n",
    "For now, I want to finish finding the data for the last data requirement we established earlier: Budgets."
   ]
  },
  {
   "cell_type": "markdown",
   "metadata": {},
   "source": [
    "#### Third Dataset: Movie Budgets\n",
    "\n",
    "We'll import one more dataset in order to determine the general expected budget: "
   ]
  },
  {
   "cell_type": "code",
   "execution_count": 8,
   "metadata": {},
   "outputs": [],
   "source": [
    "budgetsdf = pd.read_csv('zippedData/tn.movie_budgets.csv.gz',parse_dates = True) ##Bring in the budget data!"
   ]
  },
  {
   "cell_type": "code",
   "execution_count": 9,
   "metadata": {},
   "outputs": [
    {
     "data": {
      "text/html": [
       "<div>\n",
       "<style scoped>\n",
       "    .dataframe tbody tr th:only-of-type {\n",
       "        vertical-align: middle;\n",
       "    }\n",
       "\n",
       "    .dataframe tbody tr th {\n",
       "        vertical-align: top;\n",
       "    }\n",
       "\n",
       "    .dataframe thead th {\n",
       "        text-align: right;\n",
       "    }\n",
       "</style>\n",
       "<table border=\"1\" class=\"dataframe\">\n",
       "  <thead>\n",
       "    <tr style=\"text-align: right;\">\n",
       "      <th></th>\n",
       "      <th>id</th>\n",
       "      <th>release_date</th>\n",
       "      <th>movie</th>\n",
       "      <th>production_budget</th>\n",
       "      <th>domestic_gross</th>\n",
       "      <th>worldwide_gross</th>\n",
       "    </tr>\n",
       "  </thead>\n",
       "  <tbody>\n",
       "    <tr>\n",
       "      <th>0</th>\n",
       "      <td>1</td>\n",
       "      <td>Dec 18, 2009</td>\n",
       "      <td>Avatar</td>\n",
       "      <td>$425,000,000</td>\n",
       "      <td>$760,507,625</td>\n",
       "      <td>$2,776,345,279</td>\n",
       "    </tr>\n",
       "    <tr>\n",
       "      <th>1</th>\n",
       "      <td>2</td>\n",
       "      <td>May 20, 2011</td>\n",
       "      <td>Pirates of the Caribbean: On Stranger Tides</td>\n",
       "      <td>$410,600,000</td>\n",
       "      <td>$241,063,875</td>\n",
       "      <td>$1,045,663,875</td>\n",
       "    </tr>\n",
       "    <tr>\n",
       "      <th>2</th>\n",
       "      <td>3</td>\n",
       "      <td>Jun 7, 2019</td>\n",
       "      <td>Dark Phoenix</td>\n",
       "      <td>$350,000,000</td>\n",
       "      <td>$42,762,350</td>\n",
       "      <td>$149,762,350</td>\n",
       "    </tr>\n",
       "    <tr>\n",
       "      <th>3</th>\n",
       "      <td>4</td>\n",
       "      <td>May 1, 2015</td>\n",
       "      <td>Avengers: Age of Ultron</td>\n",
       "      <td>$330,600,000</td>\n",
       "      <td>$459,005,868</td>\n",
       "      <td>$1,403,013,963</td>\n",
       "    </tr>\n",
       "    <tr>\n",
       "      <th>4</th>\n",
       "      <td>5</td>\n",
       "      <td>Dec 15, 2017</td>\n",
       "      <td>Star Wars Ep. VIII: The Last Jedi</td>\n",
       "      <td>$317,000,000</td>\n",
       "      <td>$620,181,382</td>\n",
       "      <td>$1,316,721,747</td>\n",
       "    </tr>\n",
       "  </tbody>\n",
       "</table>\n",
       "</div>"
      ],
      "text/plain": [
       "   id  release_date                                        movie  \\\n",
       "0   1  Dec 18, 2009                                       Avatar   \n",
       "1   2  May 20, 2011  Pirates of the Caribbean: On Stranger Tides   \n",
       "2   3   Jun 7, 2019                                 Dark Phoenix   \n",
       "3   4   May 1, 2015                      Avengers: Age of Ultron   \n",
       "4   5  Dec 15, 2017            Star Wars Ep. VIII: The Last Jedi   \n",
       "\n",
       "  production_budget domestic_gross worldwide_gross  \n",
       "0      $425,000,000   $760,507,625  $2,776,345,279  \n",
       "1      $410,600,000   $241,063,875  $1,045,663,875  \n",
       "2      $350,000,000    $42,762,350    $149,762,350  \n",
       "3      $330,600,000   $459,005,868  $1,403,013,963  \n",
       "4      $317,000,000   $620,181,382  $1,316,721,747  "
      ]
     },
     "execution_count": 9,
     "metadata": {},
     "output_type": "execute_result"
    }
   ],
   "source": [
    "budgetsdf.head() ##Observe the head, see what it looks like"
   ]
  },
  {
   "cell_type": "markdown",
   "metadata": {},
   "source": [
    "Off the bat, it looks like we have some numeric data saved as string types. For example, the release_date column has commas and spaces in it, and the columns related to money all have columns and dollar signs in them. So I'll get the info on these columns in order to see..."
   ]
  },
  {
   "cell_type": "code",
   "execution_count": 10,
   "metadata": {},
   "outputs": [
    {
     "name": "stdout",
     "output_type": "stream",
     "text": [
      "<class 'pandas.core.frame.DataFrame'>\n",
      "RangeIndex: 5782 entries, 0 to 5781\n",
      "Data columns (total 6 columns):\n",
      " #   Column             Non-Null Count  Dtype \n",
      "---  ------             --------------  ----- \n",
      " 0   id                 5782 non-null   int64 \n",
      " 1   release_date       5782 non-null   object\n",
      " 2   movie              5782 non-null   object\n",
      " 3   production_budget  5782 non-null   object\n",
      " 4   domestic_gross     5782 non-null   object\n",
      " 5   worldwide_gross    5782 non-null   object\n",
      "dtypes: int64(1), object(5)\n",
      "memory usage: 271.2+ KB\n"
     ]
    }
   ],
   "source": [
    "budgetsdf.info() ##Use info function to look at datatypes for columns"
   ]
  },
  {
   "cell_type": "markdown",
   "metadata": {},
   "source": [
    "So while this data appears to be complete, it is not clean since it's all saved as objects (except for the ID column...which we probably don't need!). So the next step is to convert these strings into numbers. For simplicity's sake, I'm going to eliminate the dates. Keep in mind that in doing this, I am introducing comparison errors due to things like inflation. With broader scope, perhaps it would be helpful to only analyze the most recent years, or perhaps all years to determine how the release date impacts the budget or the gross income. For now, we'll only import the movie name, and the production budget - hopefully we will be able to find enough overlap in data to be able to connect this with the IMDB data and analyze."
   ]
  },
  {
   "cell_type": "code",
   "execution_count": 11,
   "metadata": {},
   "outputs": [],
   "source": [
    "MovieBudgets = budgetsdf[['id','movie', 'production_budget']] ##keep only the movie and production budget data \n",
    "                                                    ##since those are the only relevant pieces of information given our specific business questions"
   ]
  },
  {
   "cell_type": "code",
   "execution_count": 12,
   "metadata": {},
   "outputs": [
    {
     "name": "stdout",
     "output_type": "stream",
     "text": [
      "<class 'pandas.core.frame.DataFrame'>\n",
      "RangeIndex: 5782 entries, 0 to 5781\n",
      "Data columns (total 3 columns):\n",
      " #   Column             Non-Null Count  Dtype \n",
      "---  ------             --------------  ----- \n",
      " 0   id                 5782 non-null   int64 \n",
      " 1   movie              5782 non-null   object\n",
      " 2   production_budget  5782 non-null   object\n",
      "dtypes: int64(1), object(2)\n",
      "memory usage: 135.6+ KB\n"
     ]
    }
   ],
   "source": [
    "MovieBudgets.info()"
   ]
  },
  {
   "cell_type": "code",
   "execution_count": 13,
   "metadata": {},
   "outputs": [
    {
     "name": "stderr",
     "output_type": "stream",
     "text": [
      "C:\\ProgramData\\Anaconda3\\lib\\site-packages\\pandas\\core\\indexing.py:965: SettingWithCopyWarning: \n",
      "A value is trying to be set on a copy of a slice from a DataFrame.\n",
      "Try using .loc[row_indexer,col_indexer] = value instead\n",
      "\n",
      "See the caveats in the documentation: https://pandas.pydata.org/pandas-docs/stable/user_guide/indexing.html#returning-a-view-versus-a-copy\n",
      "  self.obj[item] = s\n"
     ]
    }
   ],
   "source": [
    "##We still need to convert the strings into floats or integers in order to be able to analyze\n",
    "\n",
    "##This function removes all the dollar signs\n",
    "MovieBudgets.loc[:, \"production_budget\"] = MovieBudgets['production_budget'].str.replace('[,$]','')\n"
   ]
  },
  {
   "cell_type": "code",
   "execution_count": 14,
   "metadata": {},
   "outputs": [],
   "source": [
    "##Now we'll convert the budget column data from a string to a float so we can graph/analyze later:\n",
    "MovieBudgets.loc[:, 'production_budget'] = MovieBudgets['production_budget'].astype(float).values"
   ]
  },
  {
   "cell_type": "code",
   "execution_count": 15,
   "metadata": {},
   "outputs": [
    {
     "data": {
      "text/html": [
       "<div>\n",
       "<style scoped>\n",
       "    .dataframe tbody tr th:only-of-type {\n",
       "        vertical-align: middle;\n",
       "    }\n",
       "\n",
       "    .dataframe tbody tr th {\n",
       "        vertical-align: top;\n",
       "    }\n",
       "\n",
       "    .dataframe thead th {\n",
       "        text-align: right;\n",
       "    }\n",
       "</style>\n",
       "<table border=\"1\" class=\"dataframe\">\n",
       "  <thead>\n",
       "    <tr style=\"text-align: right;\">\n",
       "      <th></th>\n",
       "      <th>id</th>\n",
       "      <th>movie</th>\n",
       "      <th>production_budget</th>\n",
       "    </tr>\n",
       "  </thead>\n",
       "  <tbody>\n",
       "    <tr>\n",
       "      <th>0</th>\n",
       "      <td>1</td>\n",
       "      <td>Avatar</td>\n",
       "      <td>425000000.0</td>\n",
       "    </tr>\n",
       "    <tr>\n",
       "      <th>1</th>\n",
       "      <td>2</td>\n",
       "      <td>Pirates of the Caribbean: On Stranger Tides</td>\n",
       "      <td>410600000.0</td>\n",
       "    </tr>\n",
       "    <tr>\n",
       "      <th>2</th>\n",
       "      <td>3</td>\n",
       "      <td>Dark Phoenix</td>\n",
       "      <td>350000000.0</td>\n",
       "    </tr>\n",
       "    <tr>\n",
       "      <th>3</th>\n",
       "      <td>4</td>\n",
       "      <td>Avengers: Age of Ultron</td>\n",
       "      <td>330600000.0</td>\n",
       "    </tr>\n",
       "    <tr>\n",
       "      <th>4</th>\n",
       "      <td>5</td>\n",
       "      <td>Star Wars Ep. VIII: The Last Jedi</td>\n",
       "      <td>317000000.0</td>\n",
       "    </tr>\n",
       "  </tbody>\n",
       "</table>\n",
       "</div>"
      ],
      "text/plain": [
       "   id                                        movie  production_budget\n",
       "0   1                                       Avatar        425000000.0\n",
       "1   2  Pirates of the Caribbean: On Stranger Tides        410600000.0\n",
       "2   3                                 Dark Phoenix        350000000.0\n",
       "3   4                      Avengers: Age of Ultron        330600000.0\n",
       "4   5            Star Wars Ep. VIII: The Last Jedi        317000000.0"
      ]
     },
     "execution_count": 15,
     "metadata": {},
     "output_type": "execute_result"
    }
   ],
   "source": [
    "MovieBudgets.head()"
   ]
  },
  {
   "cell_type": "code",
   "execution_count": 16,
   "metadata": {},
   "outputs": [
    {
     "name": "stdout",
     "output_type": "stream",
     "text": [
      "<class 'pandas.core.frame.DataFrame'>\n",
      "RangeIndex: 5782 entries, 0 to 5781\n",
      "Data columns (total 3 columns):\n",
      " #   Column             Non-Null Count  Dtype  \n",
      "---  ------             --------------  -----  \n",
      " 0   id                 5782 non-null   int64  \n",
      " 1   movie              5782 non-null   object \n",
      " 2   production_budget  5782 non-null   float64\n",
      "dtypes: float64(1), int64(1), object(1)\n",
      "memory usage: 135.6+ KB\n"
     ]
    }
   ],
   "source": [
    "MovieBudgets.info()"
   ]
  },
  {
   "cell_type": "markdown",
   "metadata": {},
   "source": [
    "\n",
    "\n",
    "So now we have 3 sources of data imported:\n",
    "1. IMDB Title Basics - will help us identify the **Title** of the movies referenced in the IMDB documents, and also provide the **Run Time** of each movie.\n",
    "2. IMDB Title Ratings - will tell us the **Ratings** of each movie title, and \n",
    "3. Movie Budgets - will help us answer the question of what **Budget** to expect to set us how much was spent to create some of these movies.\n",
    "\n",
    "Analysis of these data points will allow us to answer the business questions proposed."
   ]
  },
  {
   "cell_type": "markdown",
   "metadata": {},
   "source": [
    "\n",
    "\n",
    "### Merge the Data\n",
    "In order to successfully compare the data, we need to first ensure that all the data is properly aligned and \"speaking the same language\". This will require merging the datasets into one and ensuring enough exists for overlap.\n",
    "\n",
    "\n",
    "In terms of merging the IMDB data, we will likely be able to use the 'tconst' column as an index in order to link the two IMDB dataframes and understand which movies have which ratings, but I want to be sure. That will give us the ratings, title, and view length. So I'll view the headers for both IMDB dataframes:"
   ]
  },
  {
   "cell_type": "code",
   "execution_count": 17,
   "metadata": {},
   "outputs": [
    {
     "data": {
      "text/html": [
       "<div>\n",
       "<style scoped>\n",
       "    .dataframe tbody tr th:only-of-type {\n",
       "        vertical-align: middle;\n",
       "    }\n",
       "\n",
       "    .dataframe tbody tr th {\n",
       "        vertical-align: top;\n",
       "    }\n",
       "\n",
       "    .dataframe thead th {\n",
       "        text-align: right;\n",
       "    }\n",
       "</style>\n",
       "<table border=\"1\" class=\"dataframe\">\n",
       "  <thead>\n",
       "    <tr style=\"text-align: right;\">\n",
       "      <th></th>\n",
       "      <th>tconst</th>\n",
       "      <th>primary_title</th>\n",
       "      <th>original_title</th>\n",
       "      <th>start_year</th>\n",
       "      <th>runtime_minutes</th>\n",
       "      <th>genres</th>\n",
       "    </tr>\n",
       "  </thead>\n",
       "  <tbody>\n",
       "    <tr>\n",
       "      <th>0</th>\n",
       "      <td>tt0063540</td>\n",
       "      <td>Sunghursh</td>\n",
       "      <td>Sunghursh</td>\n",
       "      <td>2013</td>\n",
       "      <td>175.0</td>\n",
       "      <td>Action,Crime,Drama</td>\n",
       "    </tr>\n",
       "    <tr>\n",
       "      <th>1</th>\n",
       "      <td>tt0066787</td>\n",
       "      <td>One Day Before the Rainy Season</td>\n",
       "      <td>Ashad Ka Ek Din</td>\n",
       "      <td>2019</td>\n",
       "      <td>114.0</td>\n",
       "      <td>Biography,Drama</td>\n",
       "    </tr>\n",
       "    <tr>\n",
       "      <th>2</th>\n",
       "      <td>tt0069049</td>\n",
       "      <td>The Other Side of the Wind</td>\n",
       "      <td>The Other Side of the Wind</td>\n",
       "      <td>2018</td>\n",
       "      <td>122.0</td>\n",
       "      <td>Drama</td>\n",
       "    </tr>\n",
       "    <tr>\n",
       "      <th>3</th>\n",
       "      <td>tt0069204</td>\n",
       "      <td>Sabse Bada Sukh</td>\n",
       "      <td>Sabse Bada Sukh</td>\n",
       "      <td>2018</td>\n",
       "      <td>NaN</td>\n",
       "      <td>Comedy,Drama</td>\n",
       "    </tr>\n",
       "    <tr>\n",
       "      <th>4</th>\n",
       "      <td>tt0100275</td>\n",
       "      <td>The Wandering Soap Opera</td>\n",
       "      <td>La Telenovela Errante</td>\n",
       "      <td>2017</td>\n",
       "      <td>80.0</td>\n",
       "      <td>Comedy,Drama,Fantasy</td>\n",
       "    </tr>\n",
       "  </tbody>\n",
       "</table>\n",
       "</div>"
      ],
      "text/plain": [
       "      tconst                    primary_title              original_title  \\\n",
       "0  tt0063540                        Sunghursh                   Sunghursh   \n",
       "1  tt0066787  One Day Before the Rainy Season             Ashad Ka Ek Din   \n",
       "2  tt0069049       The Other Side of the Wind  The Other Side of the Wind   \n",
       "3  tt0069204                  Sabse Bada Sukh             Sabse Bada Sukh   \n",
       "4  tt0100275         The Wandering Soap Opera       La Telenovela Errante   \n",
       "\n",
       "   start_year  runtime_minutes                genres  \n",
       "0        2013            175.0    Action,Crime,Drama  \n",
       "1        2019            114.0       Biography,Drama  \n",
       "2        2018            122.0                 Drama  \n",
       "3        2018              NaN          Comedy,Drama  \n",
       "4        2017             80.0  Comedy,Drama,Fantasy  "
      ]
     },
     "execution_count": 17,
     "metadata": {},
     "output_type": "execute_result"
    }
   ],
   "source": [
    "IMDBTitleBasicsdf.head() ##View headers to see what information is contained in the columns listed previously"
   ]
  },
  {
   "cell_type": "code",
   "execution_count": 18,
   "metadata": {},
   "outputs": [
    {
     "data": {
      "text/html": [
       "<div>\n",
       "<style scoped>\n",
       "    .dataframe tbody tr th:only-of-type {\n",
       "        vertical-align: middle;\n",
       "    }\n",
       "\n",
       "    .dataframe tbody tr th {\n",
       "        vertical-align: top;\n",
       "    }\n",
       "\n",
       "    .dataframe thead th {\n",
       "        text-align: right;\n",
       "    }\n",
       "</style>\n",
       "<table border=\"1\" class=\"dataframe\">\n",
       "  <thead>\n",
       "    <tr style=\"text-align: right;\">\n",
       "      <th></th>\n",
       "      <th>tconst</th>\n",
       "      <th>averagerating</th>\n",
       "      <th>numvotes</th>\n",
       "    </tr>\n",
       "  </thead>\n",
       "  <tbody>\n",
       "    <tr>\n",
       "      <th>0</th>\n",
       "      <td>tt10356526</td>\n",
       "      <td>8.3</td>\n",
       "      <td>31</td>\n",
       "    </tr>\n",
       "    <tr>\n",
       "      <th>1</th>\n",
       "      <td>tt10384606</td>\n",
       "      <td>8.9</td>\n",
       "      <td>559</td>\n",
       "    </tr>\n",
       "    <tr>\n",
       "      <th>2</th>\n",
       "      <td>tt1042974</td>\n",
       "      <td>6.4</td>\n",
       "      <td>20</td>\n",
       "    </tr>\n",
       "    <tr>\n",
       "      <th>3</th>\n",
       "      <td>tt1043726</td>\n",
       "      <td>4.2</td>\n",
       "      <td>50352</td>\n",
       "    </tr>\n",
       "    <tr>\n",
       "      <th>4</th>\n",
       "      <td>tt1060240</td>\n",
       "      <td>6.5</td>\n",
       "      <td>21</td>\n",
       "    </tr>\n",
       "  </tbody>\n",
       "</table>\n",
       "</div>"
      ],
      "text/plain": [
       "       tconst  averagerating  numvotes\n",
       "0  tt10356526            8.3        31\n",
       "1  tt10384606            8.9       559\n",
       "2   tt1042974            6.4        20\n",
       "3   tt1043726            4.2     50352\n",
       "4   tt1060240            6.5        21"
      ]
     },
     "execution_count": 18,
     "metadata": {},
     "output_type": "execute_result"
    }
   ],
   "source": [
    "IMDBTitleRatingsdf.head()  ##View headers to see what information is contained in the columns listed previously"
   ]
  },
  {
   "cell_type": "markdown",
   "metadata": {},
   "source": [
    "Before potentially merging these datasets, I'm going to ensure that the 'tconst' variable is usable as an index through which to merge by determining that it's unique for each title, and unique for each rating in the separate datasets.\n",
    "\n",
    "This may or may not help us determine the gap between the number of indices available for rating and title."
   ]
  },
  {
   "cell_type": "code",
   "execution_count": 19,
   "metadata": {},
   "outputs": [
    {
     "data": {
      "text/plain": [
       "(146144, 6)"
      ]
     },
     "execution_count": 19,
     "metadata": {},
     "output_type": "execute_result"
    }
   ],
   "source": [
    "##Check the shape of the data to see how many rows there are.\n",
    "IMDBTitleBasicsdf.shape"
   ]
  },
  {
   "cell_type": "code",
   "execution_count": 20,
   "metadata": {},
   "outputs": [],
   "source": [
    "##We double-check in these cells to see if there are duplicate values in tconst, or if we can use it for index later."
   ]
  },
  {
   "cell_type": "code",
   "execution_count": 21,
   "metadata": {},
   "outputs": [
    {
     "data": {
      "text/plain": [
       "tt3343694    1\n",
       "tt6277814    1\n",
       "tt3115910    1\n",
       "tt6281566    1\n",
       "tt6070344    1\n",
       "            ..\n",
       "tt8475882    1\n",
       "tt1440136    1\n",
       "tt9718574    1\n",
       "tt2959616    1\n",
       "tt9639274    1\n",
       "Name: tconst, Length: 146144, dtype: int64"
      ]
     },
     "execution_count": 21,
     "metadata": {},
     "output_type": "execute_result"
    }
   ],
   "source": [
    "IMDBTitleBasicsdf['tconst'].value_counts()"
   ]
  },
  {
   "cell_type": "code",
   "execution_count": 22,
   "metadata": {},
   "outputs": [],
   "source": [
    "##Since length and value counts for tconst match, we know that there are no duplicate values."
   ]
  },
  {
   "cell_type": "code",
   "execution_count": 23,
   "metadata": {},
   "outputs": [
    {
     "data": {
      "text/plain": [
       "(73856, 3)"
      ]
     },
     "execution_count": 23,
     "metadata": {},
     "output_type": "execute_result"
    }
   ],
   "source": [
    "##Check the length of title ratings dataframe to compare against value counts for tconst, in order to ensure no duplicates\n",
    "IMDBTitleRatingsdf.shape"
   ]
  },
  {
   "cell_type": "code",
   "execution_count": 24,
   "metadata": {},
   "outputs": [
    {
     "data": {
      "text/plain": [
       "tt6445396    1\n",
       "tt1546036    1\n",
       "tt7264292    1\n",
       "tt2234064    1\n",
       "tt7791496    1\n",
       "            ..\n",
       "tt5361064    1\n",
       "tt4823494    1\n",
       "tt2856930    1\n",
       "tt3521334    1\n",
       "tt9639274    1\n",
       "Name: tconst, Length: 73856, dtype: int64"
      ]
     },
     "execution_count": 24,
     "metadata": {},
     "output_type": "execute_result"
    }
   ],
   "source": [
    "IMDBTitleRatingsdf['tconst'].value_counts()"
   ]
  },
  {
   "cell_type": "code",
   "execution_count": 25,
   "metadata": {},
   "outputs": [],
   "source": [
    "##Since length of tconst value counts is equal to length of values in dataframe shape, values are unique, so we can merge"
   ]
  },
  {
   "cell_type": "markdown",
   "metadata": {},
   "source": [
    "Since we've checked both dataframes and ensured that there are no duplicates for 'tconst' in either Title Basics or Title Ratings, we can confidently merge the two dataframes using 'tconst' as our merging key. We will create a new dataframe called IMDBdf using pandas merge method containing all the data that intersects in both dataframes on the key 'tconst'."
   ]
  },
  {
   "cell_type": "code",
   "execution_count": 26,
   "metadata": {},
   "outputs": [],
   "source": [
    "IMDBdf = pd.merge(IMDBTitleBasicsdf, IMDBTitleRatingsdf, how = 'inner', on = 'tconst')\n",
    "##Merge the data, using variable IMDBdf as new dataframe. Use merge function: (left dataframe, right dataframe,\\\n",
    "##how = inner since we want it on intersection, on = tconst to specify exactly which column)"
   ]
  },
  {
   "cell_type": "code",
   "execution_count": 27,
   "metadata": {},
   "outputs": [
    {
     "name": "stdout",
     "output_type": "stream",
     "text": [
      "<class 'pandas.core.frame.DataFrame'>\n",
      "Int64Index: 73856 entries, 0 to 73855\n",
      "Data columns (total 8 columns):\n",
      " #   Column           Non-Null Count  Dtype  \n",
      "---  ------           --------------  -----  \n",
      " 0   tconst           73856 non-null  object \n",
      " 1   primary_title    73856 non-null  object \n",
      " 2   original_title   73856 non-null  object \n",
      " 3   start_year       73856 non-null  int64  \n",
      " 4   runtime_minutes  66236 non-null  float64\n",
      " 5   genres           73052 non-null  object \n",
      " 6   averagerating    73856 non-null  float64\n",
      " 7   numvotes         73856 non-null  int64  \n",
      "dtypes: float64(2), int64(2), object(4)\n",
      "memory usage: 5.1+ MB\n"
     ]
    }
   ],
   "source": [
    "IMDBdf.info() ##Check the new dataframe to ensure it merged as desired"
   ]
  },
  {
   "cell_type": "code",
   "execution_count": 28,
   "metadata": {},
   "outputs": [
    {
     "data": {
      "text/html": [
       "<div>\n",
       "<style scoped>\n",
       "    .dataframe tbody tr th:only-of-type {\n",
       "        vertical-align: middle;\n",
       "    }\n",
       "\n",
       "    .dataframe tbody tr th {\n",
       "        vertical-align: top;\n",
       "    }\n",
       "\n",
       "    .dataframe thead th {\n",
       "        text-align: right;\n",
       "    }\n",
       "</style>\n",
       "<table border=\"1\" class=\"dataframe\">\n",
       "  <thead>\n",
       "    <tr style=\"text-align: right;\">\n",
       "      <th></th>\n",
       "      <th>tconst</th>\n",
       "      <th>primary_title</th>\n",
       "      <th>original_title</th>\n",
       "      <th>start_year</th>\n",
       "      <th>runtime_minutes</th>\n",
       "      <th>genres</th>\n",
       "      <th>averagerating</th>\n",
       "      <th>numvotes</th>\n",
       "    </tr>\n",
       "  </thead>\n",
       "  <tbody>\n",
       "    <tr>\n",
       "      <th>0</th>\n",
       "      <td>tt0063540</td>\n",
       "      <td>Sunghursh</td>\n",
       "      <td>Sunghursh</td>\n",
       "      <td>2013</td>\n",
       "      <td>175.0</td>\n",
       "      <td>Action,Crime,Drama</td>\n",
       "      <td>7.0</td>\n",
       "      <td>77</td>\n",
       "    </tr>\n",
       "    <tr>\n",
       "      <th>1</th>\n",
       "      <td>tt0066787</td>\n",
       "      <td>One Day Before the Rainy Season</td>\n",
       "      <td>Ashad Ka Ek Din</td>\n",
       "      <td>2019</td>\n",
       "      <td>114.0</td>\n",
       "      <td>Biography,Drama</td>\n",
       "      <td>7.2</td>\n",
       "      <td>43</td>\n",
       "    </tr>\n",
       "    <tr>\n",
       "      <th>2</th>\n",
       "      <td>tt0069049</td>\n",
       "      <td>The Other Side of the Wind</td>\n",
       "      <td>The Other Side of the Wind</td>\n",
       "      <td>2018</td>\n",
       "      <td>122.0</td>\n",
       "      <td>Drama</td>\n",
       "      <td>6.9</td>\n",
       "      <td>4517</td>\n",
       "    </tr>\n",
       "    <tr>\n",
       "      <th>3</th>\n",
       "      <td>tt0069204</td>\n",
       "      <td>Sabse Bada Sukh</td>\n",
       "      <td>Sabse Bada Sukh</td>\n",
       "      <td>2018</td>\n",
       "      <td>NaN</td>\n",
       "      <td>Comedy,Drama</td>\n",
       "      <td>6.1</td>\n",
       "      <td>13</td>\n",
       "    </tr>\n",
       "    <tr>\n",
       "      <th>4</th>\n",
       "      <td>tt0100275</td>\n",
       "      <td>The Wandering Soap Opera</td>\n",
       "      <td>La Telenovela Errante</td>\n",
       "      <td>2017</td>\n",
       "      <td>80.0</td>\n",
       "      <td>Comedy,Drama,Fantasy</td>\n",
       "      <td>6.5</td>\n",
       "      <td>119</td>\n",
       "    </tr>\n",
       "  </tbody>\n",
       "</table>\n",
       "</div>"
      ],
      "text/plain": [
       "      tconst                    primary_title              original_title  \\\n",
       "0  tt0063540                        Sunghursh                   Sunghursh   \n",
       "1  tt0066787  One Day Before the Rainy Season             Ashad Ka Ek Din   \n",
       "2  tt0069049       The Other Side of the Wind  The Other Side of the Wind   \n",
       "3  tt0069204                  Sabse Bada Sukh             Sabse Bada Sukh   \n",
       "4  tt0100275         The Wandering Soap Opera       La Telenovela Errante   \n",
       "\n",
       "   start_year  runtime_minutes                genres  averagerating  numvotes  \n",
       "0        2013            175.0    Action,Crime,Drama            7.0        77  \n",
       "1        2019            114.0       Biography,Drama            7.2        43  \n",
       "2        2018            122.0                 Drama            6.9      4517  \n",
       "3        2018              NaN          Comedy,Drama            6.1        13  \n",
       "4        2017             80.0  Comedy,Drama,Fantasy            6.5       119  "
      ]
     },
     "execution_count": 28,
     "metadata": {},
     "output_type": "execute_result"
    }
   ],
   "source": [
    " IMDBdf.head() ##View the head of the data to ensure accuracy"
   ]
  },
  {
   "cell_type": "markdown",
   "metadata": {},
   "source": [
    "To summarize the data collected, we have two sets:\n",
    "IMDBdf\n",
    "Budgets\n",
    "\n",
    "Keeping our business understanding questions in mind (ideal movie length for a high rating, budget range for high rating), we can get the ideal length out of the IMDBdf data and then the budget range per rating out of a merged dataframe. So that we're only working with one dataframe before performing any analysis, I'm going to merge the IMDBdf with Budgets."
   ]
  },
  {
   "cell_type": "code",
   "execution_count": 29,
   "metadata": {},
   "outputs": [],
   "source": [
    "Budgets = MovieBudgets.copy()"
   ]
  },
  {
   "cell_type": "code",
   "execution_count": 30,
   "metadata": {},
   "outputs": [
    {
     "data": {
      "text/html": [
       "<div>\n",
       "<style scoped>\n",
       "    .dataframe tbody tr th:only-of-type {\n",
       "        vertical-align: middle;\n",
       "    }\n",
       "\n",
       "    .dataframe tbody tr th {\n",
       "        vertical-align: top;\n",
       "    }\n",
       "\n",
       "    .dataframe thead th {\n",
       "        text-align: right;\n",
       "    }\n",
       "</style>\n",
       "<table border=\"1\" class=\"dataframe\">\n",
       "  <thead>\n",
       "    <tr style=\"text-align: right;\">\n",
       "      <th></th>\n",
       "      <th>id</th>\n",
       "      <th>primary_title</th>\n",
       "      <th>production_budget</th>\n",
       "    </tr>\n",
       "  </thead>\n",
       "  <tbody>\n",
       "    <tr>\n",
       "      <th>0</th>\n",
       "      <td>1</td>\n",
       "      <td>Avatar</td>\n",
       "      <td>425000000.0</td>\n",
       "    </tr>\n",
       "    <tr>\n",
       "      <th>1</th>\n",
       "      <td>2</td>\n",
       "      <td>Pirates of the Caribbean: On Stranger Tides</td>\n",
       "      <td>410600000.0</td>\n",
       "    </tr>\n",
       "    <tr>\n",
       "      <th>2</th>\n",
       "      <td>3</td>\n",
       "      <td>Dark Phoenix</td>\n",
       "      <td>350000000.0</td>\n",
       "    </tr>\n",
       "    <tr>\n",
       "      <th>3</th>\n",
       "      <td>4</td>\n",
       "      <td>Avengers: Age of Ultron</td>\n",
       "      <td>330600000.0</td>\n",
       "    </tr>\n",
       "    <tr>\n",
       "      <th>4</th>\n",
       "      <td>5</td>\n",
       "      <td>Star Wars Ep. VIII: The Last Jedi</td>\n",
       "      <td>317000000.0</td>\n",
       "    </tr>\n",
       "  </tbody>\n",
       "</table>\n",
       "</div>"
      ],
      "text/plain": [
       "   id                                primary_title  production_budget\n",
       "0   1                                       Avatar        425000000.0\n",
       "1   2  Pirates of the Caribbean: On Stranger Tides        410600000.0\n",
       "2   3                                 Dark Phoenix        350000000.0\n",
       "3   4                      Avengers: Age of Ultron        330600000.0\n",
       "4   5            Star Wars Ep. VIII: The Last Jedi        317000000.0"
      ]
     },
     "execution_count": 30,
     "metadata": {},
     "output_type": "execute_result"
    }
   ],
   "source": [
    "##We need to find a way to merge the two dataframes. Technically, there is no overlapping header,\n",
    "##but since Budgets['movie'] appears to be te same as IMDBdf['primary_title'],\n",
    "##we'll merge rename the columns in order to have a key with which to merge.\n",
    "Budgets.rename(columns={'movie': 'primary_title'}, inplace = True) ##Rename movie column to primary_title to match IMDBdf dataframe\n",
    "Budgets.head() ##double-check new column name"
   ]
  },
  {
   "cell_type": "code",
   "execution_count": 31,
   "metadata": {},
   "outputs": [
    {
     "data": {
      "text/html": [
       "<div>\n",
       "<style scoped>\n",
       "    .dataframe tbody tr th:only-of-type {\n",
       "        vertical-align: middle;\n",
       "    }\n",
       "\n",
       "    .dataframe tbody tr th {\n",
       "        vertical-align: top;\n",
       "    }\n",
       "\n",
       "    .dataframe thead th {\n",
       "        text-align: right;\n",
       "    }\n",
       "</style>\n",
       "<table border=\"1\" class=\"dataframe\">\n",
       "  <thead>\n",
       "    <tr style=\"text-align: right;\">\n",
       "      <th></th>\n",
       "      <th>tconst</th>\n",
       "      <th>primary_title</th>\n",
       "      <th>original_title</th>\n",
       "      <th>start_year</th>\n",
       "      <th>runtime_minutes</th>\n",
       "      <th>genres</th>\n",
       "      <th>averagerating</th>\n",
       "      <th>numvotes</th>\n",
       "    </tr>\n",
       "  </thead>\n",
       "  <tbody>\n",
       "    <tr>\n",
       "      <th>0</th>\n",
       "      <td>tt0063540</td>\n",
       "      <td>Sunghursh</td>\n",
       "      <td>Sunghursh</td>\n",
       "      <td>2013</td>\n",
       "      <td>175.0</td>\n",
       "      <td>Action,Crime,Drama</td>\n",
       "      <td>7.0</td>\n",
       "      <td>77</td>\n",
       "    </tr>\n",
       "    <tr>\n",
       "      <th>1</th>\n",
       "      <td>tt0066787</td>\n",
       "      <td>One Day Before the Rainy Season</td>\n",
       "      <td>Ashad Ka Ek Din</td>\n",
       "      <td>2019</td>\n",
       "      <td>114.0</td>\n",
       "      <td>Biography,Drama</td>\n",
       "      <td>7.2</td>\n",
       "      <td>43</td>\n",
       "    </tr>\n",
       "  </tbody>\n",
       "</table>\n",
       "</div>"
      ],
      "text/plain": [
       "      tconst                    primary_title   original_title  start_year  \\\n",
       "0  tt0063540                        Sunghursh        Sunghursh        2013   \n",
       "1  tt0066787  One Day Before the Rainy Season  Ashad Ka Ek Din        2019   \n",
       "\n",
       "   runtime_minutes              genres  averagerating  numvotes  \n",
       "0            175.0  Action,Crime,Drama            7.0        77  \n",
       "1            114.0     Biography,Drama            7.2        43  "
      ]
     },
     "execution_count": 31,
     "metadata": {},
     "output_type": "execute_result"
    }
   ],
   "source": [
    "IMDBdf.head(2) ##confirm again that the IMDBdf primary_title column is written/formatted the same way"
   ]
  },
  {
   "cell_type": "code",
   "execution_count": 32,
   "metadata": {
    "scrolled": true
   },
   "outputs": [
    {
     "data": {
      "text/html": [
       "<div>\n",
       "<style scoped>\n",
       "    .dataframe tbody tr th:only-of-type {\n",
       "        vertical-align: middle;\n",
       "    }\n",
       "\n",
       "    .dataframe tbody tr th {\n",
       "        vertical-align: top;\n",
       "    }\n",
       "\n",
       "    .dataframe thead th {\n",
       "        text-align: right;\n",
       "    }\n",
       "</style>\n",
       "<table border=\"1\" class=\"dataframe\">\n",
       "  <thead>\n",
       "    <tr style=\"text-align: right;\">\n",
       "      <th></th>\n",
       "      <th>tconst</th>\n",
       "      <th>primary_title</th>\n",
       "      <th>original_title</th>\n",
       "      <th>start_year</th>\n",
       "      <th>runtime_minutes</th>\n",
       "      <th>genres</th>\n",
       "      <th>averagerating</th>\n",
       "      <th>numvotes</th>\n",
       "      <th>id</th>\n",
       "      <th>production_budget</th>\n",
       "    </tr>\n",
       "  </thead>\n",
       "  <tbody>\n",
       "    <tr>\n",
       "      <th>0</th>\n",
       "      <td>tt0249516</td>\n",
       "      <td>Foodfight!</td>\n",
       "      <td>Foodfight!</td>\n",
       "      <td>2012</td>\n",
       "      <td>91.0</td>\n",
       "      <td>Action,Animation,Comedy</td>\n",
       "      <td>1.9</td>\n",
       "      <td>8248</td>\n",
       "      <td>26</td>\n",
       "      <td>45000000.0</td>\n",
       "    </tr>\n",
       "    <tr>\n",
       "      <th>1</th>\n",
       "      <td>tt0326592</td>\n",
       "      <td>The Overnight</td>\n",
       "      <td>The Overnight</td>\n",
       "      <td>2010</td>\n",
       "      <td>88.0</td>\n",
       "      <td>NaN</td>\n",
       "      <td>7.5</td>\n",
       "      <td>24</td>\n",
       "      <td>21</td>\n",
       "      <td>200000.0</td>\n",
       "    </tr>\n",
       "    <tr>\n",
       "      <th>2</th>\n",
       "      <td>tt3844362</td>\n",
       "      <td>The Overnight</td>\n",
       "      <td>The Overnight</td>\n",
       "      <td>2015</td>\n",
       "      <td>79.0</td>\n",
       "      <td>Comedy,Mystery</td>\n",
       "      <td>6.1</td>\n",
       "      <td>14828</td>\n",
       "      <td>21</td>\n",
       "      <td>200000.0</td>\n",
       "    </tr>\n",
       "    <tr>\n",
       "      <th>3</th>\n",
       "      <td>tt0337692</td>\n",
       "      <td>On the Road</td>\n",
       "      <td>On the Road</td>\n",
       "      <td>2012</td>\n",
       "      <td>124.0</td>\n",
       "      <td>Adventure,Drama,Romance</td>\n",
       "      <td>6.1</td>\n",
       "      <td>37886</td>\n",
       "      <td>17</td>\n",
       "      <td>25000000.0</td>\n",
       "    </tr>\n",
       "    <tr>\n",
       "      <th>4</th>\n",
       "      <td>tt4339118</td>\n",
       "      <td>On the Road</td>\n",
       "      <td>On the Road</td>\n",
       "      <td>2014</td>\n",
       "      <td>89.0</td>\n",
       "      <td>Drama</td>\n",
       "      <td>6.0</td>\n",
       "      <td>6</td>\n",
       "      <td>17</td>\n",
       "      <td>25000000.0</td>\n",
       "    </tr>\n",
       "  </tbody>\n",
       "</table>\n",
       "</div>"
      ],
      "text/plain": [
       "      tconst  primary_title original_title  start_year  runtime_minutes  \\\n",
       "0  tt0249516     Foodfight!     Foodfight!        2012             91.0   \n",
       "1  tt0326592  The Overnight  The Overnight        2010             88.0   \n",
       "2  tt3844362  The Overnight  The Overnight        2015             79.0   \n",
       "3  tt0337692    On the Road    On the Road        2012            124.0   \n",
       "4  tt4339118    On the Road    On the Road        2014             89.0   \n",
       "\n",
       "                    genres  averagerating  numvotes  id  production_budget  \n",
       "0  Action,Animation,Comedy            1.9      8248  26         45000000.0  \n",
       "1                      NaN            7.5        24  21           200000.0  \n",
       "2           Comedy,Mystery            6.1     14828  21           200000.0  \n",
       "3  Adventure,Drama,Romance            6.1     37886  17         25000000.0  \n",
       "4                    Drama            6.0         6  17         25000000.0  "
      ]
     },
     "execution_count": 32,
     "metadata": {},
     "output_type": "execute_result"
    }
   ],
   "source": [
    "##Create new dataset called 'AllMovies', which contains the merged data from IMDBdf and Budgets\n",
    "\n",
    "AllMovies =  IMDBdf.merge(Budgets, how='inner', on='primary_title')\n",
    "###Create new variable called AllMovies\n",
    "###Use pandas merge function on IMDBdf dataframe.\n",
    "###Use Budgets as first argument- the dataframe which is being merged - not a string!!! Do not use quotations. \n",
    "###Define how argument as string 'inner', so that we only keep the data which intersects between the two sets,\n",
    "###as opposed to using string 'outer', which will result in null values being created.\n",
    "###Define on argument as string 'primary_title' - the column on which we want to merge the data. \n",
    "AllMovies.head(5) ##Let's see what we have!"
   ]
  },
  {
   "cell_type": "markdown",
   "metadata": {},
   "source": [
    "### Exploratory Data Analysis"
   ]
  },
  {
   "cell_type": "markdown",
   "metadata": {},
   "source": [
    "### Initial Observations\n",
    "\n",
    "\n",
    "So now we have just one dataset from which we need to extract information and perform analysis. Before performing further analysis we should observe the dataset. There are several issues to notice off the bat:\n",
    "\n",
    "1. *Huge size reduction* - This dataframe contains 2875 rows which is around 71,000 fewer than the IMDBdf dataset, and about half the size of the Budgets dataset. While this may make sense for several reasons (not every movie may have been rated on IMDB, there may be possible name mismatches, etc.) we must acknowledge that we are intentionally further limiting the scope of the data we analyze. Perhaps with more time we might explore ways in which to reconcile these size differences and mitigate the risk for errors in our analysis.\n",
    "\n",
    "\n",
    "2. *Null Values* - Several null values appear across columns in AllMovies dataset. Not all of them are particularly relevant (i.e., not concerned about missing genres); however, some of the columns which have information directly relevant to our business questions are missing data (e.g., Richard III has a null value for the runtime). For these null values, I will only eliminate the datapoints if they are null in both runtime AND budget - since I don't want to exclude potentially value information in either budget or runtime analysis if I don't have to. \n",
    "\n",
    "\n",
    "3. *Duplicates* - From the head of the data, I can tell that there will be duplicates across several rows. This may take a bit of investigation, but we want to ensure we're not double-counting some movies and not others - this will impact the weighting and distribution of our results. \n",
    "\n",
    "\n",
    "\n"
   ]
  },
  {
   "cell_type": "markdown",
   "metadata": {},
   "source": [
    "### Visualizations\n",
    "\n",
    "In order to answer our business questions in a way that is efficient for the stakeholders and decisionmakers, we need to show clean visualizations. The goal in preparing each visualization is to be concise and quickly summarize the data, without misleading or deceiving our target audience. To that end, I'll create visualizations in the following way:\n",
    "\n",
    "1. Distributions - I want to know the general range of what to expect from all movies. Since we're using ratings as our basis for success, we must know what the distribution of ratings for movies looks like, and what it will take for Microsoft to create a first movie that makes an impression with staying power.\n",
    "\n",
    "2. Relationship - In order to establish a good budget range and movie length range, we need to understand the relationship between these two variables and ratings. We'll create charts to see how both budget and length relate to the higher rated movies.\n",
    "\n",
    "We'll use seaborn in order to understand this data a little better. To make the most effective usage of seaborn, we must ensure we are providing the cleanest datasets possible. \n"
   ]
  },
  {
   "cell_type": "markdown",
   "metadata": {},
   "source": [
    "For the sake of simplicity, we'll drop duplicates and excess columns, using the pandas subset parameter to specify primary title. One caveat here is that in doing so, it's possible that we will eliminate different movies that happen to go by the same name. Another possibility is that, based on the columns from the Movie Budgets database, duplicates might represent foreign and domestic data from the films. For the sake of simplicity, we'll simply acknowledge these potentials and move on to derive insights."
   ]
  },
  {
   "cell_type": "code",
   "execution_count": 33,
   "metadata": {},
   "outputs": [],
   "source": [
    "##For the sake of simplicity, drop duplicates, excess columns\n",
    "\n",
    "NoDupes = AllMovies.drop_duplicates(subset = 'primary_title') \n",
    "#Use drop duplicates method for pandas dataframe to eliminate duplicate entries\n",
    "#Use optional subset method to specify primary title in order to eliminate duplicate title names\n",
    "\n",
    "Movies = NoDupes.drop(axis=1, columns = ['tconst','original_title','start_year','id','genres'])\n",
    "#Drop excess columns"
   ]
  },
  {
   "cell_type": "code",
   "execution_count": 34,
   "metadata": {},
   "outputs": [
    {
     "data": {
      "text/html": [
       "<div>\n",
       "<style scoped>\n",
       "    .dataframe tbody tr th:only-of-type {\n",
       "        vertical-align: middle;\n",
       "    }\n",
       "\n",
       "    .dataframe tbody tr th {\n",
       "        vertical-align: top;\n",
       "    }\n",
       "\n",
       "    .dataframe thead th {\n",
       "        text-align: right;\n",
       "    }\n",
       "</style>\n",
       "<table border=\"1\" class=\"dataframe\">\n",
       "  <thead>\n",
       "    <tr style=\"text-align: right;\">\n",
       "      <th></th>\n",
       "      <th>primary_title</th>\n",
       "      <th>runtime_minutes</th>\n",
       "      <th>averagerating</th>\n",
       "      <th>numvotes</th>\n",
       "      <th>production_budget</th>\n",
       "    </tr>\n",
       "  </thead>\n",
       "  <tbody>\n",
       "    <tr>\n",
       "      <th>0</th>\n",
       "      <td>Foodfight!</td>\n",
       "      <td>91.0</td>\n",
       "      <td>1.9</td>\n",
       "      <td>8248</td>\n",
       "      <td>45000000.0</td>\n",
       "    </tr>\n",
       "    <tr>\n",
       "      <th>1</th>\n",
       "      <td>The Overnight</td>\n",
       "      <td>88.0</td>\n",
       "      <td>7.5</td>\n",
       "      <td>24</td>\n",
       "      <td>200000.0</td>\n",
       "    </tr>\n",
       "    <tr>\n",
       "      <th>3</th>\n",
       "      <td>On the Road</td>\n",
       "      <td>124.0</td>\n",
       "      <td>6.1</td>\n",
       "      <td>37886</td>\n",
       "      <td>25000000.0</td>\n",
       "    </tr>\n",
       "    <tr>\n",
       "      <th>6</th>\n",
       "      <td>The Secret Life of Walter Mitty</td>\n",
       "      <td>114.0</td>\n",
       "      <td>7.3</td>\n",
       "      <td>275300</td>\n",
       "      <td>91000000.0</td>\n",
       "    </tr>\n",
       "    <tr>\n",
       "      <th>7</th>\n",
       "      <td>A Walk Among the Tombstones</td>\n",
       "      <td>114.0</td>\n",
       "      <td>6.5</td>\n",
       "      <td>105116</td>\n",
       "      <td>28000000.0</td>\n",
       "    </tr>\n",
       "    <tr>\n",
       "      <th>...</th>\n",
       "      <td>...</td>\n",
       "      <td>...</td>\n",
       "      <td>...</td>\n",
       "      <td>...</td>\n",
       "      <td>...</td>\n",
       "    </tr>\n",
       "    <tr>\n",
       "      <th>2870</th>\n",
       "      <td>Richard III</td>\n",
       "      <td>NaN</td>\n",
       "      <td>9.1</td>\n",
       "      <td>28</td>\n",
       "      <td>9200000.0</td>\n",
       "    </tr>\n",
       "    <tr>\n",
       "      <th>2871</th>\n",
       "      <td>Heroes</td>\n",
       "      <td>88.0</td>\n",
       "      <td>7.3</td>\n",
       "      <td>7</td>\n",
       "      <td>400000.0</td>\n",
       "    </tr>\n",
       "    <tr>\n",
       "      <th>2872</th>\n",
       "      <td>Push</td>\n",
       "      <td>92.0</td>\n",
       "      <td>7.3</td>\n",
       "      <td>33</td>\n",
       "      <td>38000000.0</td>\n",
       "    </tr>\n",
       "    <tr>\n",
       "      <th>2873</th>\n",
       "      <td>Unplanned</td>\n",
       "      <td>106.0</td>\n",
       "      <td>6.3</td>\n",
       "      <td>5945</td>\n",
       "      <td>6000000.0</td>\n",
       "    </tr>\n",
       "    <tr>\n",
       "      <th>2874</th>\n",
       "      <td>The Terrorist</td>\n",
       "      <td>NaN</td>\n",
       "      <td>6.0</td>\n",
       "      <td>6</td>\n",
       "      <td>25000.0</td>\n",
       "    </tr>\n",
       "  </tbody>\n",
       "</table>\n",
       "<p>2126 rows × 5 columns</p>\n",
       "</div>"
      ],
      "text/plain": [
       "                        primary_title  runtime_minutes  averagerating  \\\n",
       "0                          Foodfight!             91.0            1.9   \n",
       "1                       The Overnight             88.0            7.5   \n",
       "3                         On the Road            124.0            6.1   \n",
       "6     The Secret Life of Walter Mitty            114.0            7.3   \n",
       "7         A Walk Among the Tombstones            114.0            6.5   \n",
       "...                               ...              ...            ...   \n",
       "2870                      Richard III              NaN            9.1   \n",
       "2871                           Heroes             88.0            7.3   \n",
       "2872                             Push             92.0            7.3   \n",
       "2873                        Unplanned            106.0            6.3   \n",
       "2874                    The Terrorist              NaN            6.0   \n",
       "\n",
       "      numvotes  production_budget  \n",
       "0         8248         45000000.0  \n",
       "1           24           200000.0  \n",
       "3        37886         25000000.0  \n",
       "6       275300         91000000.0  \n",
       "7       105116         28000000.0  \n",
       "...        ...                ...  \n",
       "2870        28          9200000.0  \n",
       "2871         7           400000.0  \n",
       "2872        33         38000000.0  \n",
       "2873      5945          6000000.0  \n",
       "2874         6            25000.0  \n",
       "\n",
       "[2126 rows x 5 columns]"
      ]
     },
     "execution_count": 34,
     "metadata": {},
     "output_type": "execute_result"
    }
   ],
   "source": [
    "#Convert production budget row to fewer numbers to increase readability\n",
    "##Note in whatever legend that production_budget unit is millions of dollars.\n",
    "\n",
    "MoviesClean = Movies.dropna(axis=0, subset=['averagerating'])\n",
    "MoviesClean"
   ]
  },
  {
   "cell_type": "code",
   "execution_count": 35,
   "metadata": {},
   "outputs": [],
   "source": [
    "import seaborn as sns ##import seaborn package in order to create visualizations from dataframes"
   ]
  },
  {
   "cell_type": "markdown",
   "metadata": {},
   "source": [
    "Briefly, I want to see the number of votes for the average rating (this information came from the imdb information) distribution, and eliminate the bottom end outliers, to the extent possible. Again, Microsoft should not be focusing on data based on a few perceptions, but rather  high number of votes. This is especially important since we defined our success as dependent on how well the movie is received (i.e., rating)."
   ]
  },
  {
   "cell_type": "code",
   "execution_count": 36,
   "metadata": {},
   "outputs": [
    {
     "data": {
      "text/plain": [
       "<seaborn.axisgrid.FacetGrid at 0x210455b4d88>"
      ]
     },
     "execution_count": 36,
     "metadata": {},
     "output_type": "execute_result"
    },
    {
     "data": {
      "image/png": "[encoded data removed]",
      "text/plain": [
       "<Figure size 360x360 with 1 Axes>"
      ]
     },
     "metadata": {
      "needs_background": "light"
     },
     "output_type": "display_data"
    }
   ],
   "source": [
    "sns.relplot(x='averagerating', y='numvotes', data = MoviesClean)\n",
    "##"
   ]
  },
  {
   "cell_type": "markdown",
   "metadata": {},
   "source": [
    "We can make several quick observations looking at the data here:\n",
    "\n",
    "Every rating has several points around the 0 mark of number of votes - this makes sense since theoretically one person could rate one movie with a 1 or 10 and impact our dataset.\n",
    "\n",
    "We can see a vaguely exponential increase in the number of votes as movies get better. This makes sense as well - we're more inclined to spend the time to rate movies that we really enjoyed -  who wants to waste even more time rating a movie that they thought was a waste of time in the first place?\n",
    "\n",
    "Finally, while most of the ratings aggregate between 5 and 8, we can see that there are several movies that have high ratings, and a large number of votes in the 7+ ratings range, with a significant increase in number of votes just under the 8.0 rating marker and slightly after it as well. We'll come back to this later."
   ]
  },
  {
   "cell_type": "code",
   "execution_count": 37,
   "metadata": {},
   "outputs": [
    {
     "data": {
      "text/html": [
       "<div>\n",
       "<style scoped>\n",
       "    .dataframe tbody tr th:only-of-type {\n",
       "        vertical-align: middle;\n",
       "    }\n",
       "\n",
       "    .dataframe tbody tr th {\n",
       "        vertical-align: top;\n",
       "    }\n",
       "\n",
       "    .dataframe thead th {\n",
       "        text-align: right;\n",
       "    }\n",
       "</style>\n",
       "<table border=\"1\" class=\"dataframe\">\n",
       "  <thead>\n",
       "    <tr style=\"text-align: right;\">\n",
       "      <th></th>\n",
       "      <th>runtime_minutes</th>\n",
       "      <th>averagerating</th>\n",
       "      <th>numvotes</th>\n",
       "      <th>production_budget</th>\n",
       "    </tr>\n",
       "  </thead>\n",
       "  <tbody>\n",
       "    <tr>\n",
       "      <th>count</th>\n",
       "      <td>2072.000000</td>\n",
       "      <td>2126.000000</td>\n",
       "      <td>2.126000e+03</td>\n",
       "      <td>2.126000e+03</td>\n",
       "    </tr>\n",
       "    <tr>\n",
       "      <th>mean</th>\n",
       "      <td>103.881757</td>\n",
       "      <td>6.231232</td>\n",
       "      <td>8.212615e+04</td>\n",
       "      <td>3.716387e+07</td>\n",
       "    </tr>\n",
       "    <tr>\n",
       "      <th>std</th>\n",
       "      <td>18.760685</td>\n",
       "      <td>1.142910</td>\n",
       "      <td>1.465604e+05</td>\n",
       "      <td>5.112990e+07</td>\n",
       "    </tr>\n",
       "    <tr>\n",
       "      <th>min</th>\n",
       "      <td>5.000000</td>\n",
       "      <td>1.600000</td>\n",
       "      <td>5.000000e+00</td>\n",
       "      <td>1.400000e+03</td>\n",
       "    </tr>\n",
       "    <tr>\n",
       "      <th>25%</th>\n",
       "      <td>91.000000</td>\n",
       "      <td>5.600000</td>\n",
       "      <td>7.930000e+02</td>\n",
       "      <td>5.000000e+06</td>\n",
       "    </tr>\n",
       "    <tr>\n",
       "      <th>50%</th>\n",
       "      <td>102.000000</td>\n",
       "      <td>6.300000</td>\n",
       "      <td>2.344900e+04</td>\n",
       "      <td>1.825000e+07</td>\n",
       "    </tr>\n",
       "    <tr>\n",
       "      <th>75%</th>\n",
       "      <td>114.000000</td>\n",
       "      <td>7.000000</td>\n",
       "      <td>9.486275e+04</td>\n",
       "      <td>4.500000e+07</td>\n",
       "    </tr>\n",
       "    <tr>\n",
       "      <th>max</th>\n",
       "      <td>180.000000</td>\n",
       "      <td>9.200000</td>\n",
       "      <td>1.841066e+06</td>\n",
       "      <td>4.250000e+08</td>\n",
       "    </tr>\n",
       "  </tbody>\n",
       "</table>\n",
       "</div>"
      ],
      "text/plain": [
       "       runtime_minutes  averagerating      numvotes  production_budget\n",
       "count      2072.000000    2126.000000  2.126000e+03       2.126000e+03\n",
       "mean        103.881757       6.231232  8.212615e+04       3.716387e+07\n",
       "std          18.760685       1.142910  1.465604e+05       5.112990e+07\n",
       "min           5.000000       1.600000  5.000000e+00       1.400000e+03\n",
       "25%          91.000000       5.600000  7.930000e+02       5.000000e+06\n",
       "50%         102.000000       6.300000  2.344900e+04       1.825000e+07\n",
       "75%         114.000000       7.000000  9.486275e+04       4.500000e+07\n",
       "max         180.000000       9.200000  1.841066e+06       4.250000e+08"
      ]
     },
     "execution_count": 37,
     "metadata": {},
     "output_type": "execute_result"
    }
   ],
   "source": [
    "MoviesClean.describe()"
   ]
  },
  {
   "cell_type": "markdown",
   "metadata": {},
   "source": [
    "\n",
    "\n",
    "Looking at the visual data first we discover that there will be outliers (or missing data) for the number of votes required for success.\n",
    "1. 75%+ average rating?, min/mx on public rating for context\n",
    "update legends, title, axes, etc.|"
   ]
  },
  {
   "cell_type": "code",
   "execution_count": 38,
   "metadata": {},
   "outputs": [
    {
     "data": {
      "text/plain": [
       "<seaborn.axisgrid.FacetGrid at 0x21045b7b5c8>"
      ]
     },
     "execution_count": 38,
     "metadata": {},
     "output_type": "execute_result"
    },
    {
     "data": {
      "image/png": "[encoded data removed]",
      "text/plain": [
       "<Figure size 360x360 with 1 Axes>"
      ]
     },
     "metadata": {
      "needs_background": "light"
     },
     "output_type": "display_data"
    }
   ],
   "source": [
    "##Define High rated as observations which have ratings greater than 7\n",
    "HighRated = MoviesClean[MoviesClean['averagerating'] > 7]\n",
    "sns.relplot(x='averagerating', y='numvotes', data = HighRated)"
   ]
  },
  {
   "cell_type": "code",
   "execution_count": 39,
   "metadata": {},
   "outputs": [
    {
     "data": {
      "text/html": [
       "<div>\n",
       "<style scoped>\n",
       "    .dataframe tbody tr th:only-of-type {\n",
       "        vertical-align: middle;\n",
       "    }\n",
       "\n",
       "    .dataframe tbody tr th {\n",
       "        vertical-align: top;\n",
       "    }\n",
       "\n",
       "    .dataframe thead th {\n",
       "        text-align: right;\n",
       "    }\n",
       "</style>\n",
       "<table border=\"1\" class=\"dataframe\">\n",
       "  <thead>\n",
       "    <tr style=\"text-align: right;\">\n",
       "      <th></th>\n",
       "      <th>runtime_minutes</th>\n",
       "      <th>averagerating</th>\n",
       "      <th>numvotes</th>\n",
       "      <th>production_budget</th>\n",
       "    </tr>\n",
       "  </thead>\n",
       "  <tbody>\n",
       "    <tr>\n",
       "      <th>count</th>\n",
       "      <td>416.000000</td>\n",
       "      <td>416.000000</td>\n",
       "      <td>4.160000e+02</td>\n",
       "      <td>4.160000e+02</td>\n",
       "    </tr>\n",
       "    <tr>\n",
       "      <th>mean</th>\n",
       "      <td>116.331731</td>\n",
       "      <td>7.503846</td>\n",
       "      <td>2.141288e+05</td>\n",
       "      <td>5.037681e+07</td>\n",
       "    </tr>\n",
       "    <tr>\n",
       "      <th>std</th>\n",
       "      <td>19.900489</td>\n",
       "      <td>0.363762</td>\n",
       "      <td>2.430505e+05</td>\n",
       "      <td>6.357815e+07</td>\n",
       "    </tr>\n",
       "    <tr>\n",
       "      <th>min</th>\n",
       "      <td>57.000000</td>\n",
       "      <td>7.100000</td>\n",
       "      <td>1.120000e+02</td>\n",
       "      <td>3.000000e+04</td>\n",
       "    </tr>\n",
       "    <tr>\n",
       "      <th>25%</th>\n",
       "      <td>102.000000</td>\n",
       "      <td>7.200000</td>\n",
       "      <td>3.858025e+04</td>\n",
       "      <td>8.975000e+06</td>\n",
       "    </tr>\n",
       "    <tr>\n",
       "      <th>50%</th>\n",
       "      <td>115.000000</td>\n",
       "      <td>7.400000</td>\n",
       "      <td>1.262950e+05</td>\n",
       "      <td>2.225000e+07</td>\n",
       "    </tr>\n",
       "    <tr>\n",
       "      <th>75%</th>\n",
       "      <td>130.000000</td>\n",
       "      <td>7.700000</td>\n",
       "      <td>3.271298e+05</td>\n",
       "      <td>6.000000e+07</td>\n",
       "    </tr>\n",
       "    <tr>\n",
       "      <th>max</th>\n",
       "      <td>180.000000</td>\n",
       "      <td>9.000000</td>\n",
       "      <td>1.841066e+06</td>\n",
       "      <td>3.306000e+08</td>\n",
       "    </tr>\n",
       "  </tbody>\n",
       "</table>\n",
       "</div>"
      ],
      "text/plain": [
       "       runtime_minutes  averagerating      numvotes  production_budget\n",
       "count       416.000000     416.000000  4.160000e+02       4.160000e+02\n",
       "mean        116.331731       7.503846  2.141288e+05       5.037681e+07\n",
       "std          19.900489       0.363762  2.430505e+05       6.357815e+07\n",
       "min          57.000000       7.100000  1.120000e+02       3.000000e+04\n",
       "25%         102.000000       7.200000  3.858025e+04       8.975000e+06\n",
       "50%         115.000000       7.400000  1.262950e+05       2.225000e+07\n",
       "75%         130.000000       7.700000  3.271298e+05       6.000000e+07\n",
       "max         180.000000       9.000000  1.841066e+06       3.306000e+08"
      ]
     },
     "execution_count": 39,
     "metadata": {},
     "output_type": "execute_result"
    }
   ],
   "source": [
    "##Define Highest Rated as observations that have at least 100 votes.\n",
    "HighestRated = HighRated[HighRated['numvotes'] > 100]\n",
    "HighestRated.describe()"
   ]
  },
  {
   "cell_type": "code",
   "execution_count": 40,
   "metadata": {},
   "outputs": [
    {
     "data": {
      "text/plain": [
       "<seaborn.axisgrid.FacetGrid at 0x21045b5a988>"
      ]
     },
     "execution_count": 40,
     "metadata": {},
     "output_type": "execute_result"
    },
    {
     "data": {
      "image/png": "[encoded data removed]",
      "text/plain": [
       "<Figure size 360x360 with 1 Axes>"
      ]
     },
     "metadata": {
      "needs_background": "light"
     },
     "output_type": "display_data"
    }
   ],
   "source": [
    "##Plot the data to ensure that what we're looking at makes sense\n",
    "sns.relplot(x='numvotes', y='averagerating', data = HighestRated)\n",
    "##Use seaborn's relplot function, defining x as average rating and y as numvotes\n",
    "##to see how change in x impacts y"
   ]
  },
  {
   "cell_type": "markdown",
   "metadata": {},
   "source": [
    "We used number of votes to eliminate the lower end outliers, since it doesn't take much for one person to give a movie a rating of 10. The results from that data would have distorted our desired results. We won't do anything more with the number of votes, but we can quickly observe here that only movies with ratings above 8 will garner more than 100,000 votes."
   ]
  },
  {
   "cell_type": "markdown",
   "metadata": {},
   "source": [
    "### Question 1: What is the runtime range for successful movies (rated higher than 7)?\n",
    "\n",
    "Our original business question asked us what the runtime range was for successful movies, and while we had specified successfull as a high rating, we weren't specific. After doing some exploratory data analysis on the relevant datasets, and reading the statistical summary. We observe that out of 10, the average rating maximum is 9.2, we can use the 75% threshold observed at average rating of 7 to guide our visualizations and analysis.\n",
    "\n",
    "Continuing to get the **runtime range**, we'll plot the data to get a sense of what we're looking at. We're going to keep average rating on the x axis, since the business goal has defined that as a variable that cannot move - we must produce a highly rated movie. We'll use the y axis for the independent variables like runtime minutes, and budget."
   ]
  },
  {
   "cell_type": "code",
   "execution_count": 41,
   "metadata": {},
   "outputs": [
    {
     "data": {
      "image/png": "[encoded data removed]",
      "text/plain": [
       "<Figure size 360x360 with 1 Axes>"
      ]
     },
     "metadata": {
      "needs_background": "light"
     },
     "output_type": "display_data"
    }
   ],
   "source": [
    "##Plot the data to get a general sense of what we're looking at\n",
    "sns.relplot(x = 'averagerating', y = 'runtime_minutes', data = HighestRated)\n",
    "plt.show()"
   ]
  },
  {
   "cell_type": "markdown",
   "metadata": {},
   "source": [
    "So we have a general image of what the raw data looks like. We're going to further clean up the visualization by placing it into larger \"bins\". And it looks like this data might benefit from a box plot. A box plot will best demonstrate the distribution of the data. "
   ]
  },
  {
   "cell_type": "code",
   "execution_count": 42,
   "metadata": {},
   "outputs": [
    {
     "name": "stderr",
     "output_type": "stream",
     "text": [
      "C:\\ProgramData\\Anaconda3\\lib\\site-packages\\ipykernel_launcher.py:1: SettingWithCopyWarning: \n",
      "A value is trying to be set on a copy of a slice from a DataFrame.\n",
      "Try using .loc[row_indexer,col_indexer] = value instead\n",
      "\n",
      "See the caveats in the documentation: https://pandas.pydata.org/pandas-docs/stable/user_guide/indexing.html#returning-a-view-versus-a-copy\n",
      "  \"\"\"Entry point for launching an IPython kernel.\n"
     ]
    }
   ],
   "source": [
    "HighestRated['Bins'] = pd.cut(HighestRated.averagerating, bins = [7.0,7.5,8.0,8.5,9.0], include_lowest = True)\n",
    "##First create new category called bins\n",
    "##Use pandas cut function to create new bins at appropriate intervals- looks like there's nothing above 9.0."
   ]
  },
  {
   "cell_type": "code",
   "execution_count": 43,
   "metadata": {},
   "outputs": [
    {
     "data": {
      "text/html": [
       "<div>\n",
       "<style scoped>\n",
       "    .dataframe tbody tr th:only-of-type {\n",
       "        vertical-align: middle;\n",
       "    }\n",
       "\n",
       "    .dataframe tbody tr th {\n",
       "        vertical-align: top;\n",
       "    }\n",
       "\n",
       "    .dataframe thead th {\n",
       "        text-align: right;\n",
       "    }\n",
       "</style>\n",
       "<table border=\"1\" class=\"dataframe\">\n",
       "  <thead>\n",
       "    <tr style=\"text-align: right;\">\n",
       "      <th></th>\n",
       "      <th>primary_title</th>\n",
       "      <th>runtime_minutes</th>\n",
       "      <th>averagerating</th>\n",
       "      <th>numvotes</th>\n",
       "      <th>production_budget</th>\n",
       "      <th>Bins</th>\n",
       "    </tr>\n",
       "  </thead>\n",
       "  <tbody>\n",
       "    <tr>\n",
       "      <th>6</th>\n",
       "      <td>The Secret Life of Walter Mitty</td>\n",
       "      <td>114.0</td>\n",
       "      <td>7.3</td>\n",
       "      <td>275300</td>\n",
       "      <td>91000000.0</td>\n",
       "      <td>(6.999, 7.5]</td>\n",
       "    </tr>\n",
       "    <tr>\n",
       "      <th>12</th>\n",
       "      <td>Tangled</td>\n",
       "      <td>100.0</td>\n",
       "      <td>7.8</td>\n",
       "      <td>366366</td>\n",
       "      <td>260000000.0</td>\n",
       "      <td>(7.5, 8.0]</td>\n",
       "    </tr>\n",
       "    <tr>\n",
       "      <th>18</th>\n",
       "      <td>Real Steel</td>\n",
       "      <td>127.0</td>\n",
       "      <td>7.1</td>\n",
       "      <td>283534</td>\n",
       "      <td>110000000.0</td>\n",
       "      <td>(6.999, 7.5]</td>\n",
       "    </tr>\n",
       "  </tbody>\n",
       "</table>\n",
       "</div>"
      ],
      "text/plain": [
       "                      primary_title  runtime_minutes  averagerating  numvotes  \\\n",
       "6   The Secret Life of Walter Mitty            114.0            7.3    275300   \n",
       "12                          Tangled            100.0            7.8    366366   \n",
       "18                       Real Steel            127.0            7.1    283534   \n",
       "\n",
       "    production_budget          Bins  \n",
       "6          91000000.0  (6.999, 7.5]  \n",
       "12        260000000.0    (7.5, 8.0]  \n",
       "18        110000000.0  (6.999, 7.5]  "
      ]
     },
     "execution_count": 43,
     "metadata": {},
     "output_type": "execute_result"
    }
   ],
   "source": [
    "HighestRated.head(3)\n",
    "##View the head to ensure the newly added bins data is accurate"
   ]
  },
  {
   "cell_type": "code",
   "execution_count": 44,
   "metadata": {},
   "outputs": [
    {
     "data": {
      "text/plain": [
       "(6.999, 7.5]    261\n",
       "(7.5, 8.0]      115\n",
       "(8.0, 8.5]       37\n",
       "(8.5, 9.0]        3\n",
       "Name: Bins, dtype: int64"
      ]
     },
     "execution_count": 44,
     "metadata": {},
     "output_type": "execute_result"
    }
   ],
   "source": [
    "HighestRated.Bins.value_counts()\n",
    "##Look at the value counts for bins before plotting visually"
   ]
  },
  {
   "cell_type": "code",
   "execution_count": 45,
   "metadata": {},
   "outputs": [
    {
     "data": {
      "text/plain": [
       "<matplotlib.axes._subplots.AxesSubplot at 0x2104853f508>"
      ]
     },
     "execution_count": 45,
     "metadata": {},
     "output_type": "execute_result"
    },
    {
     "data": {
      "image/png": "[encoded data removed]",
      "text/plain": [
       "<Figure size 432x288 with 1 Axes>"
      ]
     },
     "metadata": {
      "needs_background": "light"
     },
     "output_type": "display_data"
    }
   ],
   "source": [
    "HighestRated.groupby('Bins')['runtime_minutes'].mean().plot.bar()\n",
    "##Look at the means to determine if this will provide us with enough information to make an educated analysis."
   ]
  },
  {
   "cell_type": "code",
   "execution_count": 46,
   "metadata": {},
   "outputs": [
    {
     "data": {
      "text/plain": [
       "<matplotlib.axes._subplots.AxesSubplot at 0x210485a4208>"
      ]
     },
     "execution_count": 46,
     "metadata": {},
     "output_type": "execute_result"
    },
    {
     "data": {
      "image/png": "[encoded data removed]",
      "text/plain": [
       "<Figure size 432x288 with 1 Axes>"
      ]
     },
     "metadata": {
      "needs_background": "light"
     },
     "output_type": "display_data"
    }
   ],
   "source": [
    "sns.boxplot(x = 'Bins', y = 'runtime_minutes', data = HighestRated)\n",
    "##Use Seaborn's boxplot function to graph 'bins' (which was a grouping of Ratings) vs runtime minutes"
   ]
  },
  {
   "cell_type": "markdown",
   "metadata": {},
   "source": [
    "This boxplot Shows us relevant information that we can convey to our stakeholders. Our original business question: **What's the ideal runtime for a highly rated movie?**\n",
    "\n",
    "1. If we stick with the original instinctive threshold definition of \"highly rated\" as movies with 7+ rating, then **Microsoft could achieve that goal with a movie which ranges between 100 and 125 minutes, if they wanted to stay in the 7 - 8 rating,** and just produce a movie that people generally liked.\n",
    "\n",
    "One caveat I'd make with that recommendation, however, is that the box plot shows a very large gap of variance: from 80 minutes to 160 minutes, with outliers at 60 minutes and 170 minutes\n",
    "\n",
    "2. Noticing the box plot on the far right is even more enlightening - with lower variance, it shows us that movies that have achieved ratings between 8.5 and 9.0 have runtimes just under 140 minutes and just under 160 minutes. These would be the best movies (with over a certain quantity of ratings). **A second recommendation for Microsoft, then would be to produce a movie that is between 140 minutes and 160 minutes long, if they want to \"go for the gold\" and produce an \"excellent\" movie.**\n",
    "\n",
    "The caveat here again, would be that these would be amongst the *best* movies. It's possible that Microsoft is able to produce a top-seller as their first. I would leave it up to the management team to decide which range they found optimal.\n",
    "\n",
    "3. Finally, looking at the 8 - 8.5 range, it looks like the majority of these movies are about 110 minutes to 150 minutes. The variance is slightly less than the 7 - 8 range; however, it's not as small as the 8.5 - 9 range for average ratings. This would give us a \"Goldilocks\" (just right) range. I would leave the final decision up to the Microsoft management team, but it looks like **the ideal runtime range for a successful first movie is 110 minutes to 150 minutes.** This gives enough overlap between both the \"good enough\" range and the \"excellent\" range.\n",
    "\n",
    "This of course is a wide range. However, given the multiple factors affecting the data, and other business factors beyond the scope of this analysis, I think it would be smart to allow the Microsoft management team some flexibility and options in order to weigh the pros and cons with more context."
   ]
  },
  {
   "cell_type": "markdown",
   "metadata": {},
   "source": [
    "Before we present this data, however, we'll clean up the visualization using seaborn in order to make a clearer case and not distract the decisionmakers with details."
   ]
  },
  {
   "cell_type": "code",
   "execution_count": 47,
   "metadata": {},
   "outputs": [
    {
     "data": {
      "image/png": "[encoded data removed]",
      "text/plain": [
       "<Figure size 432x288 with 1 Axes>"
      ]
     },
     "metadata": {
      "needs_background": "light"
     },
     "output_type": "display_data"
    }
   ],
   "source": [
    "HighestRatedPlot = sns.boxplot(x = 'Bins', y = 'runtime_minutes', data = HighestRated, showfliers=False)\n",
    "##Create boxplot, using bins as x-axis, runtime minutes as y-axis, HighestRated data, and elminating outliers\n",
    "HighestRatedPlot.set_ylabel('Runtime in Minutes')\n",
    "##Label y-axis 'Runtime in Minutes'\n",
    "HighestRatedPlot.set_xlabel('Ratings')\n",
    "##Label x-axis 'Ratings'\n",
    "plt.title('Runtime Range of Highly IMDB Rated Movies')\n",
    "##Title the plot 'Runtime of Highly IMDB Rated Movies'\n",
    "HighestRatedPlot.set_xticklabels(['7-7.5','7.5-8', '8-8.5', '8.5-9'])\n",
    "#Label the x-axis intervals\n",
    "plt.show()\n",
    "##Show plot without numbers on top"
   ]
  },
  {
   "cell_type": "markdown",
   "metadata": {},
   "source": [
    "### Question 2: What is the optimal budget for a highly rated movie?\n"
   ]
  },
  {
   "cell_type": "markdown",
   "metadata": {},
   "source": [
    "Now we must answer the second business question. Fortunately, the question was formulated based on similarly dependent data, so we don't need to do anymore data manipulation than we've already done. In fact, we'll use the \"HighestRated\" data set as-is. \n",
    "\n",
    "Since we've made analytical progress in being able to determine certain ranges for Microsoft to enter, it will be worth using these ranges to also answer the **question of budget**. So, again maintaining rating on the x-axis, we'll do the same analysis, but with production budget on the y-axis instead of runtime in minutes."
   ]
  },
  {
   "cell_type": "code",
   "execution_count": 48,
   "metadata": {},
   "outputs": [
    {
     "data": {
      "text/plain": [
       "<seaborn.axisgrid.PairGrid at 0x2104874e8c8>"
      ]
     },
     "execution_count": 48,
     "metadata": {},
     "output_type": "execute_result"
    },
    {
     "data": {
      "image/png": "[encoded data removed]",
      "text/plain": [
       "<Figure size 814.75x720 with 20 Axes>"
      ]
     },
     "metadata": {
      "needs_background": "light"
     },
     "output_type": "display_data"
    }
   ],
   "source": [
    "sns.pairplot(HighestRated, hue = 'Bins')\n",
    "##Get an overall view of the relationship betweeen the ratings bins we created and the other variables\n",
    "##We do this using the seaborn pairplot function"
   ]
  },
  {
   "cell_type": "code",
   "execution_count": 49,
   "metadata": {},
   "outputs": [
    {
     "data": {
      "image/png": "[encoded data removed]",
      "text/plain": [
       "<Figure size 432x288 with 1 Axes>"
      ]
     },
     "metadata": {
      "needs_background": "light"
     },
     "output_type": "display_data"
    }
   ],
   "source": [
    "HighestRated.groupby('Bins')['production_budget'].mean().plot.bar()\n",
    "plt.show()\n",
    "##Plot ratings to see where budgets lie generally"
   ]
  },
  {
   "cell_type": "markdown",
   "metadata": {},
   "source": [
    "Here, we can make the general conclusion that, for the mean of the production budgets in each bin that we've created (7-10 at intervals of .5), the excellent movies are, unsurprisingly, really expensive. Considerably more expensive to the previous movies. \n",
    "\n",
    "However, we can also make notice the big jump from the 8.0 - 8.5 rating range to the 8.5 - 9.0 rating range. Given that, it might make sense for us to recommend a budget that is reasonable for Microsoft. But let's find a way to demonstrate this to them. Again, since we are working with range as our desired, output, a box plot would most efficiently demonstrate that."
   ]
  },
  {
   "cell_type": "code",
   "execution_count": 50,
   "metadata": {},
   "outputs": [
    {
     "data": {
      "image/png": "[encoded data removed]",
      "text/plain": [
       "<Figure size 432x288 with 1 Axes>"
      ]
     },
     "metadata": {
      "needs_background": "light"
     },
     "output_type": "display_data"
    }
   ],
   "source": [
    "BudgetPlot = sns.boxplot(x = 'Bins', y = 'production_budget', data = HighestRated)\n",
    "##Create a boxplot using seaborn which uses the Bins we previously created (rating groups) on the x-axis\n",
    "##Place production budget on the y-xis, using HighestRated dataset"
   ]
  },
  {
   "cell_type": "markdown",
   "metadata": {},
   "source": [
    "Visualizing this in box plots gives us a better idea of the range of each subset of ratings. The initial grouping of 7-7.5 doesn't really tell us too much...while the box itself shows a range between 0 and .5 (hundreds of million dollars), the variance goes just past 100 million dollars, and then has lots of outliers above that. The interesting information here is the subset of movies that make it into the \"excellent\" range - between 8.5 and 9.0 ratings. The best range of thes movies is between  100 and 150 million dollars. \n",
    "\n",
    "Combining the information derived from visualizing the production budgets data with the information derived from the movie length, we can again make two recommendations to Microsoft regarding the budget range to set aside and give to the project manager when they start:\n",
    "\n",
    "1. For good movies, including the \"Goldilocks\" range we defined earlier between 8 and 8.5, Microsoft **can get away with spending less than a hundred million dollars.**\n",
    "\n",
    "2. However, for truly **excellent movies with ratings 8.5+**, Microsoft would have to spend **between 100 and 150 million dollars**.\n",
    "\n",
    "Let's provide a cleaner visualization to demonstrate this."
   ]
  },
  {
   "cell_type": "code",
   "execution_count": 51,
   "metadata": {},
   "outputs": [
    {
     "name": "stderr",
     "output_type": "stream",
     "text": [
      "C:\\ProgramData\\Anaconda3\\lib\\site-packages\\ipykernel_launcher.py:1: SettingWithCopyWarning: \n",
      "A value is trying to be set on a copy of a slice from a DataFrame.\n",
      "Try using .loc[row_indexer,col_indexer] = value instead\n",
      "\n",
      "See the caveats in the documentation: https://pandas.pydata.org/pandas-docs/stable/user_guide/indexing.html#returning-a-view-versus-a-copy\n",
      "  \"\"\"Entry point for launching an IPython kernel.\n"
     ]
    }
   ],
   "source": [
    "HighestRated['Budget'] = HighestRated.production_budget/1e6\n",
    "##Modify budget column by dividing by 1 million to display cleaner numbers"
   ]
  },
  {
   "cell_type": "code",
   "execution_count": 52,
   "metadata": {},
   "outputs": [
    {
     "data": {
      "text/html": [
       "<div>\n",
       "<style scoped>\n",
       "    .dataframe tbody tr th:only-of-type {\n",
       "        vertical-align: middle;\n",
       "    }\n",
       "\n",
       "    .dataframe tbody tr th {\n",
       "        vertical-align: top;\n",
       "    }\n",
       "\n",
       "    .dataframe thead th {\n",
       "        text-align: right;\n",
       "    }\n",
       "</style>\n",
       "<table border=\"1\" class=\"dataframe\">\n",
       "  <thead>\n",
       "    <tr style=\"text-align: right;\">\n",
       "      <th></th>\n",
       "      <th>primary_title</th>\n",
       "      <th>runtime_minutes</th>\n",
       "      <th>averagerating</th>\n",
       "      <th>numvotes</th>\n",
       "      <th>production_budget</th>\n",
       "      <th>Bins</th>\n",
       "      <th>Budget</th>\n",
       "    </tr>\n",
       "  </thead>\n",
       "  <tbody>\n",
       "    <tr>\n",
       "      <th>6</th>\n",
       "      <td>The Secret Life of Walter Mitty</td>\n",
       "      <td>114.0</td>\n",
       "      <td>7.3</td>\n",
       "      <td>275300</td>\n",
       "      <td>91000000.0</td>\n",
       "      <td>(6.999, 7.5]</td>\n",
       "      <td>91.0</td>\n",
       "    </tr>\n",
       "    <tr>\n",
       "      <th>12</th>\n",
       "      <td>Tangled</td>\n",
       "      <td>100.0</td>\n",
       "      <td>7.8</td>\n",
       "      <td>366366</td>\n",
       "      <td>260000000.0</td>\n",
       "      <td>(7.5, 8.0]</td>\n",
       "      <td>260.0</td>\n",
       "    </tr>\n",
       "    <tr>\n",
       "      <th>18</th>\n",
       "      <td>Real Steel</td>\n",
       "      <td>127.0</td>\n",
       "      <td>7.1</td>\n",
       "      <td>283534</td>\n",
       "      <td>110000000.0</td>\n",
       "      <td>(6.999, 7.5]</td>\n",
       "      <td>110.0</td>\n",
       "    </tr>\n",
       "    <tr>\n",
       "      <th>20</th>\n",
       "      <td>Toy Story 3</td>\n",
       "      <td>103.0</td>\n",
       "      <td>8.3</td>\n",
       "      <td>682218</td>\n",
       "      <td>200000000.0</td>\n",
       "      <td>(8.0, 8.5]</td>\n",
       "      <td>200.0</td>\n",
       "    </tr>\n",
       "    <tr>\n",
       "      <th>21</th>\n",
       "      <td>Alita: Battle Angel</td>\n",
       "      <td>122.0</td>\n",
       "      <td>7.5</td>\n",
       "      <td>88207</td>\n",
       "      <td>170000000.0</td>\n",
       "      <td>(6.999, 7.5]</td>\n",
       "      <td>170.0</td>\n",
       "    </tr>\n",
       "  </tbody>\n",
       "</table>\n",
       "</div>"
      ],
      "text/plain": [
       "                      primary_title  runtime_minutes  averagerating  numvotes  \\\n",
       "6   The Secret Life of Walter Mitty            114.0            7.3    275300   \n",
       "12                          Tangled            100.0            7.8    366366   \n",
       "18                       Real Steel            127.0            7.1    283534   \n",
       "20                      Toy Story 3            103.0            8.3    682218   \n",
       "21              Alita: Battle Angel            122.0            7.5     88207   \n",
       "\n",
       "    production_budget          Bins  Budget  \n",
       "6          91000000.0  (6.999, 7.5]    91.0  \n",
       "12        260000000.0    (7.5, 8.0]   260.0  \n",
       "18        110000000.0  (6.999, 7.5]   110.0  \n",
       "20        200000000.0    (8.0, 8.5]   200.0  \n",
       "21        170000000.0  (6.999, 7.5]   170.0  "
      ]
     },
     "execution_count": 52,
     "metadata": {},
     "output_type": "execute_result"
    }
   ],
   "source": [
    "HighestRated.head()\n",
    "##View the header to make sure the new column added correctly\n",
    "##Be sure when displaying/labeling data that it reflects this modification"
   ]
  },
  {
   "cell_type": "code",
   "execution_count": 53,
   "metadata": {},
   "outputs": [
    {
     "data": {
      "image/png": "[encoded data removed]",
      "text/plain": [
       "<Figure size 432x288 with 1 Axes>"
      ]
     },
     "metadata": {
      "needs_background": "light"
     },
     "output_type": "display_data"
    }
   ],
   "source": [
    "BudgetPlotMillions = sns.boxplot(x='Bins', y='Budget', data=HighestRated, showfliers=False)\n",
    "BudgetPlotMillions.set_ylabel('Budget in Millions of $')\n",
    "##Label y-axis 'Budget in Millions of $'\n",
    "BudgetPlotMillions.set_xlabel('Ratings')\n",
    "##Label x-axis 'Ratings'\n",
    "plt.title('Budget Range of Highly IMDB Rated Movies')\n",
    "##Title the plot 'Budget Range of Highly IMDB Rated Movies'\n",
    "BudgetPlotMillions.set_xticklabels(['7-7.5','7.5-8', '8-8.5', '8.5-9'])\n",
    "#Label the x-axis intervals\n",
    "\n",
    "plt.show()"
   ]
  },
  {
   "cell_type": "markdown",
   "metadata": {},
   "source": [
    "## Conclusion\n",
    "\n",
    "To summarize the analytical process, we went through the following steps:\n",
    "\n",
    "##### 1. Business Understanding\n",
    "Formulated 2 specific answerable questions from Microsoft's proposition to make an entrance into the movie industry:\n",
    "1. What is the optimal runtime range to create a highly rated movie?\n",
    "\n",
    "2. What is the optimal budget range to create a highly rated movie?\n",
    "\n",
    "\n",
    "##### 2. Data Understanding\n",
    "After focusing those questions, we looked at the data we had and the data that would be necessary in order to best answer those questions. We determined that we would need the following:\n",
    "\n",
    "1. Ratings\n",
    "2. Budgets\n",
    "3. Lengths\n",
    "4. Titles\n",
    "\n",
    "Based on these needs, we seleced three datasets: two from IMDB and one from The Numbers website. \n",
    "\n",
    "##### 3. Data Preparation\n",
    "\n",
    "After deciding on and collecting the proper data, we cleaned it up using pandas in order to present the clearest case to Microsoft. Of course, in each modification we acknowledge the trade-offs we make between clean data and complete data (incomplete information, outliers, etc.). \n",
    "\n",
    "Once the data was cleaned, we could merge the two datasets into one simple dataset that would most efficienty show Microsoft the information they sought. So we used pandas to clean and handle the IMDB databases, merging based on the 'tconst' index which was present in both. After that, we merged the IMDB data with The Numbers data. This provided an easier dataset to work with in the next step, despite the potential loss for nuance due to data loss from duplicates, incomplete values, etc.\n",
    "\n",
    "##### 4. Visualizations\n",
    "\n",
    "The point of the data preparation was to prepare it for efficient analysis. The most efficient analysis occurred when we could glean information from the visualizations we create, not just the numbers and summary information given by python. \n",
    "\n",
    "So we returned to our business questions to guide this process. After initially looking at the brief overview visualizations, we could refine our business questions by more narrowly defining \"highly rated\" to 7+, with at least 100 ratings. We used matplotlib's pyplot library combined with seaborn (which is based on that library) to quickly generate these broad visualizations. After some cleanup and labeling, the visualizations allowed us to then analyze the data more effectively and provide more in-depth answers to our original business questions.\n",
    "\n",
    "\n",
    "##### 5. Recommendations\n",
    "\n",
    "The visualizations made the delivery of a customized solution to Microsoft easy:\n",
    "\n",
    "1. Optimal runtime length is 100 - 125 minutes for the basic option (7-8 rating), 140 - 160 minutes for the premium option, and 110 - 150 minutes for the upgrade option. We provided these options so that Microsoft has the flexibility to design their investment later on down the road.\n",
    "\n",
    "2. Optimal budget could be 25 million dollars to 100 million dollars, for the basic option or the upgrade option. The premium option would require an investment jump between 100 and 150 million dollars.\n",
    "\n",
    "\n",
    "The obvious caveat is that this is just one very small pixel in the larger image that must define Microsoft's investment into the movie industry. They should ask themselves further questions including, but not limited to:\n",
    "\n",
    "1. Content\n",
    "2. Competition\n",
    "3. Competitive Advantages\n",
    "4. Covid19\n"
   ]
  }
 ],
 "metadata": {
  "celltoolbar": "Raw Cell Format",
  "kernelspec": {
   "display_name": "Python 3",
   "language": "python",
   "name": "python3"
  },
  "language_info": {
   "codemirror_mode": {
    "name": "ipython",
    "version": 3
   },
   "file_extension": ".py",
   "mimetype": "text/x-python",
   "name": "python",
   "nbconvert_exporter": "python",
   "pygments_lexer": "ipython3",
   "version": "3.7.6"
  }
 },
 "nbformat": 4,
 "nbformat_minor": 4
}
